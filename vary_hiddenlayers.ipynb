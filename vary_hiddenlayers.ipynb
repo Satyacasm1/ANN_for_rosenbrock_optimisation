{
 "cells": [
  {
   "cell_type": "code",
   "execution_count": 56,
   "id": "81257503",
   "metadata": {},
   "outputs": [
    {
     "data": {
      "text/html": [
       "<div>\n",
       "<style scoped>\n",
       "    .dataframe tbody tr th:only-of-type {\n",
       "        vertical-align: middle;\n",
       "    }\n",
       "\n",
       "    .dataframe tbody tr th {\n",
       "        vertical-align: top;\n",
       "    }\n",
       "\n",
       "    .dataframe thead th {\n",
       "        text-align: right;\n",
       "    }\n",
       "</style>\n",
       "<table border=\"1\" class=\"dataframe\">\n",
       "  <thead>\n",
       "    <tr style=\"text-align: right;\">\n",
       "      <th></th>\n",
       "      <th>Unnamed: 0</th>\n",
       "      <th>0</th>\n",
       "      <th>1</th>\n",
       "      <th>2</th>\n",
       "      <th>3</th>\n",
       "      <th>4</th>\n",
       "      <th>5</th>\n",
       "      <th>6</th>\n",
       "      <th>7</th>\n",
       "      <th>8</th>\n",
       "      <th>9</th>\n",
       "    </tr>\n",
       "  </thead>\n",
       "  <tbody>\n",
       "    <tr>\n",
       "      <th>0</th>\n",
       "      <td>0</td>\n",
       "      <td>0.486881</td>\n",
       "      <td>-0.773397</td>\n",
       "      <td>-0.050534</td>\n",
       "      <td>0.084568</td>\n",
       "      <td>-0.032604</td>\n",
       "      <td>-0.736818</td>\n",
       "      <td>0.295694</td>\n",
       "      <td>0.497740</td>\n",
       "      <td>-0.561831</td>\n",
       "      <td>298.125329</td>\n",
       "    </tr>\n",
       "    <tr>\n",
       "      <th>1</th>\n",
       "      <td>1</td>\n",
       "      <td>0.629629</td>\n",
       "      <td>0.957705</td>\n",
       "      <td>-0.659850</td>\n",
       "      <td>0.121552</td>\n",
       "      <td>0.824153</td>\n",
       "      <td>0.828809</td>\n",
       "      <td>-0.006234</td>\n",
       "      <td>0.237842</td>\n",
       "      <td>0.895073</td>\n",
       "      <td>487.138146</td>\n",
       "    </tr>\n",
       "    <tr>\n",
       "      <th>2</th>\n",
       "      <td>2</td>\n",
       "      <td>-0.712852</td>\n",
       "      <td>0.948625</td>\n",
       "      <td>0.572676</td>\n",
       "      <td>0.660235</td>\n",
       "      <td>-0.214652</td>\n",
       "      <td>0.542341</td>\n",
       "      <td>-0.398283</td>\n",
       "      <td>-0.982550</td>\n",
       "      <td>-0.914472</td>\n",
       "      <td>650.471675</td>\n",
       "    </tr>\n",
       "    <tr>\n",
       "      <th>3</th>\n",
       "      <td>3</td>\n",
       "      <td>-0.432045</td>\n",
       "      <td>0.884390</td>\n",
       "      <td>-0.044217</td>\n",
       "      <td>-0.804677</td>\n",
       "      <td>-0.516557</td>\n",
       "      <td>0.775618</td>\n",
       "      <td>-0.645234</td>\n",
       "      <td>0.445783</td>\n",
       "      <td>0.959935</td>\n",
       "      <td>568.687717</td>\n",
       "    </tr>\n",
       "    <tr>\n",
       "      <th>4</th>\n",
       "      <td>4</td>\n",
       "      <td>0.179924</td>\n",
       "      <td>0.043875</td>\n",
       "      <td>0.216944</td>\n",
       "      <td>-0.876370</td>\n",
       "      <td>-0.753894</td>\n",
       "      <td>0.685081</td>\n",
       "      <td>0.842100</td>\n",
       "      <td>0.230466</td>\n",
       "      <td>-0.526571</td>\n",
       "      <td>402.819802</td>\n",
       "    </tr>\n",
       "    <tr>\n",
       "      <th>...</th>\n",
       "      <td>...</td>\n",
       "      <td>...</td>\n",
       "      <td>...</td>\n",
       "      <td>...</td>\n",
       "      <td>...</td>\n",
       "      <td>...</td>\n",
       "      <td>...</td>\n",
       "      <td>...</td>\n",
       "      <td>...</td>\n",
       "      <td>...</td>\n",
       "      <td>...</td>\n",
       "    </tr>\n",
       "    <tr>\n",
       "      <th>2495</th>\n",
       "      <td>2495</td>\n",
       "      <td>0.467579</td>\n",
       "      <td>-0.860763</td>\n",
       "      <td>0.800176</td>\n",
       "      <td>-0.560314</td>\n",
       "      <td>-0.392197</td>\n",
       "      <td>0.018670</td>\n",
       "      <td>-0.938476</td>\n",
       "      <td>-0.842295</td>\n",
       "      <td>-0.976001</td>\n",
       "      <td>998.068631</td>\n",
       "    </tr>\n",
       "    <tr>\n",
       "      <th>2496</th>\n",
       "      <td>2496</td>\n",
       "      <td>0.833969</td>\n",
       "      <td>-0.392949</td>\n",
       "      <td>0.347030</td>\n",
       "      <td>-0.678596</td>\n",
       "      <td>0.920039</td>\n",
       "      <td>-0.584858</td>\n",
       "      <td>-0.387439</td>\n",
       "      <td>-0.669473</td>\n",
       "      <td>0.843922</td>\n",
       "      <td>560.507127</td>\n",
       "    </tr>\n",
       "    <tr>\n",
       "      <th>2497</th>\n",
       "      <td>2497</td>\n",
       "      <td>0.202129</td>\n",
       "      <td>-0.514602</td>\n",
       "      <td>0.105609</td>\n",
       "      <td>-0.849493</td>\n",
       "      <td>0.763000</td>\n",
       "      <td>0.491210</td>\n",
       "      <td>0.295731</td>\n",
       "      <td>-0.483899</td>\n",
       "      <td>-0.334942</td>\n",
       "      <td>183.950358</td>\n",
       "    </tr>\n",
       "    <tr>\n",
       "      <th>2498</th>\n",
       "      <td>2498</td>\n",
       "      <td>-0.176911</td>\n",
       "      <td>-0.005577</td>\n",
       "      <td>-0.846307</td>\n",
       "      <td>0.465155</td>\n",
       "      <td>0.474745</td>\n",
       "      <td>0.610356</td>\n",
       "      <td>-0.262790</td>\n",
       "      <td>0.604143</td>\n",
       "      <td>-0.765866</td>\n",
       "      <td>304.714127</td>\n",
       "    </tr>\n",
       "    <tr>\n",
       "      <th>2499</th>\n",
       "      <td>2499</td>\n",
       "      <td>0.599377</td>\n",
       "      <td>0.161560</td>\n",
       "      <td>0.153107</td>\n",
       "      <td>-0.607970</td>\n",
       "      <td>0.273184</td>\n",
       "      <td>-0.578427</td>\n",
       "      <td>0.575376</td>\n",
       "      <td>-0.529609</td>\n",
       "      <td>0.688512</td>\n",
       "      <td>195.195446</td>\n",
       "    </tr>\n",
       "  </tbody>\n",
       "</table>\n",
       "<p>2500 rows × 11 columns</p>\n",
       "</div>"
      ],
      "text/plain": [
       "      Unnamed: 0         0         1         2         3         4         5  \\\n",
       "0              0  0.486881 -0.773397 -0.050534  0.084568 -0.032604 -0.736818   \n",
       "1              1  0.629629  0.957705 -0.659850  0.121552  0.824153  0.828809   \n",
       "2              2 -0.712852  0.948625  0.572676  0.660235 -0.214652  0.542341   \n",
       "3              3 -0.432045  0.884390 -0.044217 -0.804677 -0.516557  0.775618   \n",
       "4              4  0.179924  0.043875  0.216944 -0.876370 -0.753894  0.685081   \n",
       "...          ...       ...       ...       ...       ...       ...       ...   \n",
       "2495        2495  0.467579 -0.860763  0.800176 -0.560314 -0.392197  0.018670   \n",
       "2496        2496  0.833969 -0.392949  0.347030 -0.678596  0.920039 -0.584858   \n",
       "2497        2497  0.202129 -0.514602  0.105609 -0.849493  0.763000  0.491210   \n",
       "2498        2498 -0.176911 -0.005577 -0.846307  0.465155  0.474745  0.610356   \n",
       "2499        2499  0.599377  0.161560  0.153107 -0.607970  0.273184 -0.578427   \n",
       "\n",
       "             6         7         8           9  \n",
       "0     0.295694  0.497740 -0.561831  298.125329  \n",
       "1    -0.006234  0.237842  0.895073  487.138146  \n",
       "2    -0.398283 -0.982550 -0.914472  650.471675  \n",
       "3    -0.645234  0.445783  0.959935  568.687717  \n",
       "4     0.842100  0.230466 -0.526571  402.819802  \n",
       "...        ...       ...       ...         ...  \n",
       "2495 -0.938476 -0.842295 -0.976001  998.068631  \n",
       "2496 -0.387439 -0.669473  0.843922  560.507127  \n",
       "2497  0.295731 -0.483899 -0.334942  183.950358  \n",
       "2498 -0.262790  0.604143 -0.765866  304.714127  \n",
       "2499  0.575376 -0.529609  0.688512  195.195446  \n",
       "\n",
       "[2500 rows x 11 columns]"
      ]
     },
     "execution_count": 56,
     "metadata": {},
     "output_type": "execute_result"
    }
   ],
   "source": [
    "#Reading the data from the excel file created in the previous step\n",
    "import pandas as pd\n",
    "data1=pd.read_excel('C:\\\\Users\\\\satya\\\\rosenbrock.xlsx')\n",
    "data1"
   ]
  },
  {
   "cell_type": "code",
   "execution_count": 57,
   "id": "b1ba5ca7",
   "metadata": {},
   "outputs": [],
   "source": [
    "#Normalizing the data\n",
    "from sklearn.preprocessing import MinMaxScaler\n",
    "scaler=MinMaxScaler()\n",
    "scaled_data=scaler.fit_transform(data1.values)"
   ]
  },
  {
   "cell_type": "code",
   "execution_count": 58,
   "id": "f7d962c4",
   "metadata": {},
   "outputs": [],
   "source": [
    "X=scaled_data[:,1:10]\n",
    "y=scaled_data[:,10]"
   ]
  },
  {
   "cell_type": "code",
   "execution_count": 59,
   "id": "73c29c6c",
   "metadata": {},
   "outputs": [],
   "source": [
    "#Splitting the data\n",
    "from sklearn.model_selection import train_test_split\n",
    "X_train,X_test,y_train,y_test=train_test_split(X,y,test_size=0.15,random_state=0) #Random state: to obtain the same data every time we run kernel"
   ]
  },
  {
   "cell_type": "code",
   "execution_count": 60,
   "id": "521af270",
   "metadata": {},
   "outputs": [
    {
     "data": {
      "text/plain": [
       "(2125, 9)"
      ]
     },
     "execution_count": 60,
     "metadata": {},
     "output_type": "execute_result"
    }
   ],
   "source": [
    "X_train.shape #to know the size of the data"
   ]
  },
  {
   "cell_type": "code",
   "execution_count": 61,
   "id": "a155e56e",
   "metadata": {},
   "outputs": [],
   "source": [
    "#Creating sequential ANN model\n",
    "from tensorflow.keras import Sequential\n",
    "from tensorflow.keras.layers import Dense"
   ]
  },
  {
   "cell_type": "markdown",
   "id": "bd602683",
   "metadata": {},
   "source": [
    "ITERATION 1 (Single hidden layer)"
   ]
  },
  {
   "cell_type": "code",
   "execution_count": 62,
   "id": "df8d67ee",
   "metadata": {},
   "outputs": [],
   "source": [
    "#Creating ANN with mentioned nodes, hidden layers and activation function\n",
    "model=Sequential()\n",
    "model.add(Dense(100,input_dim=9,activation='relu'))\n",
    "model.add(Dense(1,activation='linear'))"
   ]
  },
  {
   "cell_type": "code",
   "execution_count": 63,
   "id": "746b1383",
   "metadata": {
    "scrolled": true
   },
   "outputs": [
    {
     "name": "stdout",
     "output_type": "stream",
     "text": [
      "Model: \"sequential_4\"\n",
      "_________________________________________________________________\n",
      " Layer (type)                Output Shape              Param #   \n",
      "=================================================================\n",
      " dense_13 (Dense)            (None, 100)               1000      \n",
      "                                                                 \n",
      " dense_14 (Dense)            (None, 1)                 101       \n",
      "                                                                 \n",
      "=================================================================\n",
      "Total params: 1,101\n",
      "Trainable params: 1,101\n",
      "Non-trainable params: 0\n",
      "_________________________________________________________________\n",
      "None\n"
     ]
    }
   ],
   "source": [
    "print(model.summary())"
   ]
  },
  {
   "cell_type": "code",
   "execution_count": 64,
   "id": "68295a96",
   "metadata": {},
   "outputs": [],
   "source": [
    "#Training the ANN using adam optimiser and MSE loss f.\n",
    "model.compile(optimizer='adam',loss='MSE')"
   ]
  },
  {
   "cell_type": "code",
   "execution_count": 65,
   "id": "58ae5254",
   "metadata": {
    "scrolled": true
   },
   "outputs": [
    {
     "name": "stdout",
     "output_type": "stream",
     "text": [
      "Epoch 1/100\n",
      "57/57 [==============================] - 1s 5ms/step - loss: 0.0478 - val_loss: 0.0289\n",
      "Epoch 2/100\n",
      "57/57 [==============================] - 0s 3ms/step - loss: 0.0227 - val_loss: 0.0193\n",
      "Epoch 3/100\n",
      "57/57 [==============================] - 0s 2ms/step - loss: 0.0159 - val_loss: 0.0146\n",
      "Epoch 4/100\n",
      "57/57 [==============================] - 0s 2ms/step - loss: 0.0127 - val_loss: 0.0122\n",
      "Epoch 5/100\n",
      "57/57 [==============================] - 0s 2ms/step - loss: 0.0113 - val_loss: 0.0110\n",
      "Epoch 6/100\n",
      "57/57 [==============================] - 0s 2ms/step - loss: 0.0104 - val_loss: 0.0105\n",
      "Epoch 7/100\n",
      "57/57 [==============================] - 0s 2ms/step - loss: 0.0097 - val_loss: 0.0099\n",
      "Epoch 8/100\n",
      "57/57 [==============================] - 0s 2ms/step - loss: 0.0091 - val_loss: 0.0096\n",
      "Epoch 9/100\n",
      "57/57 [==============================] - 0s 3ms/step - loss: 0.0088 - val_loss: 0.0091\n",
      "Epoch 10/100\n",
      "57/57 [==============================] - 0s 3ms/step - loss: 0.0085 - val_loss: 0.0088\n",
      "Epoch 11/100\n",
      "57/57 [==============================] - 0s 2ms/step - loss: 0.0080 - val_loss: 0.0084\n",
      "Epoch 12/100\n",
      "57/57 [==============================] - 0s 2ms/step - loss: 0.0078 - val_loss: 0.0081\n",
      "Epoch 13/100\n",
      "57/57 [==============================] - 0s 2ms/step - loss: 0.0075 - val_loss: 0.0079\n",
      "Epoch 14/100\n",
      "57/57 [==============================] - 0s 1ms/step - loss: 0.0072 - val_loss: 0.0076\n",
      "Epoch 15/100\n",
      "57/57 [==============================] - 0s 2ms/step - loss: 0.0070 - val_loss: 0.0073\n",
      "Epoch 16/100\n",
      "57/57 [==============================] - 0s 2ms/step - loss: 0.0065 - val_loss: 0.0071\n",
      "Epoch 17/100\n",
      "57/57 [==============================] - 0s 2ms/step - loss: 0.0064 - val_loss: 0.0070\n",
      "Epoch 18/100\n",
      "57/57 [==============================] - 0s 2ms/step - loss: 0.0062 - val_loss: 0.0066\n",
      "Epoch 19/100\n",
      "57/57 [==============================] - 0s 2ms/step - loss: 0.0060 - val_loss: 0.0067\n",
      "Epoch 20/100\n",
      "57/57 [==============================] - 0s 2ms/step - loss: 0.0058 - val_loss: 0.0063\n",
      "Epoch 21/100\n",
      "57/57 [==============================] - 0s 1ms/step - loss: 0.0056 - val_loss: 0.0059\n",
      "Epoch 22/100\n",
      "57/57 [==============================] - 0s 2ms/step - loss: 0.0054 - val_loss: 0.0062\n",
      "Epoch 23/100\n",
      "57/57 [==============================] - 0s 2ms/step - loss: 0.0052 - val_loss: 0.0060\n",
      "Epoch 24/100\n",
      "57/57 [==============================] - 0s 2ms/step - loss: 0.0048 - val_loss: 0.0056\n",
      "Epoch 25/100\n",
      "57/57 [==============================] - 0s 1ms/step - loss: 0.0048 - val_loss: 0.0055\n",
      "Epoch 26/100\n",
      "57/57 [==============================] - 0s 2ms/step - loss: 0.0045 - val_loss: 0.0052\n",
      "Epoch 27/100\n",
      "57/57 [==============================] - 0s 1ms/step - loss: 0.0043 - val_loss: 0.0052\n",
      "Epoch 28/100\n",
      "57/57 [==============================] - 0s 2ms/step - loss: 0.0042 - val_loss: 0.0049\n",
      "Epoch 29/100\n",
      "57/57 [==============================] - 0s 1ms/step - loss: 0.0041 - val_loss: 0.0046\n",
      "Epoch 30/100\n",
      "57/57 [==============================] - 0s 2ms/step - loss: 0.0040 - val_loss: 0.0045\n",
      "Epoch 31/100\n",
      "57/57 [==============================] - 0s 2ms/step - loss: 0.0038 - val_loss: 0.0044\n",
      "Epoch 32/100\n",
      "57/57 [==============================] - 0s 1ms/step - loss: 0.0036 - val_loss: 0.0041\n",
      "Epoch 33/100\n",
      "57/57 [==============================] - 0s 2ms/step - loss: 0.0035 - val_loss: 0.0041\n",
      "Epoch 34/100\n",
      "57/57 [==============================] - 0s 1ms/step - loss: 0.0034 - val_loss: 0.0040\n",
      "Epoch 35/100\n",
      "57/57 [==============================] - 0s 2ms/step - loss: 0.0033 - val_loss: 0.0040\n",
      "Epoch 36/100\n",
      "57/57 [==============================] - 0s 2ms/step - loss: 0.0032 - val_loss: 0.0040\n",
      "Epoch 37/100\n",
      "57/57 [==============================] - 0s 1ms/step - loss: 0.0031 - val_loss: 0.0040\n",
      "Epoch 38/100\n",
      "57/57 [==============================] - 0s 2ms/step - loss: 0.0030 - val_loss: 0.0038\n",
      "Epoch 39/100\n",
      "57/57 [==============================] - 0s 2ms/step - loss: 0.0029 - val_loss: 0.0037\n",
      "Epoch 40/100\n",
      "57/57 [==============================] - 0s 1ms/step - loss: 0.0028 - val_loss: 0.0035\n",
      "Epoch 41/100\n",
      "57/57 [==============================] - 0s 1ms/step - loss: 0.0027 - val_loss: 0.0036\n",
      "Epoch 42/100\n",
      "57/57 [==============================] - 0s 1ms/step - loss: 0.0026 - val_loss: 0.0033\n",
      "Epoch 43/100\n",
      "57/57 [==============================] - 0s 1ms/step - loss: 0.0025 - val_loss: 0.0035\n",
      "Epoch 44/100\n",
      "57/57 [==============================] - 0s 1ms/step - loss: 0.0026 - val_loss: 0.0032\n",
      "Epoch 45/100\n",
      "57/57 [==============================] - 0s 2ms/step - loss: 0.0024 - val_loss: 0.0034\n",
      "Epoch 46/100\n",
      "57/57 [==============================] - 0s 1ms/step - loss: 0.0024 - val_loss: 0.0031\n",
      "Epoch 47/100\n",
      "57/57 [==============================] - 0s 2ms/step - loss: 0.0024 - val_loss: 0.0031\n",
      "Epoch 48/100\n",
      "57/57 [==============================] - 0s 1ms/step - loss: 0.0023 - val_loss: 0.0031\n",
      "Epoch 49/100\n",
      "57/57 [==============================] - 0s 1ms/step - loss: 0.0022 - val_loss: 0.0030\n",
      "Epoch 50/100\n",
      "57/57 [==============================] - 0s 1ms/step - loss: 0.0021 - val_loss: 0.0029\n",
      "Epoch 51/100\n",
      "57/57 [==============================] - 0s 2ms/step - loss: 0.0021 - val_loss: 0.0031\n",
      "Epoch 52/100\n",
      "57/57 [==============================] - 0s 1ms/step - loss: 0.0021 - val_loss: 0.0031\n",
      "Epoch 53/100\n",
      "57/57 [==============================] - 0s 2ms/step - loss: 0.0020 - val_loss: 0.0030\n",
      "Epoch 54/100\n",
      "57/57 [==============================] - 0s 2ms/step - loss: 0.0019 - val_loss: 0.0027\n",
      "Epoch 55/100\n",
      "57/57 [==============================] - 0s 1ms/step - loss: 0.0019 - val_loss: 0.0027\n",
      "Epoch 56/100\n",
      "57/57 [==============================] - 0s 1ms/step - loss: 0.0019 - val_loss: 0.0031\n",
      "Epoch 57/100\n",
      "57/57 [==============================] - 0s 1ms/step - loss: 0.0019 - val_loss: 0.0027\n",
      "Epoch 58/100\n",
      "57/57 [==============================] - 0s 2ms/step - loss: 0.0018 - val_loss: 0.0027\n",
      "Epoch 59/100\n",
      "57/57 [==============================] - 0s 1ms/step - loss: 0.0019 - val_loss: 0.0030\n",
      "Epoch 60/100\n",
      "57/57 [==============================] - 0s 2ms/step - loss: 0.0018 - val_loss: 0.0026\n",
      "Epoch 61/100\n",
      "57/57 [==============================] - 0s 1ms/step - loss: 0.0017 - val_loss: 0.0025\n",
      "Epoch 62/100\n",
      "57/57 [==============================] - 0s 1ms/step - loss: 0.0017 - val_loss: 0.0026\n",
      "Epoch 63/100\n",
      "57/57 [==============================] - 0s 1ms/step - loss: 0.0018 - val_loss: 0.0026\n",
      "Epoch 64/100\n",
      "57/57 [==============================] - 0s 2ms/step - loss: 0.0018 - val_loss: 0.0026\n",
      "Epoch 65/100\n",
      "57/57 [==============================] - 0s 1ms/step - loss: 0.0017 - val_loss: 0.0025\n",
      "Epoch 66/100\n",
      "57/57 [==============================] - 0s 2ms/step - loss: 0.0016 - val_loss: 0.0024\n",
      "Epoch 67/100\n",
      "57/57 [==============================] - 0s 1ms/step - loss: 0.0016 - val_loss: 0.0024\n",
      "Epoch 68/100\n",
      "57/57 [==============================] - 0s 2ms/step - loss: 0.0016 - val_loss: 0.0024\n",
      "Epoch 69/100\n",
      "57/57 [==============================] - 0s 2ms/step - loss: 0.0015 - val_loss: 0.0025\n",
      "Epoch 70/100\n",
      "57/57 [==============================] - 0s 1ms/step - loss: 0.0017 - val_loss: 0.0023\n",
      "Epoch 71/100\n",
      "57/57 [==============================] - 0s 1ms/step - loss: 0.0016 - val_loss: 0.0023\n",
      "Epoch 72/100\n",
      "57/57 [==============================] - 0s 2ms/step - loss: 0.0014 - val_loss: 0.0023\n",
      "Epoch 73/100\n",
      "57/57 [==============================] - 0s 1ms/step - loss: 0.0014 - val_loss: 0.0023\n",
      "Epoch 74/100\n",
      "57/57 [==============================] - 0s 2ms/step - loss: 0.0014 - val_loss: 0.0022\n",
      "Epoch 75/100\n",
      "57/57 [==============================] - 0s 1ms/step - loss: 0.0014 - val_loss: 0.0024\n",
      "Epoch 76/100\n",
      "57/57 [==============================] - 0s 2ms/step - loss: 0.0014 - val_loss: 0.0023\n",
      "Epoch 77/100\n",
      "57/57 [==============================] - 0s 1ms/step - loss: 0.0014 - val_loss: 0.0023\n",
      "Epoch 78/100\n",
      "57/57 [==============================] - 0s 2ms/step - loss: 0.0013 - val_loss: 0.0025\n",
      "Epoch 79/100\n",
      "57/57 [==============================] - 0s 2ms/step - loss: 0.0013 - val_loss: 0.0021\n",
      "Epoch 80/100\n",
      "57/57 [==============================] - 0s 2ms/step - loss: 0.0014 - val_loss: 0.0023\n",
      "Epoch 81/100\n",
      "57/57 [==============================] - 0s 1ms/step - loss: 0.0013 - val_loss: 0.0021\n",
      "Epoch 82/100\n",
      "57/57 [==============================] - 0s 1ms/step - loss: 0.0013 - val_loss: 0.0021\n",
      "Epoch 83/100\n"
     ]
    },
    {
     "name": "stdout",
     "output_type": "stream",
     "text": [
      "57/57 [==============================] - 0s 2ms/step - loss: 0.0013 - val_loss: 0.0020\n",
      "Epoch 84/100\n",
      "57/57 [==============================] - 0s 2ms/step - loss: 0.0013 - val_loss: 0.0020\n",
      "Epoch 85/100\n",
      "57/57 [==============================] - 0s 2ms/step - loss: 0.0013 - val_loss: 0.0021\n",
      "Epoch 86/100\n",
      "57/57 [==============================] - 0s 1ms/step - loss: 0.0012 - val_loss: 0.0021\n",
      "Epoch 87/100\n",
      "57/57 [==============================] - 0s 2ms/step - loss: 0.0012 - val_loss: 0.0021\n",
      "Epoch 88/100\n",
      "57/57 [==============================] - 0s 1ms/step - loss: 0.0012 - val_loss: 0.0020\n",
      "Epoch 89/100\n",
      "57/57 [==============================] - 0s 1ms/step - loss: 0.0012 - val_loss: 0.0021\n",
      "Epoch 90/100\n",
      "57/57 [==============================] - 0s 1ms/step - loss: 0.0013 - val_loss: 0.0020\n",
      "Epoch 91/100\n",
      "57/57 [==============================] - 0s 2ms/step - loss: 0.0011 - val_loss: 0.0021\n",
      "Epoch 92/100\n",
      "57/57 [==============================] - 0s 1ms/step - loss: 0.0012 - val_loss: 0.0021\n",
      "Epoch 93/100\n",
      "57/57 [==============================] - 0s 1ms/step - loss: 0.0012 - val_loss: 0.0020\n",
      "Epoch 94/100\n",
      "57/57 [==============================] - 0s 2ms/step - loss: 0.0012 - val_loss: 0.0019\n",
      "Epoch 95/100\n",
      "57/57 [==============================] - 0s 1ms/step - loss: 0.0011 - val_loss: 0.0020\n",
      "Epoch 96/100\n",
      "57/57 [==============================] - 0s 2ms/step - loss: 0.0011 - val_loss: 0.0019\n",
      "Epoch 97/100\n",
      "57/57 [==============================] - 0s 2ms/step - loss: 0.0011 - val_loss: 0.0023\n",
      "Epoch 98/100\n",
      "57/57 [==============================] - 0s 1ms/step - loss: 0.0011 - val_loss: 0.0019\n",
      "Epoch 99/100\n",
      "57/57 [==============================] - 0s 1ms/step - loss: 0.0011 - val_loss: 0.0018\n",
      "Epoch 100/100\n",
      "57/57 [==============================] - 0s 2ms/step - loss: 0.0011 - val_loss: 0.0020\n"
     ]
    }
   ],
   "source": [
    "history=model.fit(X_train,y_train,epochs=100,validation_split=0.15)"
   ]
  },
  {
   "cell_type": "code",
   "execution_count": 66,
   "id": "a0ff0327",
   "metadata": {},
   "outputs": [],
   "source": [
    "from sklearn.metrics import r2_score"
   ]
  },
  {
   "cell_type": "code",
   "execution_count": 67,
   "id": "1df4e718",
   "metadata": {},
   "outputs": [
    {
     "name": "stdout",
     "output_type": "stream",
     "text": [
      "67/67 [==============================] - 0s 936us/step\n"
     ]
    }
   ],
   "source": [
    "y_train_pre=model.predict(X_train)"
   ]
  },
  {
   "cell_type": "code",
   "execution_count": 68,
   "id": "f0a0a021",
   "metadata": {},
   "outputs": [
    {
     "data": {
      "text/plain": [
       "0.9461649802184855"
      ]
     },
     "execution_count": 68,
     "metadata": {},
     "output_type": "execute_result"
    }
   ],
   "source": [
    "#r2 value for train data\n",
    "r2_train=r2_score(y_train,y_train_pre)\n",
    "r2_train"
   ]
  },
  {
   "cell_type": "code",
   "execution_count": 69,
   "id": "65a42485",
   "metadata": {
    "scrolled": false
   },
   "outputs": [
    {
     "name": "stdout",
     "output_type": "stream",
     "text": [
      "12/12 [==============================] - 0s 1ms/step\n"
     ]
    },
    {
     "data": {
      "text/plain": [
       "0.90660070911108"
      ]
     },
     "execution_count": 69,
     "metadata": {},
     "output_type": "execute_result"
    }
   ],
   "source": [
    "#r2 value for test data\n",
    "y_test_pre=model.predict(X_test)\n",
    "r2_test=r2_score(y_test,y_test_pre)\n",
    "r2_test"
   ]
  },
  {
   "cell_type": "code",
   "execution_count": 70,
   "id": "bf09fa8e",
   "metadata": {},
   "outputs": [
    {
     "name": "stdout",
     "output_type": "stream",
     "text": [
      "67/67 [==============================] - 0s 1ms/step\n"
     ]
    },
    {
     "data": {
      "text/plain": [
       "0.0013380341610057516"
      ]
     },
     "execution_count": 70,
     "metadata": {},
     "output_type": "execute_result"
    }
   ],
   "source": [
    "#Mean squared error for training data\n",
    "from sklearn.metrics import mean_squared_error\n",
    "y_pred = model.predict(X_train)\n",
    "mse = mean_squared_error(y_train, y_pred)\n",
    "mse"
   ]
  },
  {
   "cell_type": "code",
   "execution_count": 71,
   "id": "80289ea4",
   "metadata": {},
   "outputs": [
    {
     "data": {
      "text/plain": [
       "<matplotlib.collections.PathCollection at 0x20da34194f0>"
      ]
     },
     "execution_count": 71,
     "metadata": {},
     "output_type": "execute_result"
    },
    {
     "data": {
      "image/png": "[encoded data removed]",
      "text/plain": [
       "<Figure size 432x288 with 1 Axes>"
      ]
     },
     "metadata": {
      "needs_background": "light"
     },
     "output_type": "display_data"
    }
   ],
   "source": [
    "from matplotlib import pyplot as p\n",
    "p.scatter(y_train, y_pred)"
   ]
  },
  {
   "cell_type": "code",
   "execution_count": 72,
   "id": "c09d21b6",
   "metadata": {},
   "outputs": [
    {
     "data": {
      "text/plain": [
       "<matplotlib.collections.PathCollection at 0x20da33b50d0>"
      ]
     },
     "execution_count": 72,
     "metadata": {},
     "output_type": "execute_result"
    },
    {
     "data": {
      "image/png": "[encoded data removed]",
      "text/plain": [
       "<Figure size 432x288 with 1 Axes>"
      ]
     },
     "metadata": {
      "needs_background": "light"
     },
     "output_type": "display_data"
    }
   ],
   "source": [
    "p.scatter(y_test,y_test_pre)"
   ]
  },
  {
   "cell_type": "markdown",
   "id": "2eaa1989",
   "metadata": {},
   "source": [
    "Training same network using RMSProp optimizer"
   ]
  },
  {
   "cell_type": "markdown",
   "id": "e9262680",
   "metadata": {},
   "source": [
    "ITERATION 2 ( Hidden Layers: 3)"
   ]
  },
  {
   "cell_type": "code",
   "execution_count": 73,
   "id": "bff5bad5",
   "metadata": {},
   "outputs": [],
   "source": [
    "#Creating ANN with mentioned nodes, hidden layers and activation function\n",
    "model=Sequential()\n",
    "model.add(Dense(100,input_dim=9,activation='relu'))\n",
    "model.add(Dense(110,activation='relu'))\n",
    "model.add(Dense(115, activation='relu'))\n",
    "model.add(Dense(1,activation='linear'))"
   ]
  },
  {
   "cell_type": "code",
   "execution_count": 74,
   "id": "ab85adf7",
   "metadata": {},
   "outputs": [
    {
     "name": "stdout",
     "output_type": "stream",
     "text": [
      "Model: \"sequential_5\"\n",
      "_________________________________________________________________\n",
      " Layer (type)                Output Shape              Param #   \n",
      "=================================================================\n",
      " dense_15 (Dense)            (None, 100)               1000      \n",
      "                                                                 \n",
      " dense_16 (Dense)            (None, 110)               11110     \n",
      "                                                                 \n",
      " dense_17 (Dense)            (None, 115)               12765     \n",
      "                                                                 \n",
      " dense_18 (Dense)            (None, 1)                 116       \n",
      "                                                                 \n",
      "=================================================================\n",
      "Total params: 24,991\n",
      "Trainable params: 24,991\n",
      "Non-trainable params: 0\n",
      "_________________________________________________________________\n",
      "None\n"
     ]
    }
   ],
   "source": [
    "print(model.summary())"
   ]
  },
  {
   "cell_type": "code",
   "execution_count": 75,
   "id": "f9000918",
   "metadata": {},
   "outputs": [],
   "source": [
    "#Training the ANN using adam optimiser and MSE loss f.\n",
    "model.compile(optimizer='adam',loss='MSE')"
   ]
  },
  {
   "cell_type": "code",
   "execution_count": 76,
   "id": "edfcd3c1",
   "metadata": {},
   "outputs": [
    {
     "name": "stdout",
     "output_type": "stream",
     "text": [
      "Epoch 1/100\n",
      "57/57 [==============================] - 1s 19ms/step - loss: 0.0211 - val_loss: 0.0086\n",
      "Epoch 2/100\n",
      "57/57 [==============================] - 0s 3ms/step - loss: 0.0080 - val_loss: 0.0067\n",
      "Epoch 3/100\n",
      "57/57 [==============================] - 0s 3ms/step - loss: 0.0063 - val_loss: 0.0058\n",
      "Epoch 4/100\n",
      "57/57 [==============================] - 0s 3ms/step - loss: 0.0053 - val_loss: 0.0059\n",
      "Epoch 5/100\n",
      "57/57 [==============================] - 0s 3ms/step - loss: 0.0045 - val_loss: 0.0041\n",
      "Epoch 6/100\n",
      "57/57 [==============================] - 0s 2ms/step - loss: 0.0040 - val_loss: 0.0041\n",
      "Epoch 7/100\n",
      "57/57 [==============================] - 0s 3ms/step - loss: 0.0038 - val_loss: 0.0040\n",
      "Epoch 8/100\n",
      "57/57 [==============================] - 0s 2ms/step - loss: 0.0034 - val_loss: 0.0034\n",
      "Epoch 9/100\n",
      "57/57 [==============================] - 0s 2ms/step - loss: 0.0029 - val_loss: 0.0032\n",
      "Epoch 10/100\n",
      "57/57 [==============================] - 0s 2ms/step - loss: 0.0026 - val_loss: 0.0039\n",
      "Epoch 11/100\n",
      "57/57 [==============================] - 0s 2ms/step - loss: 0.0024 - val_loss: 0.0035\n",
      "Epoch 12/100\n",
      "57/57 [==============================] - 0s 2ms/step - loss: 0.0026 - val_loss: 0.0038\n",
      "Epoch 13/100\n",
      "57/57 [==============================] - 0s 2ms/step - loss: 0.0020 - val_loss: 0.0027\n",
      "Epoch 14/100\n",
      "57/57 [==============================] - 0s 2ms/step - loss: 0.0019 - val_loss: 0.0033\n",
      "Epoch 15/100\n",
      "57/57 [==============================] - 0s 2ms/step - loss: 0.0019 - val_loss: 0.0026\n",
      "Epoch 16/100\n",
      "57/57 [==============================] - 0s 2ms/step - loss: 0.0016 - val_loss: 0.0024\n",
      "Epoch 17/100\n",
      "57/57 [==============================] - 0s 2ms/step - loss: 0.0015 - val_loss: 0.0025\n",
      "Epoch 18/100\n",
      "57/57 [==============================] - 0s 2ms/step - loss: 0.0013 - val_loss: 0.0024\n",
      "Epoch 19/100\n",
      "57/57 [==============================] - 0s 2ms/step - loss: 0.0013 - val_loss: 0.0023\n",
      "Epoch 20/100\n",
      "57/57 [==============================] - 0s 2ms/step - loss: 0.0013 - val_loss: 0.0023\n",
      "Epoch 21/100\n",
      "57/57 [==============================] - 0s 2ms/step - loss: 0.0012 - val_loss: 0.0020\n",
      "Epoch 22/100\n",
      "57/57 [==============================] - 0s 2ms/step - loss: 0.0011 - val_loss: 0.0019\n",
      "Epoch 23/100\n",
      "57/57 [==============================] - 0s 2ms/step - loss: 8.9869e-04 - val_loss: 0.0019\n",
      "Epoch 24/100\n",
      "57/57 [==============================] - 0s 2ms/step - loss: 9.3027e-04 - val_loss: 0.0020\n",
      "Epoch 25/100\n",
      "57/57 [==============================] - 0s 2ms/step - loss: 9.3965e-04 - val_loss: 0.0019\n",
      "Epoch 26/100\n",
      "57/57 [==============================] - 0s 2ms/step - loss: 8.3108e-04 - val_loss: 0.0020\n",
      "Epoch 27/100\n",
      "57/57 [==============================] - 0s 2ms/step - loss: 8.9947e-04 - val_loss: 0.0021\n",
      "Epoch 28/100\n",
      "57/57 [==============================] - 0s 2ms/step - loss: 8.2519e-04 - val_loss: 0.0021\n",
      "Epoch 29/100\n",
      "57/57 [==============================] - 0s 2ms/step - loss: 7.2333e-04 - val_loss: 0.0019\n",
      "Epoch 30/100\n",
      "57/57 [==============================] - 0s 2ms/step - loss: 6.1063e-04 - val_loss: 0.0017\n",
      "Epoch 31/100\n",
      "57/57 [==============================] - 0s 2ms/step - loss: 6.3911e-04 - val_loss: 0.0020\n",
      "Epoch 32/100\n",
      "57/57 [==============================] - 0s 2ms/step - loss: 7.2473e-04 - val_loss: 0.0017\n",
      "Epoch 33/100\n",
      "57/57 [==============================] - 0s 2ms/step - loss: 6.5773e-04 - val_loss: 0.0018\n",
      "Epoch 34/100\n",
      "57/57 [==============================] - 0s 2ms/step - loss: 6.3686e-04 - val_loss: 0.0018\n",
      "Epoch 35/100\n",
      "57/57 [==============================] - 0s 2ms/step - loss: 5.2048e-04 - val_loss: 0.0017\n",
      "Epoch 36/100\n",
      "57/57 [==============================] - 0s 2ms/step - loss: 5.4416e-04 - val_loss: 0.0015\n",
      "Epoch 37/100\n",
      "57/57 [==============================] - 0s 2ms/step - loss: 5.6317e-04 - val_loss: 0.0016\n",
      "Epoch 38/100\n",
      "57/57 [==============================] - 0s 2ms/step - loss: 4.7736e-04 - val_loss: 0.0015\n",
      "Epoch 39/100\n",
      "57/57 [==============================] - 0s 2ms/step - loss: 4.9263e-04 - val_loss: 0.0021\n",
      "Epoch 40/100\n",
      "57/57 [==============================] - 0s 2ms/step - loss: 4.9889e-04 - val_loss: 0.0016\n",
      "Epoch 41/100\n",
      "57/57 [==============================] - 0s 2ms/step - loss: 4.7836e-04 - val_loss: 0.0015\n",
      "Epoch 42/100\n",
      "57/57 [==============================] - 0s 2ms/step - loss: 4.0206e-04 - val_loss: 0.0014\n",
      "Epoch 43/100\n",
      "57/57 [==============================] - 0s 2ms/step - loss: 5.4967e-04 - val_loss: 0.0018\n",
      "Epoch 44/100\n",
      "57/57 [==============================] - 0s 2ms/step - loss: 5.3282e-04 - val_loss: 0.0014\n",
      "Epoch 45/100\n",
      "57/57 [==============================] - 0s 2ms/step - loss: 3.8683e-04 - val_loss: 0.0013\n",
      "Epoch 46/100\n",
      "57/57 [==============================] - 0s 2ms/step - loss: 4.1059e-04 - val_loss: 0.0017\n",
      "Epoch 47/100\n",
      "57/57 [==============================] - 0s 2ms/step - loss: 4.1922e-04 - val_loss: 0.0015\n",
      "Epoch 48/100\n",
      "57/57 [==============================] - 0s 2ms/step - loss: 3.4702e-04 - val_loss: 0.0013\n",
      "Epoch 49/100\n",
      "57/57 [==============================] - 0s 2ms/step - loss: 4.2706e-04 - val_loss: 0.0014\n",
      "Epoch 50/100\n",
      "57/57 [==============================] - 0s 2ms/step - loss: 3.8887e-04 - val_loss: 0.0014\n",
      "Epoch 51/100\n",
      "57/57 [==============================] - 0s 2ms/step - loss: 3.8760e-04 - val_loss: 0.0014\n",
      "Epoch 52/100\n",
      "57/57 [==============================] - 0s 2ms/step - loss: 4.5249e-04 - val_loss: 0.0014\n",
      "Epoch 53/100\n",
      "57/57 [==============================] - 0s 2ms/step - loss: 4.3403e-04 - val_loss: 0.0017\n",
      "Epoch 54/100\n",
      "57/57 [==============================] - 0s 2ms/step - loss: 4.2980e-04 - val_loss: 0.0020\n",
      "Epoch 55/100\n",
      "57/57 [==============================] - 0s 2ms/step - loss: 4.9780e-04 - val_loss: 0.0016\n",
      "Epoch 56/100\n",
      "57/57 [==============================] - 0s 2ms/step - loss: 3.9317e-04 - val_loss: 0.0012\n",
      "Epoch 57/100\n",
      "57/57 [==============================] - 0s 2ms/step - loss: 3.5642e-04 - val_loss: 0.0014\n",
      "Epoch 58/100\n",
      "57/57 [==============================] - 0s 2ms/step - loss: 3.6542e-04 - val_loss: 0.0013\n",
      "Epoch 59/100\n",
      "57/57 [==============================] - 0s 2ms/step - loss: 4.1671e-04 - val_loss: 0.0013\n",
      "Epoch 60/100\n",
      "57/57 [==============================] - 0s 2ms/step - loss: 4.1585e-04 - val_loss: 0.0015\n",
      "Epoch 61/100\n",
      "57/57 [==============================] - 0s 2ms/step - loss: 5.4490e-04 - val_loss: 0.0015\n",
      "Epoch 62/100\n",
      "57/57 [==============================] - 0s 2ms/step - loss: 3.3868e-04 - val_loss: 0.0013\n",
      "Epoch 63/100\n",
      "57/57 [==============================] - 0s 2ms/step - loss: 2.9980e-04 - val_loss: 0.0016\n",
      "Epoch 64/100\n",
      "57/57 [==============================] - 0s 2ms/step - loss: 3.3712e-04 - val_loss: 0.0012\n",
      "Epoch 65/100\n",
      "57/57 [==============================] - 0s 2ms/step - loss: 3.3356e-04 - val_loss: 0.0013\n",
      "Epoch 66/100\n",
      "57/57 [==============================] - 0s 2ms/step - loss: 2.8746e-04 - val_loss: 0.0012\n",
      "Epoch 67/100\n",
      "57/57 [==============================] - 0s 2ms/step - loss: 2.7902e-04 - val_loss: 0.0013\n",
      "Epoch 68/100\n",
      "57/57 [==============================] - 0s 2ms/step - loss: 3.3511e-04 - val_loss: 0.0014\n",
      "Epoch 69/100\n",
      "57/57 [==============================] - 0s 2ms/step - loss: 5.5662e-04 - val_loss: 0.0014\n",
      "Epoch 70/100\n",
      "57/57 [==============================] - 0s 2ms/step - loss: 4.9003e-04 - val_loss: 0.0017\n",
      "Epoch 71/100\n",
      "57/57 [==============================] - 0s 2ms/step - loss: 5.1722e-04 - val_loss: 0.0015\n",
      "Epoch 72/100\n",
      "57/57 [==============================] - 0s 2ms/step - loss: 5.1873e-04 - val_loss: 0.0013\n",
      "Epoch 73/100\n",
      "57/57 [==============================] - 0s 2ms/step - loss: 3.0447e-04 - val_loss: 0.0013\n",
      "Epoch 74/100\n",
      "57/57 [==============================] - 0s 2ms/step - loss: 2.6032e-04 - val_loss: 0.0014\n",
      "Epoch 75/100\n",
      "57/57 [==============================] - 0s 2ms/step - loss: 3.5952e-04 - val_loss: 0.0015\n",
      "Epoch 76/100\n",
      "57/57 [==============================] - 0s 2ms/step - loss: 2.6376e-04 - val_loss: 0.0013\n",
      "Epoch 77/100\n",
      "57/57 [==============================] - 0s 2ms/step - loss: 1.8628e-04 - val_loss: 0.0013\n",
      "Epoch 78/100\n",
      "57/57 [==============================] - 0s 2ms/step - loss: 3.4970e-04 - val_loss: 0.0016\n",
      "Epoch 79/100\n",
      "57/57 [==============================] - 0s 2ms/step - loss: 3.3183e-04 - val_loss: 0.0014\n",
      "Epoch 80/100\n"
     ]
    },
    {
     "name": "stdout",
     "output_type": "stream",
     "text": [
      "57/57 [==============================] - 0s 2ms/step - loss: 2.6433e-04 - val_loss: 0.0011\n",
      "Epoch 81/100\n",
      "57/57 [==============================] - 0s 2ms/step - loss: 2.0468e-04 - val_loss: 0.0014\n",
      "Epoch 82/100\n",
      "57/57 [==============================] - 0s 2ms/step - loss: 1.9854e-04 - val_loss: 0.0012\n",
      "Epoch 83/100\n",
      "57/57 [==============================] - 0s 2ms/step - loss: 2.8282e-04 - val_loss: 0.0014\n",
      "Epoch 84/100\n",
      "57/57 [==============================] - 0s 2ms/step - loss: 2.6765e-04 - val_loss: 0.0014\n",
      "Epoch 85/100\n",
      "57/57 [==============================] - 0s 2ms/step - loss: 1.7423e-04 - val_loss: 0.0012\n",
      "Epoch 86/100\n",
      "57/57 [==============================] - 0s 2ms/step - loss: 2.1551e-04 - val_loss: 0.0014\n",
      "Epoch 87/100\n",
      "57/57 [==============================] - 0s 2ms/step - loss: 2.4651e-04 - val_loss: 0.0013\n",
      "Epoch 88/100\n",
      "57/57 [==============================] - 0s 2ms/step - loss: 1.7616e-04 - val_loss: 0.0011\n",
      "Epoch 89/100\n",
      "57/57 [==============================] - 0s 2ms/step - loss: 2.0537e-04 - val_loss: 0.0012\n",
      "Epoch 90/100\n",
      "57/57 [==============================] - 0s 2ms/step - loss: 2.0588e-04 - val_loss: 0.0012\n",
      "Epoch 91/100\n",
      "57/57 [==============================] - 0s 2ms/step - loss: 2.6332e-04 - val_loss: 0.0012\n",
      "Epoch 92/100\n",
      "57/57 [==============================] - 0s 2ms/step - loss: 2.5148e-04 - val_loss: 0.0012\n",
      "Epoch 93/100\n",
      "57/57 [==============================] - 0s 2ms/step - loss: 2.1502e-04 - val_loss: 0.0012\n",
      "Epoch 94/100\n",
      "57/57 [==============================] - 0s 2ms/step - loss: 2.5424e-04 - val_loss: 0.0012\n",
      "Epoch 95/100\n",
      "57/57 [==============================] - 0s 2ms/step - loss: 1.8222e-04 - val_loss: 0.0013\n",
      "Epoch 96/100\n",
      "57/57 [==============================] - 0s 2ms/step - loss: 1.9073e-04 - val_loss: 0.0013\n",
      "Epoch 97/100\n",
      "57/57 [==============================] - 0s 2ms/step - loss: 2.4199e-04 - val_loss: 0.0012\n",
      "Epoch 98/100\n",
      "57/57 [==============================] - 0s 2ms/step - loss: 1.9085e-04 - val_loss: 0.0013\n",
      "Epoch 99/100\n",
      "57/57 [==============================] - 0s 2ms/step - loss: 1.5764e-04 - val_loss: 0.0012\n",
      "Epoch 100/100\n",
      "57/57 [==============================] - 0s 2ms/step - loss: 2.2016e-04 - val_loss: 0.0014\n"
     ]
    }
   ],
   "source": [
    "history=model.fit(X_train,y_train,epochs=100,validation_split=0.15)"
   ]
  },
  {
   "cell_type": "code",
   "execution_count": 77,
   "id": "8f26a226",
   "metadata": {},
   "outputs": [],
   "source": [
    "from sklearn.metrics import r2_score"
   ]
  },
  {
   "cell_type": "code",
   "execution_count": 78,
   "id": "462d7c61",
   "metadata": {},
   "outputs": [
    {
     "name": "stdout",
     "output_type": "stream",
     "text": [
      "67/67 [==============================] - 0s 871us/step\n"
     ]
    }
   ],
   "source": [
    "y_train_pre=model.predict(X_train)"
   ]
  },
  {
   "cell_type": "code",
   "execution_count": 79,
   "id": "f452d664",
   "metadata": {},
   "outputs": [
    {
     "data": {
      "text/plain": [
       "0.9845614239897805"
      ]
     },
     "execution_count": 79,
     "metadata": {},
     "output_type": "execute_result"
    }
   ],
   "source": [
    "#r2 value for train data\n",
    "r2_train=r2_score(y_train,y_train_pre)\n",
    "r2_train"
   ]
  },
  {
   "cell_type": "code",
   "execution_count": 80,
   "id": "deaf5c1c",
   "metadata": {},
   "outputs": [
    {
     "name": "stdout",
     "output_type": "stream",
     "text": [
      "12/12 [==============================] - 0s 2ms/step\n"
     ]
    },
    {
     "data": {
      "text/plain": [
       "0.9320746167542044"
      ]
     },
     "execution_count": 80,
     "metadata": {},
     "output_type": "execute_result"
    }
   ],
   "source": [
    "#r2 value for test data\n",
    "y_test_pre=model.predict(X_test)\n",
    "r2_test=r2_score(y_test,y_test_pre)\n",
    "r2_test"
   ]
  },
  {
   "cell_type": "code",
   "execution_count": 81,
   "id": "23521be6",
   "metadata": {},
   "outputs": [
    {
     "name": "stdout",
     "output_type": "stream",
     "text": [
      "67/67 [==============================] - 0s 1ms/step\n"
     ]
    },
    {
     "data": {
      "text/plain": [
       "0.0003837156962659957"
      ]
     },
     "execution_count": 81,
     "metadata": {},
     "output_type": "execute_result"
    }
   ],
   "source": [
    "#Mean squared error for training data\n",
    "from sklearn.metrics import mean_squared_error\n",
    "y_pred = model.predict(X_train)\n",
    "mse = mean_squared_error(y_train, y_pred)\n",
    "mse"
   ]
  },
  {
   "cell_type": "code",
   "execution_count": 82,
   "id": "c5625840",
   "metadata": {},
   "outputs": [
    {
     "data": {
      "text/plain": [
       "<matplotlib.collections.PathCollection at 0x20d9d9f1700>"
      ]
     },
     "execution_count": 82,
     "metadata": {},
     "output_type": "execute_result"
    },
    {
     "data": {
      "image/png": "[encoded data removed]",
      "text/plain": [
       "<Figure size 432x288 with 1 Axes>"
      ]
     },
     "metadata": {
      "needs_background": "light"
     },
     "output_type": "display_data"
    }
   ],
   "source": [
    "from matplotlib import pyplot as p\n",
    "p.scatter(y_train, y_pred)"
   ]
  },
  {
   "cell_type": "code",
   "execution_count": 83,
   "id": "85217421",
   "metadata": {},
   "outputs": [
    {
     "data": {
      "text/plain": [
       "<matplotlib.collections.PathCollection at 0x20d9c833310>"
      ]
     },
     "execution_count": 83,
     "metadata": {},
     "output_type": "execute_result"
    },
    {
     "data": {
      "image/png": "[encoded data removed]",
      "text/plain": [
       "<Figure size 432x288 with 1 Axes>"
      ]
     },
     "metadata": {
      "needs_background": "light"
     },
     "output_type": "display_data"
    }
   ],
   "source": [
    "p.scatter(y_test,y_test_pre)"
   ]
  },
  {
   "cell_type": "markdown",
   "id": "dcd11740",
   "metadata": {},
   "source": [
    "ITERATION 3(Hidden Layers: 4)"
   ]
  },
  {
   "cell_type": "code",
   "execution_count": 84,
   "id": "2d194fa4",
   "metadata": {},
   "outputs": [],
   "source": [
    "#Creating ANN with mentioned nodes, hidden layers and activation function\n",
    "model=Sequential()\n",
    "model.add(Dense(100,input_dim=9,activation='relu'))\n",
    "model.add(Dense(110,activation='relu'))\n",
    "model.add(Dense(115, activation='relu'))\n",
    "model.add(Dense(120,activation='relu'))\n",
    "model.add(Dense(1,activation = 'linear'))"
   ]
  },
  {
   "cell_type": "code",
   "execution_count": 85,
   "id": "972bf718",
   "metadata": {},
   "outputs": [
    {
     "name": "stdout",
     "output_type": "stream",
     "text": [
      "Model: \"sequential_6\"\n",
      "_________________________________________________________________\n",
      " Layer (type)                Output Shape              Param #   \n",
      "=================================================================\n",
      " dense_19 (Dense)            (None, 100)               1000      \n",
      "                                                                 \n",
      " dense_20 (Dense)            (None, 110)               11110     \n",
      "                                                                 \n",
      " dense_21 (Dense)            (None, 115)               12765     \n",
      "                                                                 \n",
      " dense_22 (Dense)            (None, 120)               13920     \n",
      "                                                                 \n",
      " dense_23 (Dense)            (None, 1)                 121       \n",
      "                                                                 \n",
      "=================================================================\n",
      "Total params: 38,916\n",
      "Trainable params: 38,916\n",
      "Non-trainable params: 0\n",
      "_________________________________________________________________\n",
      "None\n"
     ]
    }
   ],
   "source": [
    "print(model.summary())"
   ]
  },
  {
   "cell_type": "code",
   "execution_count": 86,
   "id": "8ba3ce77",
   "metadata": {},
   "outputs": [],
   "source": [
    "#Training the ANN using adam optimiser and MSE loss f.\n",
    "model.compile(optimizer='adam',loss='MSE')"
   ]
  },
  {
   "cell_type": "code",
   "execution_count": 87,
   "id": "316bd5b0",
   "metadata": {},
   "outputs": [
    {
     "name": "stdout",
     "output_type": "stream",
     "text": [
      "Epoch 1/100\n",
      "57/57 [==============================] - 1s 6ms/step - loss: 0.0200 - val_loss: 0.0085\n",
      "Epoch 2/100\n",
      "57/57 [==============================] - 0s 3ms/step - loss: 0.0076 - val_loss: 0.0090\n",
      "Epoch 3/100\n",
      "57/57 [==============================] - 0s 3ms/step - loss: 0.0071 - val_loss: 0.0050\n",
      "Epoch 4/100\n",
      "57/57 [==============================] - 0s 3ms/step - loss: 0.0052 - val_loss: 0.0049\n",
      "Epoch 5/100\n",
      "57/57 [==============================] - 0s 3ms/step - loss: 0.0042 - val_loss: 0.0040\n",
      "Epoch 6/100\n",
      "57/57 [==============================] - 0s 3ms/step - loss: 0.0035 - val_loss: 0.0034\n",
      "Epoch 7/100\n",
      "57/57 [==============================] - 0s 3ms/step - loss: 0.0034 - val_loss: 0.0034\n",
      "Epoch 8/100\n",
      "57/57 [==============================] - 0s 3ms/step - loss: 0.0029 - val_loss: 0.0035\n",
      "Epoch 9/100\n",
      "57/57 [==============================] - 0s 3ms/step - loss: 0.0028 - val_loss: 0.0037\n",
      "Epoch 10/100\n",
      "57/57 [==============================] - 0s 3ms/step - loss: 0.0026 - val_loss: 0.0031\n",
      "Epoch 11/100\n",
      "57/57 [==============================] - 0s 2ms/step - loss: 0.0022 - val_loss: 0.0028\n",
      "Epoch 12/100\n",
      "57/57 [==============================] - 0s 2ms/step - loss: 0.0019 - val_loss: 0.0028\n",
      "Epoch 13/100\n",
      "57/57 [==============================] - 0s 2ms/step - loss: 0.0017 - val_loss: 0.0030\n",
      "Epoch 14/100\n",
      "57/57 [==============================] - 0s 2ms/step - loss: 0.0018 - val_loss: 0.0023\n",
      "Epoch 15/100\n",
      "57/57 [==============================] - 0s 2ms/step - loss: 0.0013 - val_loss: 0.0022\n",
      "Epoch 16/100\n",
      "57/57 [==============================] - 0s 2ms/step - loss: 0.0014 - val_loss: 0.0022\n",
      "Epoch 17/100\n",
      "57/57 [==============================] - 0s 2ms/step - loss: 0.0012 - val_loss: 0.0021\n",
      "Epoch 18/100\n",
      "57/57 [==============================] - 0s 2ms/step - loss: 9.5791e-04 - val_loss: 0.0022\n",
      "Epoch 19/100\n",
      "57/57 [==============================] - 0s 2ms/step - loss: 9.1453e-04 - val_loss: 0.0019\n",
      "Epoch 20/100\n",
      "57/57 [==============================] - 0s 2ms/step - loss: 9.3669e-04 - val_loss: 0.0022\n",
      "Epoch 21/100\n",
      "57/57 [==============================] - 0s 2ms/step - loss: 8.7675e-04 - val_loss: 0.0019\n",
      "Epoch 22/100\n",
      "57/57 [==============================] - 0s 2ms/step - loss: 8.1582e-04 - val_loss: 0.0020\n",
      "Epoch 23/100\n",
      "57/57 [==============================] - 0s 2ms/step - loss: 6.8209e-04 - val_loss: 0.0020\n",
      "Epoch 24/100\n",
      "57/57 [==============================] - 0s 2ms/step - loss: 7.2409e-04 - val_loss: 0.0020\n",
      "Epoch 25/100\n",
      "57/57 [==============================] - 0s 2ms/step - loss: 6.7863e-04 - val_loss: 0.0015\n",
      "Epoch 26/100\n",
      "57/57 [==============================] - 0s 2ms/step - loss: 6.5232e-04 - val_loss: 0.0017\n",
      "Epoch 27/100\n",
      "57/57 [==============================] - 0s 2ms/step - loss: 6.1002e-04 - val_loss: 0.0018\n",
      "Epoch 28/100\n",
      "57/57 [==============================] - 0s 2ms/step - loss: 5.6651e-04 - val_loss: 0.0016\n",
      "Epoch 29/100\n",
      "57/57 [==============================] - 0s 2ms/step - loss: 6.3754e-04 - val_loss: 0.0016\n",
      "Epoch 30/100\n",
      "57/57 [==============================] - 0s 2ms/step - loss: 4.9103e-04 - val_loss: 0.0015\n",
      "Epoch 31/100\n",
      "57/57 [==============================] - 0s 2ms/step - loss: 5.1586e-04 - val_loss: 0.0018\n",
      "Epoch 32/100\n",
      "57/57 [==============================] - 0s 2ms/step - loss: 6.5491e-04 - val_loss: 0.0015\n",
      "Epoch 33/100\n",
      "57/57 [==============================] - 0s 2ms/step - loss: 4.4786e-04 - val_loss: 0.0015\n",
      "Epoch 34/100\n",
      "57/57 [==============================] - 0s 2ms/step - loss: 4.4281e-04 - val_loss: 0.0015\n",
      "Epoch 35/100\n",
      "57/57 [==============================] - 0s 2ms/step - loss: 4.1611e-04 - val_loss: 0.0016\n",
      "Epoch 36/100\n",
      "57/57 [==============================] - 0s 2ms/step - loss: 4.0211e-04 - val_loss: 0.0017\n",
      "Epoch 37/100\n",
      "57/57 [==============================] - 0s 2ms/step - loss: 4.8883e-04 - val_loss: 0.0015\n",
      "Epoch 38/100\n",
      "57/57 [==============================] - 0s 2ms/step - loss: 4.9383e-04 - val_loss: 0.0018\n",
      "Epoch 39/100\n",
      "57/57 [==============================] - 0s 3ms/step - loss: 4.5904e-04 - val_loss: 0.0015\n",
      "Epoch 40/100\n",
      "57/57 [==============================] - 0s 2ms/step - loss: 3.5063e-04 - val_loss: 0.0015\n",
      "Epoch 41/100\n",
      "57/57 [==============================] - 0s 2ms/step - loss: 3.6217e-04 - val_loss: 0.0016\n",
      "Epoch 42/100\n",
      "57/57 [==============================] - 0s 2ms/step - loss: 4.3692e-04 - val_loss: 0.0017\n",
      "Epoch 43/100\n",
      "57/57 [==============================] - 0s 2ms/step - loss: 3.7964e-04 - val_loss: 0.0016\n",
      "Epoch 44/100\n",
      "57/57 [==============================] - 0s 2ms/step - loss: 3.5295e-04 - val_loss: 0.0017\n",
      "Epoch 45/100\n",
      "57/57 [==============================] - 0s 2ms/step - loss: 3.9038e-04 - val_loss: 0.0018\n",
      "Epoch 46/100\n",
      "57/57 [==============================] - 0s 2ms/step - loss: 4.5637e-04 - val_loss: 0.0015\n",
      "Epoch 47/100\n",
      "57/57 [==============================] - 0s 2ms/step - loss: 4.1993e-04 - val_loss: 0.0021\n",
      "Epoch 48/100\n",
      "57/57 [==============================] - 0s 2ms/step - loss: 5.9142e-04 - val_loss: 0.0017\n",
      "Epoch 49/100\n",
      "57/57 [==============================] - 0s 2ms/step - loss: 5.0687e-04 - val_loss: 0.0015\n",
      "Epoch 50/100\n",
      "57/57 [==============================] - 0s 2ms/step - loss: 4.1316e-04 - val_loss: 0.0017\n",
      "Epoch 51/100\n",
      "57/57 [==============================] - 0s 2ms/step - loss: 3.2919e-04 - val_loss: 0.0013\n",
      "Epoch 52/100\n",
      "57/57 [==============================] - 0s 2ms/step - loss: 2.9957e-04 - val_loss: 0.0014\n",
      "Epoch 53/100\n",
      "57/57 [==============================] - 0s 2ms/step - loss: 3.9738e-04 - val_loss: 0.0014\n",
      "Epoch 54/100\n",
      "57/57 [==============================] - 0s 2ms/step - loss: 2.5794e-04 - val_loss: 0.0015\n",
      "Epoch 55/100\n",
      "57/57 [==============================] - 0s 2ms/step - loss: 2.7817e-04 - val_loss: 0.0014\n",
      "Epoch 56/100\n",
      "57/57 [==============================] - 0s 2ms/step - loss: 2.2717e-04 - val_loss: 0.0012\n",
      "Epoch 57/100\n",
      "57/57 [==============================] - 0s 2ms/step - loss: 1.9512e-04 - val_loss: 0.0013\n",
      "Epoch 58/100\n",
      "57/57 [==============================] - 0s 2ms/step - loss: 1.8846e-04 - val_loss: 0.0013\n",
      "Epoch 59/100\n",
      "57/57 [==============================] - 0s 2ms/step - loss: 2.5620e-04 - val_loss: 0.0015\n",
      "Epoch 60/100\n",
      "57/57 [==============================] - 0s 2ms/step - loss: 2.1471e-04 - val_loss: 0.0014\n",
      "Epoch 61/100\n",
      "57/57 [==============================] - 0s 2ms/step - loss: 2.1132e-04 - val_loss: 0.0014\n",
      "Epoch 62/100\n",
      "57/57 [==============================] - 0s 2ms/step - loss: 2.8539e-04 - val_loss: 0.0013\n",
      "Epoch 63/100\n",
      "57/57 [==============================] - 0s 2ms/step - loss: 3.3861e-04 - val_loss: 0.0014\n",
      "Epoch 64/100\n",
      "57/57 [==============================] - 0s 2ms/step - loss: 2.6395e-04 - val_loss: 0.0014\n",
      "Epoch 65/100\n",
      "57/57 [==============================] - 0s 2ms/step - loss: 3.4688e-04 - val_loss: 0.0018\n",
      "Epoch 66/100\n",
      "57/57 [==============================] - 0s 2ms/step - loss: 4.1004e-04 - val_loss: 0.0014\n",
      "Epoch 67/100\n",
      "57/57 [==============================] - 0s 2ms/step - loss: 4.4326e-04 - val_loss: 0.0016\n",
      "Epoch 68/100\n",
      "57/57 [==============================] - 0s 2ms/step - loss: 3.5541e-04 - val_loss: 0.0013\n",
      "Epoch 69/100\n",
      "57/57 [==============================] - 0s 2ms/step - loss: 3.3749e-04 - val_loss: 0.0014\n",
      "Epoch 70/100\n",
      "57/57 [==============================] - 0s 2ms/step - loss: 2.4276e-04 - val_loss: 0.0015\n",
      "Epoch 71/100\n",
      "57/57 [==============================] - 0s 2ms/step - loss: 2.6738e-04 - val_loss: 0.0013\n",
      "Epoch 72/100\n",
      "57/57 [==============================] - 0s 2ms/step - loss: 3.5068e-04 - val_loss: 0.0016\n",
      "Epoch 73/100\n",
      "57/57 [==============================] - 0s 2ms/step - loss: 4.8773e-04 - val_loss: 0.0019\n",
      "Epoch 74/100\n",
      "57/57 [==============================] - 0s 2ms/step - loss: 5.0372e-04 - val_loss: 0.0016\n",
      "Epoch 75/100\n",
      "57/57 [==============================] - 0s 2ms/step - loss: 3.2615e-04 - val_loss: 0.0013\n",
      "Epoch 76/100\n",
      "57/57 [==============================] - 0s 2ms/step - loss: 3.1982e-04 - val_loss: 0.0014\n",
      "Epoch 77/100\n",
      "57/57 [==============================] - 0s 2ms/step - loss: 2.3508e-04 - val_loss: 0.0013\n",
      "Epoch 78/100\n",
      "57/57 [==============================] - 0s 2ms/step - loss: 2.9956e-04 - val_loss: 0.0015\n",
      "Epoch 79/100\n",
      "57/57 [==============================] - 0s 2ms/step - loss: 2.7261e-04 - val_loss: 0.0015\n",
      "Epoch 80/100\n"
     ]
    },
    {
     "name": "stdout",
     "output_type": "stream",
     "text": [
      "57/57 [==============================] - 0s 2ms/step - loss: 5.3208e-04 - val_loss: 0.0015\n",
      "Epoch 81/100\n",
      "57/57 [==============================] - 0s 2ms/step - loss: 3.9643e-04 - val_loss: 0.0016\n",
      "Epoch 82/100\n",
      "57/57 [==============================] - 0s 2ms/step - loss: 3.1812e-04 - val_loss: 0.0014\n",
      "Epoch 83/100\n",
      "57/57 [==============================] - 0s 2ms/step - loss: 2.1239e-04 - val_loss: 0.0013\n",
      "Epoch 84/100\n",
      "57/57 [==============================] - 0s 2ms/step - loss: 2.6741e-04 - val_loss: 0.0015\n",
      "Epoch 85/100\n",
      "57/57 [==============================] - 0s 2ms/step - loss: 2.9840e-04 - val_loss: 0.0013\n",
      "Epoch 86/100\n",
      "57/57 [==============================] - 0s 2ms/step - loss: 3.1358e-04 - val_loss: 0.0013\n",
      "Epoch 87/100\n",
      "57/57 [==============================] - 0s 2ms/step - loss: 2.0492e-04 - val_loss: 0.0013\n",
      "Epoch 88/100\n",
      "57/57 [==============================] - 0s 2ms/step - loss: 2.0250e-04 - val_loss: 0.0019\n",
      "Epoch 89/100\n",
      "57/57 [==============================] - 0s 2ms/step - loss: 3.8909e-04 - val_loss: 0.0015\n",
      "Epoch 90/100\n",
      "57/57 [==============================] - 0s 2ms/step - loss: 5.2316e-04 - val_loss: 0.0015\n",
      "Epoch 91/100\n",
      "57/57 [==============================] - 0s 2ms/step - loss: 4.0266e-04 - val_loss: 0.0014\n",
      "Epoch 92/100\n",
      "57/57 [==============================] - 0s 2ms/step - loss: 3.3861e-04 - val_loss: 0.0015\n",
      "Epoch 93/100\n",
      "57/57 [==============================] - 0s 2ms/step - loss: 2.1976e-04 - val_loss: 0.0015\n",
      "Epoch 94/100\n",
      "57/57 [==============================] - 0s 2ms/step - loss: 1.4259e-04 - val_loss: 0.0013\n",
      "Epoch 95/100\n",
      "57/57 [==============================] - 0s 2ms/step - loss: 1.4746e-04 - val_loss: 0.0012\n",
      "Epoch 96/100\n",
      "57/57 [==============================] - 0s 2ms/step - loss: 2.0428e-04 - val_loss: 0.0013\n",
      "Epoch 97/100\n",
      "57/57 [==============================] - 0s 2ms/step - loss: 2.7332e-04 - val_loss: 0.0013\n",
      "Epoch 98/100\n",
      "57/57 [==============================] - 0s 2ms/step - loss: 2.3974e-04 - val_loss: 0.0015\n",
      "Epoch 99/100\n",
      "57/57 [==============================] - 0s 2ms/step - loss: 3.3670e-04 - val_loss: 0.0015\n",
      "Epoch 100/100\n",
      "57/57 [==============================] - 0s 2ms/step - loss: 3.9418e-04 - val_loss: 0.0017\n"
     ]
    }
   ],
   "source": [
    "history=model.fit(X_train,y_train,epochs=100,validation_split=0.15)"
   ]
  },
  {
   "cell_type": "code",
   "execution_count": 88,
   "id": "f90653bc",
   "metadata": {},
   "outputs": [],
   "source": [
    "from sklearn.metrics import r2_score"
   ]
  },
  {
   "cell_type": "code",
   "execution_count": 89,
   "id": "627271cf",
   "metadata": {},
   "outputs": [
    {
     "name": "stdout",
     "output_type": "stream",
     "text": [
      "67/67 [==============================] - 0s 1ms/step\n"
     ]
    }
   ],
   "source": [
    "y_train_pre=model.predict(X_train)"
   ]
  },
  {
   "cell_type": "code",
   "execution_count": 90,
   "id": "b43ce2cc",
   "metadata": {},
   "outputs": [
    {
     "data": {
      "text/plain": [
       "0.969957213244248"
      ]
     },
     "execution_count": 90,
     "metadata": {},
     "output_type": "execute_result"
    }
   ],
   "source": [
    "#r2 value for train data\n",
    "r2_train=r2_score(y_train,y_train_pre)\n",
    "r2_train"
   ]
  },
  {
   "cell_type": "code",
   "execution_count": 91,
   "id": "58b097f2",
   "metadata": {},
   "outputs": [
    {
     "name": "stdout",
     "output_type": "stream",
     "text": [
      "12/12 [==============================] - 0s 2ms/step\n"
     ]
    },
    {
     "data": {
      "text/plain": [
       "0.9083992501403922"
      ]
     },
     "execution_count": 91,
     "metadata": {},
     "output_type": "execute_result"
    }
   ],
   "source": [
    "#r2 value for test data\n",
    "y_test_pre=model.predict(X_test)\n",
    "r2_test=r2_score(y_test,y_test_pre)\n",
    "r2_test"
   ]
  },
  {
   "cell_type": "code",
   "execution_count": 92,
   "id": "3e46df96",
   "metadata": {},
   "outputs": [
    {
     "name": "stdout",
     "output_type": "stream",
     "text": [
      "67/67 [==============================] - 0s 1ms/step\n"
     ]
    },
    {
     "data": {
      "text/plain": [
       "0.0007466937902902062"
      ]
     },
     "execution_count": 92,
     "metadata": {},
     "output_type": "execute_result"
    }
   ],
   "source": [
    "#Mean squared error for training data\n",
    "from sklearn.metrics import mean_squared_error\n",
    "y_pred = model.predict(X_train)\n",
    "mse = mean_squared_error(y_train, y_pred)\n",
    "mse"
   ]
  },
  {
   "cell_type": "code",
   "execution_count": 93,
   "id": "a89b379e",
   "metadata": {},
   "outputs": [
    {
     "data": {
      "text/plain": [
       "<matplotlib.collections.PathCollection at 0x20da337cfa0>"
      ]
     },
     "execution_count": 93,
     "metadata": {},
     "output_type": "execute_result"
    },
    {
     "data": {
      "image/png": "[encoded data removed]",
      "text/plain": [
       "<Figure size 432x288 with 1 Axes>"
      ]
     },
     "metadata": {
      "needs_background": "light"
     },
     "output_type": "display_data"
    }
   ],
   "source": [
    "from matplotlib import pyplot as p\n",
    "p.scatter(y_train, y_pred)"
   ]
  },
  {
   "cell_type": "code",
   "execution_count": 94,
   "id": "2fa4348f",
   "metadata": {},
   "outputs": [
    {
     "data": {
      "text/plain": [
       "<matplotlib.collections.PathCollection at 0x20d9c643550>"
      ]
     },
     "execution_count": 94,
     "metadata": {},
     "output_type": "execute_result"
    },
    {
     "data": {
      "image/png": "[encoded data removed]",
      "text/plain": [
       "<Figure size 432x288 with 1 Axes>"
      ]
     },
     "metadata": {
      "needs_background": "light"
     },
     "output_type": "display_data"
    }
   ],
   "source": [
    "p.scatter(y_test,y_test_pre)"
   ]
  },
  {
   "cell_type": "code",
   "execution_count": null,
   "id": "960b14c4",
   "metadata": {},
   "outputs": [],
   "source": []
  },
  {
   "cell_type": "code",
   "execution_count": null,
   "id": "6c025ad5",
   "metadata": {},
   "outputs": [],
   "source": []
  }
 ],
 "metadata": {
  "kernelspec": {
   "display_name": "Python 3 (ipykernel)",
   "language": "python",
   "name": "python3"
  },
  "language_info": {
   "codemirror_mode": {
    "name": "ipython",
    "version": 3
   },
   "file_extension": ".py",
   "mimetype": "text/x-python",
   "name": "python",
   "nbconvert_exporter": "python",
   "pygments_lexer": "ipython3",
   "version": "3.9.12"
  }
 },
 "nbformat": 4,
 "nbformat_minor": 5
}

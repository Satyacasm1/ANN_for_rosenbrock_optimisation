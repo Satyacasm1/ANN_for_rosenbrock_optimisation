{
 "cells": [
  {
   "cell_type": "code",
   "execution_count": 85,
   "id": "936aa69b",
   "metadata": {},
   "outputs": [],
   "source": [
    "#Defining the function and generation of data(rosenbrock, n=9)\n",
    "import numpy as np\n",
    "import pandas as pd\n",
    "import random\n",
    "l=2500 #no of datasets\n",
    "n=9\n",
    "inputs = np.random.uniform(-1.0, 1.0, size = (l,n)) #keeping the range of the function as (-1,1)\n",
    "x1 = inputs[:,0]\n",
    "x2 = inputs[:,1]\n",
    "x3 = inputs[:,2]\n",
    "x4 = inputs[:,3]\n",
    "x5 = inputs[:,4]\n",
    "x6 = inputs[:,5]\n",
    "x7 = inputs[:,6]\n",
    "x8 = inputs[:,7]\n",
    "x9 = inputs[:,8]\n",
    "Y = []\n",
    "for j in range(l):\n",
    "    r=0\n",
    "    for i in range(n-1):\n",
    "        r = r + (1.0 - inputs[j][i])**2+100.0*((inputs[j][i+1]-inputs[j][i]**2)**2)  #rosenbrock function\n",
    "    Y.append(r)\n"
   ]
  },
  {
   "cell_type": "code",
   "execution_count": 86,
   "id": "59ce377d",
   "metadata": {
    "scrolled": true
   },
   "outputs": [
    {
     "data": {
      "text/html": [
       "<div>\n",
       "<style scoped>\n",
       "    .dataframe tbody tr th:only-of-type {\n",
       "        vertical-align: middle;\n",
       "    }\n",
       "\n",
       "    .dataframe tbody tr th {\n",
       "        vertical-align: top;\n",
       "    }\n",
       "\n",
       "    .dataframe thead th {\n",
       "        text-align: right;\n",
       "    }\n",
       "</style>\n",
       "<table border=\"1\" class=\"dataframe\">\n",
       "  <thead>\n",
       "    <tr style=\"text-align: right;\">\n",
       "      <th></th>\n",
       "      <th>0</th>\n",
       "      <th>1</th>\n",
       "      <th>2</th>\n",
       "      <th>3</th>\n",
       "      <th>4</th>\n",
       "      <th>5</th>\n",
       "      <th>6</th>\n",
       "      <th>7</th>\n",
       "      <th>8</th>\n",
       "      <th>9</th>\n",
       "    </tr>\n",
       "  </thead>\n",
       "  <tbody>\n",
       "    <tr>\n",
       "      <th>0</th>\n",
       "      <td>0.486881</td>\n",
       "      <td>-0.773397</td>\n",
       "      <td>-0.050534</td>\n",
       "      <td>0.084568</td>\n",
       "      <td>-0.032604</td>\n",
       "      <td>-0.736818</td>\n",
       "      <td>0.295694</td>\n",
       "      <td>0.497740</td>\n",
       "      <td>-0.561831</td>\n",
       "      <td>298.125329</td>\n",
       "    </tr>\n",
       "    <tr>\n",
       "      <th>1</th>\n",
       "      <td>0.629629</td>\n",
       "      <td>0.957705</td>\n",
       "      <td>-0.659850</td>\n",
       "      <td>0.121552</td>\n",
       "      <td>0.824153</td>\n",
       "      <td>0.828809</td>\n",
       "      <td>-0.006234</td>\n",
       "      <td>0.237842</td>\n",
       "      <td>0.895073</td>\n",
       "      <td>487.138146</td>\n",
       "    </tr>\n",
       "    <tr>\n",
       "      <th>2</th>\n",
       "      <td>-0.712852</td>\n",
       "      <td>0.948625</td>\n",
       "      <td>0.572676</td>\n",
       "      <td>0.660235</td>\n",
       "      <td>-0.214652</td>\n",
       "      <td>0.542341</td>\n",
       "      <td>-0.398283</td>\n",
       "      <td>-0.982550</td>\n",
       "      <td>-0.914472</td>\n",
       "      <td>650.471675</td>\n",
       "    </tr>\n",
       "    <tr>\n",
       "      <th>3</th>\n",
       "      <td>-0.432045</td>\n",
       "      <td>0.884390</td>\n",
       "      <td>-0.044217</td>\n",
       "      <td>-0.804677</td>\n",
       "      <td>-0.516557</td>\n",
       "      <td>0.775618</td>\n",
       "      <td>-0.645234</td>\n",
       "      <td>0.445783</td>\n",
       "      <td>0.959935</td>\n",
       "      <td>568.687717</td>\n",
       "    </tr>\n",
       "    <tr>\n",
       "      <th>4</th>\n",
       "      <td>0.179924</td>\n",
       "      <td>0.043875</td>\n",
       "      <td>0.216944</td>\n",
       "      <td>-0.876370</td>\n",
       "      <td>-0.753894</td>\n",
       "      <td>0.685081</td>\n",
       "      <td>0.842100</td>\n",
       "      <td>0.230466</td>\n",
       "      <td>-0.526571</td>\n",
       "      <td>402.819802</td>\n",
       "    </tr>\n",
       "    <tr>\n",
       "      <th>...</th>\n",
       "      <td>...</td>\n",
       "      <td>...</td>\n",
       "      <td>...</td>\n",
       "      <td>...</td>\n",
       "      <td>...</td>\n",
       "      <td>...</td>\n",
       "      <td>...</td>\n",
       "      <td>...</td>\n",
       "      <td>...</td>\n",
       "      <td>...</td>\n",
       "    </tr>\n",
       "    <tr>\n",
       "      <th>2495</th>\n",
       "      <td>0.467579</td>\n",
       "      <td>-0.860763</td>\n",
       "      <td>0.800176</td>\n",
       "      <td>-0.560314</td>\n",
       "      <td>-0.392197</td>\n",
       "      <td>0.018670</td>\n",
       "      <td>-0.938476</td>\n",
       "      <td>-0.842295</td>\n",
       "      <td>-0.976001</td>\n",
       "      <td>998.068631</td>\n",
       "    </tr>\n",
       "    <tr>\n",
       "      <th>2496</th>\n",
       "      <td>0.833969</td>\n",
       "      <td>-0.392949</td>\n",
       "      <td>0.347030</td>\n",
       "      <td>-0.678596</td>\n",
       "      <td>0.920039</td>\n",
       "      <td>-0.584858</td>\n",
       "      <td>-0.387439</td>\n",
       "      <td>-0.669473</td>\n",
       "      <td>0.843922</td>\n",
       "      <td>560.507127</td>\n",
       "    </tr>\n",
       "    <tr>\n",
       "      <th>2497</th>\n",
       "      <td>0.202129</td>\n",
       "      <td>-0.514602</td>\n",
       "      <td>0.105609</td>\n",
       "      <td>-0.849493</td>\n",
       "      <td>0.763000</td>\n",
       "      <td>0.491210</td>\n",
       "      <td>0.295731</td>\n",
       "      <td>-0.483899</td>\n",
       "      <td>-0.334942</td>\n",
       "      <td>183.950358</td>\n",
       "    </tr>\n",
       "    <tr>\n",
       "      <th>2498</th>\n",
       "      <td>-0.176911</td>\n",
       "      <td>-0.005577</td>\n",
       "      <td>-0.846307</td>\n",
       "      <td>0.465155</td>\n",
       "      <td>0.474745</td>\n",
       "      <td>0.610356</td>\n",
       "      <td>-0.262790</td>\n",
       "      <td>0.604143</td>\n",
       "      <td>-0.765866</td>\n",
       "      <td>304.714127</td>\n",
       "    </tr>\n",
       "    <tr>\n",
       "      <th>2499</th>\n",
       "      <td>0.599377</td>\n",
       "      <td>0.161560</td>\n",
       "      <td>0.153107</td>\n",
       "      <td>-0.607970</td>\n",
       "      <td>0.273184</td>\n",
       "      <td>-0.578427</td>\n",
       "      <td>0.575376</td>\n",
       "      <td>-0.529609</td>\n",
       "      <td>0.688512</td>\n",
       "      <td>195.195446</td>\n",
       "    </tr>\n",
       "  </tbody>\n",
       "</table>\n",
       "<p>2500 rows × 10 columns</p>\n",
       "</div>"
      ],
      "text/plain": [
       "             0         1         2         3         4         5         6  \\\n",
       "0     0.486881 -0.773397 -0.050534  0.084568 -0.032604 -0.736818  0.295694   \n",
       "1     0.629629  0.957705 -0.659850  0.121552  0.824153  0.828809 -0.006234   \n",
       "2    -0.712852  0.948625  0.572676  0.660235 -0.214652  0.542341 -0.398283   \n",
       "3    -0.432045  0.884390 -0.044217 -0.804677 -0.516557  0.775618 -0.645234   \n",
       "4     0.179924  0.043875  0.216944 -0.876370 -0.753894  0.685081  0.842100   \n",
       "...        ...       ...       ...       ...       ...       ...       ...   \n",
       "2495  0.467579 -0.860763  0.800176 -0.560314 -0.392197  0.018670 -0.938476   \n",
       "2496  0.833969 -0.392949  0.347030 -0.678596  0.920039 -0.584858 -0.387439   \n",
       "2497  0.202129 -0.514602  0.105609 -0.849493  0.763000  0.491210  0.295731   \n",
       "2498 -0.176911 -0.005577 -0.846307  0.465155  0.474745  0.610356 -0.262790   \n",
       "2499  0.599377  0.161560  0.153107 -0.607970  0.273184 -0.578427  0.575376   \n",
       "\n",
       "             7         8           9  \n",
       "0     0.497740 -0.561831  298.125329  \n",
       "1     0.237842  0.895073  487.138146  \n",
       "2    -0.982550 -0.914472  650.471675  \n",
       "3     0.445783  0.959935  568.687717  \n",
       "4     0.230466 -0.526571  402.819802  \n",
       "...        ...       ...         ...  \n",
       "2495 -0.842295 -0.976001  998.068631  \n",
       "2496 -0.669473  0.843922  560.507127  \n",
       "2497 -0.483899 -0.334942  183.950358  \n",
       "2498  0.604143 -0.765866  304.714127  \n",
       "2499 -0.529609  0.688512  195.195446  \n",
       "\n",
       "[2500 rows x 10 columns]"
      ]
     },
     "execution_count": 86,
     "metadata": {},
     "output_type": "execute_result"
    }
   ],
   "source": [
    "# Creating a dataframe for the data generated above\n",
    "import pandas as pd\n",
    "data=zip(x1, x2, x3, x4, x5, x6, x7, x8, x9,Y)\n",
    "data_to_excel=pd.DataFrame(data)\n",
    "data_to_excel"
   ]
  },
  {
   "cell_type": "code",
   "execution_count": 87,
   "id": "c66ef34b",
   "metadata": {},
   "outputs": [],
   "source": [
    "#Saving the data generated as excel file\n",
    "data_to_excel.to_excel('C:\\\\Users\\\\satya\\\\rosenbrock.xlsx')\n"
   ]
  },
  {
   "cell_type": "code",
   "execution_count": 88,
   "id": "81257503",
   "metadata": {
    "scrolled": false
   },
   "outputs": [
    {
     "data": {
      "text/html": [
       "<div>\n",
       "<style scoped>\n",
       "    .dataframe tbody tr th:only-of-type {\n",
       "        vertical-align: middle;\n",
       "    }\n",
       "\n",
       "    .dataframe tbody tr th {\n",
       "        vertical-align: top;\n",
       "    }\n",
       "\n",
       "    .dataframe thead th {\n",
       "        text-align: right;\n",
       "    }\n",
       "</style>\n",
       "<table border=\"1\" class=\"dataframe\">\n",
       "  <thead>\n",
       "    <tr style=\"text-align: right;\">\n",
       "      <th></th>\n",
       "      <th>Unnamed: 0</th>\n",
       "      <th>0</th>\n",
       "      <th>1</th>\n",
       "      <th>2</th>\n",
       "      <th>3</th>\n",
       "      <th>4</th>\n",
       "      <th>5</th>\n",
       "      <th>6</th>\n",
       "      <th>7</th>\n",
       "      <th>8</th>\n",
       "      <th>9</th>\n",
       "    </tr>\n",
       "  </thead>\n",
       "  <tbody>\n",
       "    <tr>\n",
       "      <th>0</th>\n",
       "      <td>0</td>\n",
       "      <td>0.486881</td>\n",
       "      <td>-0.773397</td>\n",
       "      <td>-0.050534</td>\n",
       "      <td>0.084568</td>\n",
       "      <td>-0.032604</td>\n",
       "      <td>-0.736818</td>\n",
       "      <td>0.295694</td>\n",
       "      <td>0.497740</td>\n",
       "      <td>-0.561831</td>\n",
       "      <td>298.125329</td>\n",
       "    </tr>\n",
       "    <tr>\n",
       "      <th>1</th>\n",
       "      <td>1</td>\n",
       "      <td>0.629629</td>\n",
       "      <td>0.957705</td>\n",
       "      <td>-0.659850</td>\n",
       "      <td>0.121552</td>\n",
       "      <td>0.824153</td>\n",
       "      <td>0.828809</td>\n",
       "      <td>-0.006234</td>\n",
       "      <td>0.237842</td>\n",
       "      <td>0.895073</td>\n",
       "      <td>487.138146</td>\n",
       "    </tr>\n",
       "    <tr>\n",
       "      <th>2</th>\n",
       "      <td>2</td>\n",
       "      <td>-0.712852</td>\n",
       "      <td>0.948625</td>\n",
       "      <td>0.572676</td>\n",
       "      <td>0.660235</td>\n",
       "      <td>-0.214652</td>\n",
       "      <td>0.542341</td>\n",
       "      <td>-0.398283</td>\n",
       "      <td>-0.982550</td>\n",
       "      <td>-0.914472</td>\n",
       "      <td>650.471675</td>\n",
       "    </tr>\n",
       "    <tr>\n",
       "      <th>3</th>\n",
       "      <td>3</td>\n",
       "      <td>-0.432045</td>\n",
       "      <td>0.884390</td>\n",
       "      <td>-0.044217</td>\n",
       "      <td>-0.804677</td>\n",
       "      <td>-0.516557</td>\n",
       "      <td>0.775618</td>\n",
       "      <td>-0.645234</td>\n",
       "      <td>0.445783</td>\n",
       "      <td>0.959935</td>\n",
       "      <td>568.687717</td>\n",
       "    </tr>\n",
       "    <tr>\n",
       "      <th>4</th>\n",
       "      <td>4</td>\n",
       "      <td>0.179924</td>\n",
       "      <td>0.043875</td>\n",
       "      <td>0.216944</td>\n",
       "      <td>-0.876370</td>\n",
       "      <td>-0.753894</td>\n",
       "      <td>0.685081</td>\n",
       "      <td>0.842100</td>\n",
       "      <td>0.230466</td>\n",
       "      <td>-0.526571</td>\n",
       "      <td>402.819802</td>\n",
       "    </tr>\n",
       "    <tr>\n",
       "      <th>...</th>\n",
       "      <td>...</td>\n",
       "      <td>...</td>\n",
       "      <td>...</td>\n",
       "      <td>...</td>\n",
       "      <td>...</td>\n",
       "      <td>...</td>\n",
       "      <td>...</td>\n",
       "      <td>...</td>\n",
       "      <td>...</td>\n",
       "      <td>...</td>\n",
       "      <td>...</td>\n",
       "    </tr>\n",
       "    <tr>\n",
       "      <th>2495</th>\n",
       "      <td>2495</td>\n",
       "      <td>0.467579</td>\n",
       "      <td>-0.860763</td>\n",
       "      <td>0.800176</td>\n",
       "      <td>-0.560314</td>\n",
       "      <td>-0.392197</td>\n",
       "      <td>0.018670</td>\n",
       "      <td>-0.938476</td>\n",
       "      <td>-0.842295</td>\n",
       "      <td>-0.976001</td>\n",
       "      <td>998.068631</td>\n",
       "    </tr>\n",
       "    <tr>\n",
       "      <th>2496</th>\n",
       "      <td>2496</td>\n",
       "      <td>0.833969</td>\n",
       "      <td>-0.392949</td>\n",
       "      <td>0.347030</td>\n",
       "      <td>-0.678596</td>\n",
       "      <td>0.920039</td>\n",
       "      <td>-0.584858</td>\n",
       "      <td>-0.387439</td>\n",
       "      <td>-0.669473</td>\n",
       "      <td>0.843922</td>\n",
       "      <td>560.507127</td>\n",
       "    </tr>\n",
       "    <tr>\n",
       "      <th>2497</th>\n",
       "      <td>2497</td>\n",
       "      <td>0.202129</td>\n",
       "      <td>-0.514602</td>\n",
       "      <td>0.105609</td>\n",
       "      <td>-0.849493</td>\n",
       "      <td>0.763000</td>\n",
       "      <td>0.491210</td>\n",
       "      <td>0.295731</td>\n",
       "      <td>-0.483899</td>\n",
       "      <td>-0.334942</td>\n",
       "      <td>183.950358</td>\n",
       "    </tr>\n",
       "    <tr>\n",
       "      <th>2498</th>\n",
       "      <td>2498</td>\n",
       "      <td>-0.176911</td>\n",
       "      <td>-0.005577</td>\n",
       "      <td>-0.846307</td>\n",
       "      <td>0.465155</td>\n",
       "      <td>0.474745</td>\n",
       "      <td>0.610356</td>\n",
       "      <td>-0.262790</td>\n",
       "      <td>0.604143</td>\n",
       "      <td>-0.765866</td>\n",
       "      <td>304.714127</td>\n",
       "    </tr>\n",
       "    <tr>\n",
       "      <th>2499</th>\n",
       "      <td>2499</td>\n",
       "      <td>0.599377</td>\n",
       "      <td>0.161560</td>\n",
       "      <td>0.153107</td>\n",
       "      <td>-0.607970</td>\n",
       "      <td>0.273184</td>\n",
       "      <td>-0.578427</td>\n",
       "      <td>0.575376</td>\n",
       "      <td>-0.529609</td>\n",
       "      <td>0.688512</td>\n",
       "      <td>195.195446</td>\n",
       "    </tr>\n",
       "  </tbody>\n",
       "</table>\n",
       "<p>2500 rows × 11 columns</p>\n",
       "</div>"
      ],
      "text/plain": [
       "      Unnamed: 0         0         1         2         3         4         5  \\\n",
       "0              0  0.486881 -0.773397 -0.050534  0.084568 -0.032604 -0.736818   \n",
       "1              1  0.629629  0.957705 -0.659850  0.121552  0.824153  0.828809   \n",
       "2              2 -0.712852  0.948625  0.572676  0.660235 -0.214652  0.542341   \n",
       "3              3 -0.432045  0.884390 -0.044217 -0.804677 -0.516557  0.775618   \n",
       "4              4  0.179924  0.043875  0.216944 -0.876370 -0.753894  0.685081   \n",
       "...          ...       ...       ...       ...       ...       ...       ...   \n",
       "2495        2495  0.467579 -0.860763  0.800176 -0.560314 -0.392197  0.018670   \n",
       "2496        2496  0.833969 -0.392949  0.347030 -0.678596  0.920039 -0.584858   \n",
       "2497        2497  0.202129 -0.514602  0.105609 -0.849493  0.763000  0.491210   \n",
       "2498        2498 -0.176911 -0.005577 -0.846307  0.465155  0.474745  0.610356   \n",
       "2499        2499  0.599377  0.161560  0.153107 -0.607970  0.273184 -0.578427   \n",
       "\n",
       "             6         7         8           9  \n",
       "0     0.295694  0.497740 -0.561831  298.125329  \n",
       "1    -0.006234  0.237842  0.895073  487.138146  \n",
       "2    -0.398283 -0.982550 -0.914472  650.471675  \n",
       "3    -0.645234  0.445783  0.959935  568.687717  \n",
       "4     0.842100  0.230466 -0.526571  402.819802  \n",
       "...        ...       ...       ...         ...  \n",
       "2495 -0.938476 -0.842295 -0.976001  998.068631  \n",
       "2496 -0.387439 -0.669473  0.843922  560.507127  \n",
       "2497  0.295731 -0.483899 -0.334942  183.950358  \n",
       "2498 -0.262790  0.604143 -0.765866  304.714127  \n",
       "2499  0.575376 -0.529609  0.688512  195.195446  \n",
       "\n",
       "[2500 rows x 11 columns]"
      ]
     },
     "execution_count": 88,
     "metadata": {},
     "output_type": "execute_result"
    }
   ],
   "source": [
    "#Reading the data from the excel file created in the previous step\n",
    "import pandas as pd\n",
    "data1=pd.read_excel('C:\\\\Users\\\\satya\\\\rosenbrock.xlsx')\n",
    "data1"
   ]
  },
  {
   "cell_type": "code",
   "execution_count": 89,
   "id": "b1ba5ca7",
   "metadata": {},
   "outputs": [],
   "source": [
    "#Normalizing the data\n",
    "from sklearn.preprocessing import MinMaxScaler\n",
    "scaler=MinMaxScaler()\n",
    "scaled_data=scaler.fit_transform(data1.values)"
   ]
  },
  {
   "cell_type": "code",
   "execution_count": 90,
   "id": "f7d962c4",
   "metadata": {},
   "outputs": [],
   "source": [
    "X=scaled_data[:,1:10]\n",
    "y=scaled_data[:,10]"
   ]
  },
  {
   "cell_type": "code",
   "execution_count": 91,
   "id": "73c29c6c",
   "metadata": {},
   "outputs": [],
   "source": [
    "#Splitting the data using sklearn function\n",
    "from sklearn.model_selection import train_test_split\n",
    "X_train,X_test,y_train,y_test=train_test_split(X,y,test_size=0.15,random_state=0) #Random state: to obtain the same data every time we run kernel"
   ]
  },
  {
   "cell_type": "code",
   "execution_count": 92,
   "id": "521af270",
   "metadata": {},
   "outputs": [
    {
     "data": {
      "text/plain": [
       "(2125, 9)"
      ]
     },
     "execution_count": 92,
     "metadata": {},
     "output_type": "execute_result"
    }
   ],
   "source": [
    "X_train.shape #to know the size of the dataset"
   ]
  },
  {
   "cell_type": "code",
   "execution_count": 93,
   "id": "a155e56e",
   "metadata": {},
   "outputs": [],
   "source": [
    "#Creating sequential ANN model\n",
    "from tensorflow.keras import Sequential\n",
    "from tensorflow.keras.layers import Dense"
   ]
  },
  {
   "cell_type": "code",
   "execution_count": 94,
   "id": "df8d67ee",
   "metadata": {},
   "outputs": [],
   "source": [
    "#Creating ANN with mentioned nodes, hidden layers,inputs,outputs and activation function\n",
    "model=Sequential()\n",
    "model.add(Dense(100,input_dim=9,activation='relu'))\n",
    "model.add(Dense(110,activation='relu'))\n",
    "model.add(Dense(1,activation='linear'))"
   ]
  },
  {
   "cell_type": "code",
   "execution_count": 95,
   "id": "746b1383",
   "metadata": {},
   "outputs": [
    {
     "name": "stdout",
     "output_type": "stream",
     "text": [
      "Model: \"sequential_4\"\n",
      "_________________________________________________________________\n",
      " Layer (type)                Output Shape              Param #   \n",
      "=================================================================\n",
      " dense_12 (Dense)            (None, 100)               1000      \n",
      "                                                                 \n",
      " dense_13 (Dense)            (None, 110)               11110     \n",
      "                                                                 \n",
      " dense_14 (Dense)            (None, 1)                 111       \n",
      "                                                                 \n",
      "=================================================================\n",
      "Total params: 12,221\n",
      "Trainable params: 12,221\n",
      "Non-trainable params: 0\n",
      "_________________________________________________________________\n",
      "None\n"
     ]
    }
   ],
   "source": [
    "print(model.summary()) #model summary of total,trainable and non trainable parameters"
   ]
  },
  {
   "cell_type": "code",
   "execution_count": 96,
   "id": "68295a96",
   "metadata": {},
   "outputs": [],
   "source": [
    "#Training the ANN using adam optimiser and MSE as loss fn.\n",
    "model.compile(optimizer='adam',loss='MSE')"
   ]
  },
  {
   "cell_type": "code",
   "execution_count": 97,
   "id": "58ae5254",
   "metadata": {
    "scrolled": true
   },
   "outputs": [
    {
     "name": "stdout",
     "output_type": "stream",
     "text": [
      "Epoch 1/100\n",
      "57/57 [==============================] - 1s 5ms/step - loss: 0.0319 - val_loss: 0.0149\n",
      "Epoch 2/100\n",
      "57/57 [==============================] - 0s 3ms/step - loss: 0.0111 - val_loss: 0.0088\n",
      "Epoch 3/100\n",
      "57/57 [==============================] - 0s 3ms/step - loss: 0.0084 - val_loss: 0.0076\n",
      "Epoch 4/100\n",
      "57/57 [==============================] - 0s 2ms/step - loss: 0.0067 - val_loss: 0.0067\n",
      "Epoch 5/100\n",
      "57/57 [==============================] - 0s 3ms/step - loss: 0.0059 - val_loss: 0.0068\n",
      "Epoch 6/100\n",
      "57/57 [==============================] - 0s 3ms/step - loss: 0.0053 - val_loss: 0.0058\n",
      "Epoch 7/100\n",
      "57/57 [==============================] - 0s 3ms/step - loss: 0.0047 - val_loss: 0.0050\n",
      "Epoch 8/100\n",
      "57/57 [==============================] - 0s 2ms/step - loss: 0.0043 - val_loss: 0.0051\n",
      "Epoch 9/100\n",
      "57/57 [==============================] - 0s 3ms/step - loss: 0.0041 - val_loss: 0.0043\n",
      "Epoch 10/100\n",
      "57/57 [==============================] - 0s 3ms/step - loss: 0.0036 - val_loss: 0.0045\n",
      "Epoch 11/100\n",
      "57/57 [==============================] - 0s 2ms/step - loss: 0.0034 - val_loss: 0.0036\n",
      "Epoch 12/100\n",
      "57/57 [==============================] - 0s 3ms/step - loss: 0.0032 - val_loss: 0.0042\n",
      "Epoch 13/100\n",
      "57/57 [==============================] - 0s 2ms/step - loss: 0.0030 - val_loss: 0.0037\n",
      "Epoch 14/100\n",
      "57/57 [==============================] - 0s 2ms/step - loss: 0.0027 - val_loss: 0.0045\n",
      "Epoch 15/100\n",
      "57/57 [==============================] - 0s 2ms/step - loss: 0.0025 - val_loss: 0.0030\n",
      "Epoch 16/100\n",
      "57/57 [==============================] - 0s 2ms/step - loss: 0.0024 - val_loss: 0.0032\n",
      "Epoch 17/100\n",
      "57/57 [==============================] - 0s 2ms/step - loss: 0.0023 - val_loss: 0.0030\n",
      "Epoch 18/100\n",
      "57/57 [==============================] - 0s 2ms/step - loss: 0.0021 - val_loss: 0.0027\n",
      "Epoch 19/100\n",
      "57/57 [==============================] - 0s 2ms/step - loss: 0.0019 - val_loss: 0.0025\n",
      "Epoch 20/100\n",
      "57/57 [==============================] - 0s 1ms/step - loss: 0.0018 - val_loss: 0.0025\n",
      "Epoch 21/100\n",
      "57/57 [==============================] - 0s 2ms/step - loss: 0.0016 - val_loss: 0.0024\n",
      "Epoch 22/100\n",
      "57/57 [==============================] - 0s 2ms/step - loss: 0.0015 - val_loss: 0.0024\n",
      "Epoch 23/100\n",
      "57/57 [==============================] - 0s 2ms/step - loss: 0.0014 - val_loss: 0.0023\n",
      "Epoch 24/100\n",
      "57/57 [==============================] - 0s 2ms/step - loss: 0.0014 - val_loss: 0.0023\n",
      "Epoch 25/100\n",
      "57/57 [==============================] - 0s 2ms/step - loss: 0.0013 - val_loss: 0.0025\n",
      "Epoch 26/100\n",
      "57/57 [==============================] - 0s 2ms/step - loss: 0.0012 - val_loss: 0.0022\n",
      "Epoch 27/100\n",
      "57/57 [==============================] - 0s 2ms/step - loss: 0.0012 - val_loss: 0.0019\n",
      "Epoch 28/100\n",
      "57/57 [==============================] - 0s 2ms/step - loss: 0.0012 - val_loss: 0.0020\n",
      "Epoch 29/100\n",
      "57/57 [==============================] - 0s 2ms/step - loss: 0.0012 - val_loss: 0.0021\n",
      "Epoch 30/100\n",
      "57/57 [==============================] - 0s 2ms/step - loss: 0.0010 - val_loss: 0.0021\n",
      "Epoch 31/100\n",
      "57/57 [==============================] - 0s 2ms/step - loss: 0.0011 - val_loss: 0.0021\n",
      "Epoch 32/100\n",
      "57/57 [==============================] - 0s 2ms/step - loss: 9.2559e-04 - val_loss: 0.0020\n",
      "Epoch 33/100\n",
      "57/57 [==============================] - 0s 2ms/step - loss: 9.5267e-04 - val_loss: 0.0025\n",
      "Epoch 34/100\n",
      "57/57 [==============================] - 0s 2ms/step - loss: 9.0899e-04 - val_loss: 0.0018\n",
      "Epoch 35/100\n",
      "57/57 [==============================] - 0s 2ms/step - loss: 8.6825e-04 - val_loss: 0.0019\n",
      "Epoch 36/100\n",
      "57/57 [==============================] - 0s 2ms/step - loss: 8.4443e-04 - val_loss: 0.0018\n",
      "Epoch 37/100\n",
      "57/57 [==============================] - 0s 2ms/step - loss: 8.0483e-04 - val_loss: 0.0020\n",
      "Epoch 38/100\n",
      "57/57 [==============================] - 0s 2ms/step - loss: 7.8132e-04 - val_loss: 0.0019\n",
      "Epoch 39/100\n",
      "57/57 [==============================] - 0s 2ms/step - loss: 7.3737e-04 - val_loss: 0.0019\n",
      "Epoch 40/100\n",
      "57/57 [==============================] - 0s 2ms/step - loss: 7.8469e-04 - val_loss: 0.0018\n",
      "Epoch 41/100\n",
      "57/57 [==============================] - 0s 2ms/step - loss: 7.4968e-04 - val_loss: 0.0022\n",
      "Epoch 42/100\n",
      "57/57 [==============================] - 0s 2ms/step - loss: 7.8820e-04 - val_loss: 0.0017\n",
      "Epoch 43/100\n",
      "57/57 [==============================] - 0s 2ms/step - loss: 7.2006e-04 - val_loss: 0.0017\n",
      "Epoch 44/100\n",
      "57/57 [==============================] - 0s 2ms/step - loss: 5.9727e-04 - val_loss: 0.0016\n",
      "Epoch 45/100\n",
      "57/57 [==============================] - 0s 2ms/step - loss: 7.3878e-04 - val_loss: 0.0020\n",
      "Epoch 46/100\n",
      "57/57 [==============================] - 0s 2ms/step - loss: 7.1551e-04 - val_loss: 0.0017\n",
      "Epoch 47/100\n",
      "57/57 [==============================] - 0s 2ms/step - loss: 5.7599e-04 - val_loss: 0.0017\n",
      "Epoch 48/100\n",
      "57/57 [==============================] - 0s 2ms/step - loss: 5.9379e-04 - val_loss: 0.0024\n",
      "Epoch 49/100\n",
      "57/57 [==============================] - 0s 2ms/step - loss: 8.2916e-04 - val_loss: 0.0017\n",
      "Epoch 50/100\n",
      "57/57 [==============================] - 0s 2ms/step - loss: 5.5275e-04 - val_loss: 0.0016\n",
      "Epoch 51/100\n",
      "57/57 [==============================] - 0s 2ms/step - loss: 5.8683e-04 - val_loss: 0.0015\n",
      "Epoch 52/100\n",
      "57/57 [==============================] - 0s 2ms/step - loss: 5.9603e-04 - val_loss: 0.0018\n",
      "Epoch 53/100\n",
      "57/57 [==============================] - 0s 2ms/step - loss: 5.1765e-04 - val_loss: 0.0018\n",
      "Epoch 54/100\n",
      "57/57 [==============================] - 0s 2ms/step - loss: 5.5739e-04 - val_loss: 0.0017\n",
      "Epoch 55/100\n",
      "57/57 [==============================] - 0s 2ms/step - loss: 4.9207e-04 - val_loss: 0.0017\n",
      "Epoch 56/100\n",
      "57/57 [==============================] - 0s 2ms/step - loss: 4.8368e-04 - val_loss: 0.0016\n",
      "Epoch 57/100\n",
      "57/57 [==============================] - 0s 2ms/step - loss: 5.0025e-04 - val_loss: 0.0017\n",
      "Epoch 58/100\n",
      "57/57 [==============================] - 0s 2ms/step - loss: 5.7600e-04 - val_loss: 0.0017\n",
      "Epoch 59/100\n",
      "57/57 [==============================] - 0s 2ms/step - loss: 5.9727e-04 - val_loss: 0.0017\n",
      "Epoch 60/100\n",
      "57/57 [==============================] - 0s 2ms/step - loss: 4.9238e-04 - val_loss: 0.0016\n",
      "Epoch 61/100\n",
      "57/57 [==============================] - 0s 2ms/step - loss: 4.5945e-04 - val_loss: 0.0015\n",
      "Epoch 62/100\n",
      "57/57 [==============================] - 0s 2ms/step - loss: 4.0968e-04 - val_loss: 0.0016\n",
      "Epoch 63/100\n",
      "57/57 [==============================] - 0s 2ms/step - loss: 3.7618e-04 - val_loss: 0.0015\n",
      "Epoch 64/100\n",
      "57/57 [==============================] - 0s 2ms/step - loss: 3.9406e-04 - val_loss: 0.0016\n",
      "Epoch 65/100\n",
      "57/57 [==============================] - 0s 2ms/step - loss: 4.0884e-04 - val_loss: 0.0016\n",
      "Epoch 66/100\n",
      "57/57 [==============================] - 0s 2ms/step - loss: 4.3224e-04 - val_loss: 0.0016\n",
      "Epoch 67/100\n",
      "57/57 [==============================] - 0s 2ms/step - loss: 3.7252e-04 - val_loss: 0.0015\n",
      "Epoch 68/100\n",
      "57/57 [==============================] - 0s 2ms/step - loss: 6.0158e-04 - val_loss: 0.0016\n",
      "Epoch 69/100\n",
      "57/57 [==============================] - 0s 1ms/step - loss: 4.3180e-04 - val_loss: 0.0016\n",
      "Epoch 70/100\n",
      "57/57 [==============================] - 0s 2ms/step - loss: 3.4130e-04 - val_loss: 0.0015\n",
      "Epoch 71/100\n",
      "57/57 [==============================] - 0s 2ms/step - loss: 3.1034e-04 - val_loss: 0.0015\n",
      "Epoch 72/100\n",
      "57/57 [==============================] - 0s 2ms/step - loss: 3.5801e-04 - val_loss: 0.0015\n",
      "Epoch 73/100\n",
      "57/57 [==============================] - 0s 2ms/step - loss: 3.4469e-04 - val_loss: 0.0015\n",
      "Epoch 74/100\n",
      "57/57 [==============================] - 0s 2ms/step - loss: 3.6403e-04 - val_loss: 0.0016\n",
      "Epoch 75/100\n",
      "57/57 [==============================] - 0s 2ms/step - loss: 3.5383e-04 - val_loss: 0.0016\n",
      "Epoch 76/100\n",
      "57/57 [==============================] - 0s 2ms/step - loss: 3.1865e-04 - val_loss: 0.0016\n",
      "Epoch 77/100\n",
      "57/57 [==============================] - 0s 2ms/step - loss: 2.8654e-04 - val_loss: 0.0016\n",
      "Epoch 78/100\n",
      "57/57 [==============================] - 0s 2ms/step - loss: 3.3513e-04 - val_loss: 0.0016\n",
      "Epoch 79/100\n",
      "57/57 [==============================] - 0s 2ms/step - loss: 3.9779e-04 - val_loss: 0.0017\n",
      "Epoch 80/100\n",
      "57/57 [==============================] - 0s 2ms/step - loss: 3.7657e-04 - val_loss: 0.0015\n",
      "Epoch 81/100\n"
     ]
    },
    {
     "name": "stdout",
     "output_type": "stream",
     "text": [
      "57/57 [==============================] - 0s 2ms/step - loss: 3.7006e-04 - val_loss: 0.0015\n",
      "Epoch 82/100\n",
      "57/57 [==============================] - 0s 1ms/step - loss: 2.7106e-04 - val_loss: 0.0017\n",
      "Epoch 83/100\n",
      "57/57 [==============================] - 0s 2ms/step - loss: 2.8129e-04 - val_loss: 0.0015\n",
      "Epoch 84/100\n",
      "57/57 [==============================] - 0s 2ms/step - loss: 2.6442e-04 - val_loss: 0.0014\n",
      "Epoch 85/100\n",
      "57/57 [==============================] - 0s 2ms/step - loss: 2.7713e-04 - val_loss: 0.0014\n",
      "Epoch 86/100\n",
      "57/57 [==============================] - 0s 2ms/step - loss: 2.7035e-04 - val_loss: 0.0015\n",
      "Epoch 87/100\n",
      "57/57 [==============================] - 0s 1ms/step - loss: 3.8468e-04 - val_loss: 0.0016\n",
      "Epoch 88/100\n",
      "57/57 [==============================] - 0s 2ms/step - loss: 3.5963e-04 - val_loss: 0.0016\n",
      "Epoch 89/100\n",
      "57/57 [==============================] - 0s 1ms/step - loss: 3.1549e-04 - val_loss: 0.0015\n",
      "Epoch 90/100\n",
      "57/57 [==============================] - 0s 2ms/step - loss: 3.6601e-04 - val_loss: 0.0017\n",
      "Epoch 91/100\n",
      "57/57 [==============================] - 0s 2ms/step - loss: 2.7723e-04 - val_loss: 0.0015\n",
      "Epoch 92/100\n",
      "57/57 [==============================] - 0s 2ms/step - loss: 2.5648e-04 - val_loss: 0.0015\n",
      "Epoch 93/100\n",
      "57/57 [==============================] - 0s 2ms/step - loss: 2.4520e-04 - val_loss: 0.0015\n",
      "Epoch 94/100\n",
      "57/57 [==============================] - 0s 2ms/step - loss: 3.0759e-04 - val_loss: 0.0014\n",
      "Epoch 95/100\n",
      "57/57 [==============================] - 0s 2ms/step - loss: 2.7284e-04 - val_loss: 0.0016\n",
      "Epoch 96/100\n",
      "57/57 [==============================] - 0s 2ms/step - loss: 2.8533e-04 - val_loss: 0.0015\n",
      "Epoch 97/100\n",
      "57/57 [==============================] - 0s 1ms/step - loss: 2.3290e-04 - val_loss: 0.0015\n",
      "Epoch 98/100\n",
      "57/57 [==============================] - 0s 2ms/step - loss: 1.9452e-04 - val_loss: 0.0014\n",
      "Epoch 99/100\n",
      "57/57 [==============================] - 0s 2ms/step - loss: 2.2935e-04 - val_loss: 0.0014\n",
      "Epoch 100/100\n",
      "57/57 [==============================] - 0s 2ms/step - loss: 2.5716e-04 - val_loss: 0.0016\n"
     ]
    }
   ],
   "source": [
    "#Validation splits and iterations\n",
    "history=model.fit(X_train,y_train,epochs=100,validation_split=0.15)"
   ]
  },
  {
   "cell_type": "code",
   "execution_count": 98,
   "id": "a0ff0327",
   "metadata": {},
   "outputs": [],
   "source": [
    "from sklearn.metrics import r2_score"
   ]
  },
  {
   "cell_type": "code",
   "execution_count": 99,
   "id": "1df4e718",
   "metadata": {},
   "outputs": [
    {
     "name": "stdout",
     "output_type": "stream",
     "text": [
      "67/67 [==============================] - 0s 1ms/step\n"
     ]
    }
   ],
   "source": [
    "y_train_pre=model.predict(X_train)"
   ]
  },
  {
   "cell_type": "code",
   "execution_count": 100,
   "id": "f0a0a021",
   "metadata": {},
   "outputs": [
    {
     "data": {
      "text/plain": [
       "0.9815740374443199"
      ]
     },
     "execution_count": 100,
     "metadata": {},
     "output_type": "execute_result"
    }
   ],
   "source": [
    "#r2 value for train data\n",
    "r2_train=r2_score(y_train,y_train_pre)\n",
    "r2_train"
   ]
  },
  {
   "cell_type": "code",
   "execution_count": 101,
   "id": "65a42485",
   "metadata": {
    "scrolled": false
   },
   "outputs": [
    {
     "name": "stdout",
     "output_type": "stream",
     "text": [
      "12/12 [==============================] - 0s 1ms/step\n"
     ]
    },
    {
     "data": {
      "text/plain": [
       "0.9165761145109176"
      ]
     },
     "execution_count": 101,
     "metadata": {},
     "output_type": "execute_result"
    }
   ],
   "source": [
    "#r2 value for test data\n",
    "y_test_pre=model.predict(X_test)\n",
    "r2_test=r2_score(y_test,y_test_pre)\n",
    "r2_test"
   ]
  },
  {
   "cell_type": "code",
   "execution_count": 102,
   "id": "bf09fa8e",
   "metadata": {},
   "outputs": [
    {
     "name": "stdout",
     "output_type": "stream",
     "text": [
      "67/67 [==============================] - 0s 937us/step\n"
     ]
    },
    {
     "data": {
      "text/plain": [
       "0.00045796523246339474"
      ]
     },
     "execution_count": 102,
     "metadata": {},
     "output_type": "execute_result"
    }
   ],
   "source": [
    "#Mean squared error for training data\n",
    "from sklearn.metrics import mean_squared_error\n",
    "y_pred = model.predict(X_train)\n",
    "mse = mean_squared_error(y_train, y_pred)\n",
    "mse"
   ]
  },
  {
   "cell_type": "code",
   "execution_count": 103,
   "id": "2f0d2bf6",
   "metadata": {},
   "outputs": [
    {
     "data": {
      "text/plain": [
       "<matplotlib.collections.PathCollection at 0x205a9061eb0>"
      ]
     },
     "execution_count": 103,
     "metadata": {},
     "output_type": "execute_result"
    },
    {
     "data": {
      "image/png": "[encoded data removed]",
      "text/plain": [
       "<Figure size 432x288 with 1 Axes>"
      ]
     },
     "metadata": {
      "needs_background": "light"
     },
     "output_type": "display_data"
    }
   ],
   "source": [
    "#Plotting scatter plot graphs for train ansd test data using the matplotlib function\n",
    "from matplotlib import pyplot as p\n",
    "p.scatter(y_train, y_pred)"
   ]
  },
  {
   "cell_type": "code",
   "execution_count": 104,
   "id": "d1ba9c22",
   "metadata": {},
   "outputs": [
    {
     "data": {
      "text/plain": [
       "<matplotlib.collections.PathCollection at 0x205aaadfa60>"
      ]
     },
     "execution_count": 104,
     "metadata": {},
     "output_type": "execute_result"
    },
    {
     "data": {
      "image/png": "[encoded data removed]",
      "text/plain": [
       "<Figure size 432x288 with 1 Axes>"
      ]
     },
     "metadata": {
      "needs_background": "light"
     },
     "output_type": "display_data"
    }
   ],
   "source": [
    "p.scatter(y_test,y_test_pre)"
   ]
  },
  {
   "cell_type": "markdown",
   "id": "b4183735",
   "metadata": {},
   "source": [
    "Training same network using RMSProp optimizer\n"
   ]
  },
  {
   "cell_type": "code",
   "execution_count": 64,
   "id": "4f7e18e6",
   "metadata": {},
   "outputs": [],
   "source": [
    "#Training the ANN using RMSProp optimiser and MSE loss f.\n",
    "model.compile(optimizer='RMSProp',loss='MSE')\n"
   ]
  },
  {
   "cell_type": "code",
   "execution_count": 65,
   "id": "8d1d5187",
   "metadata": {},
   "outputs": [
    {
     "name": "stdout",
     "output_type": "stream",
     "text": [
      "Epoch 1/100\n",
      "57/57 [==============================] - 1s 4ms/step - loss: 0.0022 - val_loss: 0.0024\n",
      "Epoch 2/100\n",
      "57/57 [==============================] - 0s 2ms/step - loss: 0.0015 - val_loss: 0.0031\n",
      "Epoch 3/100\n",
      "57/57 [==============================] - 0s 2ms/step - loss: 0.0016 - val_loss: 0.0022\n",
      "Epoch 4/100\n",
      "57/57 [==============================] - 0s 2ms/step - loss: 0.0015 - val_loss: 0.0030\n",
      "Epoch 5/100\n",
      "57/57 [==============================] - 0s 2ms/step - loss: 0.0015 - val_loss: 0.0035\n",
      "Epoch 6/100\n",
      "57/57 [==============================] - 0s 2ms/step - loss: 0.0014 - val_loss: 0.0023\n",
      "Epoch 7/100\n",
      "57/57 [==============================] - 0s 2ms/step - loss: 0.0013 - val_loss: 0.0019\n",
      "Epoch 8/100\n",
      "57/57 [==============================] - 0s 2ms/step - loss: 0.0014 - val_loss: 0.0037\n",
      "Epoch 9/100\n",
      "57/57 [==============================] - 0s 2ms/step - loss: 0.0012 - val_loss: 0.0021\n",
      "Epoch 10/100\n",
      "57/57 [==============================] - 0s 3ms/step - loss: 0.0014 - val_loss: 0.0020\n",
      "Epoch 11/100\n",
      "57/57 [==============================] - 0s 2ms/step - loss: 0.0012 - val_loss: 0.0023\n",
      "Epoch 12/100\n",
      "57/57 [==============================] - 0s 4ms/step - loss: 0.0014 - val_loss: 0.0020\n",
      "Epoch 13/100\n",
      "57/57 [==============================] - 0s 2ms/step - loss: 0.0011 - val_loss: 0.0040\n",
      "Epoch 14/100\n",
      "57/57 [==============================] - 0s 2ms/step - loss: 0.0012 - val_loss: 0.0020\n",
      "Epoch 15/100\n",
      "57/57 [==============================] - 0s 1ms/step - loss: 0.0013 - val_loss: 0.0023\n",
      "Epoch 16/100\n",
      "57/57 [==============================] - 0s 2ms/step - loss: 0.0011 - val_loss: 0.0026\n",
      "Epoch 17/100\n",
      "57/57 [==============================] - 0s 2ms/step - loss: 9.9710e-04 - val_loss: 0.0023\n",
      "Epoch 18/100\n",
      "57/57 [==============================] - 0s 2ms/step - loss: 0.0011 - val_loss: 0.0019\n",
      "Epoch 19/100\n",
      "57/57 [==============================] - 0s 2ms/step - loss: 0.0011 - val_loss: 0.0027\n",
      "Epoch 20/100\n",
      "57/57 [==============================] - 0s 2ms/step - loss: 0.0010 - val_loss: 0.0032\n",
      "Epoch 21/100\n",
      "57/57 [==============================] - 0s 2ms/step - loss: 0.0010 - val_loss: 0.0023\n",
      "Epoch 22/100\n",
      "57/57 [==============================] - 0s 2ms/step - loss: 0.0010 - val_loss: 0.0024\n",
      "Epoch 23/100\n",
      "57/57 [==============================] - 0s 2ms/step - loss: 9.6071e-04 - val_loss: 0.0019\n",
      "Epoch 24/100\n",
      "57/57 [==============================] - 0s 2ms/step - loss: 9.8255e-04 - val_loss: 0.0027\n",
      "Epoch 25/100\n",
      "57/57 [==============================] - 0s 2ms/step - loss: 9.3169e-04 - val_loss: 0.0026\n",
      "Epoch 26/100\n",
      "57/57 [==============================] - 0s 2ms/step - loss: 9.2690e-04 - val_loss: 0.0027\n",
      "Epoch 27/100\n",
      "57/57 [==============================] - 0s 2ms/step - loss: 9.2406e-04 - val_loss: 0.0029\n",
      "Epoch 28/100\n",
      "57/57 [==============================] - 0s 1ms/step - loss: 9.5100e-04 - val_loss: 0.0021\n",
      "Epoch 29/100\n",
      "57/57 [==============================] - 0s 2ms/step - loss: 8.4930e-04 - val_loss: 0.0023\n",
      "Epoch 30/100\n",
      "57/57 [==============================] - 0s 2ms/step - loss: 8.4893e-04 - val_loss: 0.0024\n",
      "Epoch 31/100\n",
      "57/57 [==============================] - 0s 2ms/step - loss: 8.6027e-04 - val_loss: 0.0027\n",
      "Epoch 32/100\n",
      "57/57 [==============================] - 0s 1ms/step - loss: 9.6665e-04 - val_loss: 0.0024\n",
      "Epoch 33/100\n",
      "57/57 [==============================] - 0s 2ms/step - loss: 8.5170e-04 - val_loss: 0.0020\n",
      "Epoch 34/100\n",
      "57/57 [==============================] - 0s 2ms/step - loss: 8.4189e-04 - val_loss: 0.0035\n",
      "Epoch 35/100\n",
      "57/57 [==============================] - 0s 1ms/step - loss: 9.0080e-04 - val_loss: 0.0030\n",
      "Epoch 36/100\n",
      "57/57 [==============================] - 0s 1ms/step - loss: 7.7779e-04 - val_loss: 0.0023\n",
      "Epoch 37/100\n",
      "57/57 [==============================] - 0s 2ms/step - loss: 8.2104e-04 - val_loss: 0.0018\n",
      "Epoch 38/100\n",
      "57/57 [==============================] - 0s 2ms/step - loss: 7.3267e-04 - val_loss: 0.0035\n",
      "Epoch 39/100\n",
      "57/57 [==============================] - 0s 2ms/step - loss: 7.9876e-04 - val_loss: 0.0021\n",
      "Epoch 40/100\n",
      "57/57 [==============================] - 0s 1ms/step - loss: 7.4564e-04 - val_loss: 0.0020\n",
      "Epoch 41/100\n",
      "57/57 [==============================] - 0s 1ms/step - loss: 8.1252e-04 - val_loss: 0.0026\n",
      "Epoch 42/100\n",
      "57/57 [==============================] - 0s 2ms/step - loss: 7.8047e-04 - val_loss: 0.0019\n",
      "Epoch 43/100\n",
      "57/57 [==============================] - 0s 2ms/step - loss: 7.9654e-04 - val_loss: 0.0019\n",
      "Epoch 44/100\n",
      "57/57 [==============================] - 0s 2ms/step - loss: 7.4680e-04 - val_loss: 0.0025\n",
      "Epoch 45/100\n",
      "57/57 [==============================] - 0s 2ms/step - loss: 7.3961e-04 - val_loss: 0.0028\n",
      "Epoch 46/100\n",
      "57/57 [==============================] - 0s 1ms/step - loss: 7.7704e-04 - val_loss: 0.0019\n",
      "Epoch 47/100\n",
      "57/57 [==============================] - 0s 1ms/step - loss: 7.4785e-04 - val_loss: 0.0021\n",
      "Epoch 48/100\n",
      "57/57 [==============================] - 0s 2ms/step - loss: 6.7685e-04 - val_loss: 0.0027\n",
      "Epoch 49/100\n",
      "57/57 [==============================] - 0s 2ms/step - loss: 7.7534e-04 - val_loss: 0.0022\n",
      "Epoch 50/100\n",
      "57/57 [==============================] - 0s 2ms/step - loss: 6.7123e-04 - val_loss: 0.0019\n",
      "Epoch 51/100\n",
      "57/57 [==============================] - 0s 2ms/step - loss: 6.5913e-04 - val_loss: 0.0019\n",
      "Epoch 52/100\n",
      "57/57 [==============================] - 0s 2ms/step - loss: 7.5850e-04 - val_loss: 0.0023\n",
      "Epoch 53/100\n",
      "57/57 [==============================] - 0s 2ms/step - loss: 6.3256e-04 - val_loss: 0.0022\n",
      "Epoch 54/100\n",
      "57/57 [==============================] - 0s 2ms/step - loss: 6.7755e-04 - val_loss: 0.0021\n",
      "Epoch 55/100\n",
      "57/57 [==============================] - 0s 1ms/step - loss: 6.9430e-04 - val_loss: 0.0019\n",
      "Epoch 56/100\n",
      "57/57 [==============================] - 0s 2ms/step - loss: 6.4201e-04 - val_loss: 0.0023\n",
      "Epoch 57/100\n",
      "57/57 [==============================] - 0s 1ms/step - loss: 6.9225e-04 - val_loss: 0.0019\n",
      "Epoch 58/100\n",
      "57/57 [==============================] - 0s 2ms/step - loss: 6.1998e-04 - val_loss: 0.0027\n",
      "Epoch 59/100\n",
      "57/57 [==============================] - 0s 1ms/step - loss: 6.6246e-04 - val_loss: 0.0022\n",
      "Epoch 60/100\n",
      "57/57 [==============================] - 0s 1ms/step - loss: 6.5958e-04 - val_loss: 0.0022\n",
      "Epoch 61/100\n",
      "57/57 [==============================] - 0s 1ms/step - loss: 6.7839e-04 - val_loss: 0.0029\n",
      "Epoch 62/100\n",
      "57/57 [==============================] - 0s 2ms/step - loss: 6.2390e-04 - val_loss: 0.0019\n",
      "Epoch 63/100\n",
      "57/57 [==============================] - 0s 1ms/step - loss: 6.0061e-04 - val_loss: 0.0032\n",
      "Epoch 64/100\n",
      "57/57 [==============================] - 0s 1ms/step - loss: 6.4957e-04 - val_loss: 0.0019\n",
      "Epoch 65/100\n",
      "57/57 [==============================] - 0s 2ms/step - loss: 6.1967e-04 - val_loss: 0.0021\n",
      "Epoch 66/100\n",
      "57/57 [==============================] - 0s 2ms/step - loss: 6.6941e-04 - val_loss: 0.0025\n",
      "Epoch 67/100\n",
      "57/57 [==============================] - 0s 2ms/step - loss: 5.6015e-04 - val_loss: 0.0029\n",
      "Epoch 68/100\n",
      "57/57 [==============================] - 0s 2ms/step - loss: 6.8076e-04 - val_loss: 0.0022\n",
      "Epoch 69/100\n",
      "57/57 [==============================] - 0s 2ms/step - loss: 5.9099e-04 - val_loss: 0.0018\n",
      "Epoch 70/100\n",
      "57/57 [==============================] - 0s 2ms/step - loss: 6.1797e-04 - val_loss: 0.0019\n",
      "Epoch 71/100\n",
      "57/57 [==============================] - 0s 2ms/step - loss: 6.4642e-04 - val_loss: 0.0024\n",
      "Epoch 72/100\n",
      "57/57 [==============================] - 0s 2ms/step - loss: 6.3351e-04 - val_loss: 0.0020\n",
      "Epoch 73/100\n",
      "57/57 [==============================] - 0s 2ms/step - loss: 6.1147e-04 - val_loss: 0.0019\n",
      "Epoch 74/100\n",
      "57/57 [==============================] - 0s 2ms/step - loss: 6.3193e-04 - val_loss: 0.0022\n",
      "Epoch 75/100\n",
      "57/57 [==============================] - 0s 1ms/step - loss: 5.8672e-04 - val_loss: 0.0022\n",
      "Epoch 76/100\n",
      "57/57 [==============================] - 0s 2ms/step - loss: 5.4477e-04 - val_loss: 0.0020\n",
      "Epoch 77/100\n",
      "57/57 [==============================] - 0s 2ms/step - loss: 5.9426e-04 - val_loss: 0.0033\n",
      "Epoch 78/100\n",
      "57/57 [==============================] - 0s 2ms/step - loss: 5.8425e-04 - val_loss: 0.0028\n",
      "Epoch 79/100\n",
      "57/57 [==============================] - 0s 2ms/step - loss: 5.4447e-04 - val_loss: 0.0029\n",
      "Epoch 80/100\n"
     ]
    },
    {
     "name": "stdout",
     "output_type": "stream",
     "text": [
      "57/57 [==============================] - 0s 2ms/step - loss: 6.2519e-04 - val_loss: 0.0019\n",
      "Epoch 81/100\n",
      "57/57 [==============================] - 0s 1ms/step - loss: 4.9367e-04 - val_loss: 0.0031\n",
      "Epoch 82/100\n",
      "57/57 [==============================] - 0s 1ms/step - loss: 5.8609e-04 - val_loss: 0.0018\n",
      "Epoch 83/100\n",
      "57/57 [==============================] - 0s 2ms/step - loss: 5.9191e-04 - val_loss: 0.0020\n",
      "Epoch 84/100\n",
      "57/57 [==============================] - 0s 2ms/step - loss: 5.0047e-04 - val_loss: 0.0022\n",
      "Epoch 85/100\n",
      "57/57 [==============================] - 0s 2ms/step - loss: 5.9477e-04 - val_loss: 0.0025\n",
      "Epoch 86/100\n",
      "57/57 [==============================] - 0s 2ms/step - loss: 5.3909e-04 - val_loss: 0.0026\n",
      "Epoch 87/100\n",
      "57/57 [==============================] - 0s 2ms/step - loss: 5.7159e-04 - val_loss: 0.0023\n",
      "Epoch 88/100\n",
      "57/57 [==============================] - 0s 2ms/step - loss: 5.6797e-04 - val_loss: 0.0026\n",
      "Epoch 89/100\n",
      "57/57 [==============================] - 0s 2ms/step - loss: 5.0021e-04 - val_loss: 0.0024\n",
      "Epoch 90/100\n",
      "57/57 [==============================] - 0s 2ms/step - loss: 5.5319e-04 - val_loss: 0.0018\n",
      "Epoch 91/100\n",
      "57/57 [==============================] - 0s 2ms/step - loss: 5.1138e-04 - val_loss: 0.0019\n",
      "Epoch 92/100\n",
      "57/57 [==============================] - 0s 2ms/step - loss: 5.2021e-04 - val_loss: 0.0019\n",
      "Epoch 93/100\n",
      "57/57 [==============================] - 0s 2ms/step - loss: 5.4868e-04 - val_loss: 0.0023\n",
      "Epoch 94/100\n",
      "57/57 [==============================] - 0s 2ms/step - loss: 5.1177e-04 - val_loss: 0.0021\n",
      "Epoch 95/100\n",
      "57/57 [==============================] - 0s 2ms/step - loss: 5.5529e-04 - val_loss: 0.0023\n",
      "Epoch 96/100\n",
      "57/57 [==============================] - 0s 2ms/step - loss: 5.1649e-04 - val_loss: 0.0019\n",
      "Epoch 97/100\n",
      "57/57 [==============================] - 0s 2ms/step - loss: 5.0218e-04 - val_loss: 0.0018\n",
      "Epoch 98/100\n",
      "57/57 [==============================] - 0s 2ms/step - loss: 4.8163e-04 - val_loss: 0.0020\n",
      "Epoch 99/100\n",
      "57/57 [==============================] - 0s 1ms/step - loss: 5.1383e-04 - val_loss: 0.0024\n",
      "Epoch 100/100\n",
      "57/57 [==============================] - 0s 2ms/step - loss: 5.5107e-04 - val_loss: 0.0021\n"
     ]
    }
   ],
   "source": [
    "history=model.fit(X_train,y_train,epochs=100,validation_split=0.15)"
   ]
  },
  {
   "cell_type": "code",
   "execution_count": 66,
   "id": "5d3095be",
   "metadata": {},
   "outputs": [],
   "source": [
    "from sklearn.metrics import r2_score"
   ]
  },
  {
   "cell_type": "code",
   "execution_count": 67,
   "id": "ec0dec49",
   "metadata": {},
   "outputs": [
    {
     "name": "stdout",
     "output_type": "stream",
     "text": [
      "67/67 [==============================] - 0s 927us/step\n"
     ]
    }
   ],
   "source": [
    "y_train_pre=model.predict(X_train)"
   ]
  },
  {
   "cell_type": "code",
   "execution_count": 68,
   "id": "d50bcb2f",
   "metadata": {},
   "outputs": [
    {
     "data": {
      "text/plain": [
       "0.9759256594160164"
      ]
     },
     "execution_count": 68,
     "metadata": {},
     "output_type": "execute_result"
    }
   ],
   "source": [
    "#r2 value for train data\n",
    "r2_train=r2_score(y_train,y_train_pre)\n",
    "r2_train"
   ]
  },
  {
   "cell_type": "code",
   "execution_count": 69,
   "id": "28a90a7f",
   "metadata": {},
   "outputs": [
    {
     "name": "stdout",
     "output_type": "stream",
     "text": [
      "12/12 [==============================] - 0s 1ms/step\n"
     ]
    },
    {
     "data": {
      "text/plain": [
       "0.934014688520644"
      ]
     },
     "execution_count": 69,
     "metadata": {},
     "output_type": "execute_result"
    }
   ],
   "source": [
    "#r2 value for test data\n",
    "y_test_pre=model.predict(X_test)\n",
    "r2_test=r2_score(y_test,y_test_pre)\n",
    "r2_test"
   ]
  },
  {
   "cell_type": "code",
   "execution_count": 70,
   "id": "92e0ecbb",
   "metadata": {},
   "outputs": [
    {
     "name": "stdout",
     "output_type": "stream",
     "text": [
      "67/67 [==============================] - 0s 1ms/step\n"
     ]
    },
    {
     "data": {
      "text/plain": [
       "0.0006330596165195206"
      ]
     },
     "execution_count": 70,
     "metadata": {},
     "output_type": "execute_result"
    }
   ],
   "source": [
    "#Mean squared error for training data\n",
    "y_pred = model.predict(X_train)\n",
    "mse = mean_squared_error(y_train, y_pred)\n",
    "mse"
   ]
  },
  {
   "cell_type": "markdown",
   "id": "80277f48",
   "metadata": {},
   "source": [
    "#From the comparison of the value obtained by training the same network by adam and RMSProp optimiser we can say that the r2 values for the train and test data using the adam optimiser are more reliable while the MSE for the trained data is more for the latter optimiser.\n",
    "RMSProp optimizer is that it reduces the oscillations of the gradients and thus converges faster to the global minimum.However,\n",
    "the adam optimiser converges even faster."
   ]
  },
  {
   "cell_type": "code",
   "execution_count": 71,
   "id": "61e9c4b5",
   "metadata": {},
   "outputs": [
    {
     "name": "stdout",
     "output_type": "stream",
     "text": [
      "Requirement already satisfied: matplotlib in d:\\newfolder\\lib\\site-packages (3.5.1)\n",
      "Requirement already satisfied: packaging>=20.0 in d:\\newfolder\\lib\\site-packages (from matplotlib) (21.3)\n",
      "Requirement already satisfied: cycler>=0.10 in d:\\newfolder\\lib\\site-packages (from matplotlib) (0.11.0)\n",
      "Requirement already satisfied: python-dateutil>=2.7 in d:\\newfolder\\lib\\site-packages (from matplotlib) (2.8.2)\n",
      "Requirement already satisfied: numpy>=1.17 in d:\\newfolder\\lib\\site-packages (from matplotlib) (1.21.5)\n",
      "Requirement already satisfied: pillow>=6.2.0 in d:\\newfolder\\lib\\site-packages (from matplotlib) (9.0.1)\n",
      "Requirement already satisfied: pyparsing>=2.2.1 in d:\\newfolder\\lib\\site-packages (from matplotlib) (3.0.4)\n",
      "Requirement already satisfied: kiwisolver>=1.0.1 in d:\\newfolder\\lib\\site-packages (from matplotlib) (1.3.2)\n",
      "Requirement already satisfied: fonttools>=4.22.0 in d:\\newfolder\\lib\\site-packages (from matplotlib) (4.25.0)\n",
      "Requirement already satisfied: six>=1.5 in d:\\newfolder\\lib\\site-packages (from python-dateutil>=2.7->matplotlib) (1.16.0)\n"
     ]
    }
   ],
   "source": [
    "!pip install matplotlib"
   ]
  },
  {
   "cell_type": "code",
   "execution_count": 72,
   "id": "5eb3dc62",
   "metadata": {
    "scrolled": true
   },
   "outputs": [
    {
     "data": {
      "text/plain": [
       "<matplotlib.collections.PathCollection at 0x205ae85f550>"
      ]
     },
     "execution_count": 72,
     "metadata": {},
     "output_type": "execute_result"
    },
    {
     "data": {
      "image/png": "[encoded data removed]",
      "text/plain": [
       "<Figure size 432x288 with 1 Axes>"
      ]
     },
     "metadata": {
      "needs_background": "light"
     },
     "output_type": "display_data"
    }
   ],
   "source": [
    "#PLotting graphs for RMSProp optimiser function\n",
    "from matplotlib import pyplot as p\n",
    "p.scatter(y_train,y_train_pre)"
   ]
  },
  {
   "cell_type": "code",
   "execution_count": 73,
   "id": "efb7b004",
   "metadata": {},
   "outputs": [
    {
     "data": {
      "text/plain": [
       "<matplotlib.collections.PathCollection at 0x205b1157700>"
      ]
     },
     "execution_count": 73,
     "metadata": {},
     "output_type": "execute_result"
    },
    {
     "data": {
      "image/png": "[encoded data removed]",
      "text/plain": [
       "<Figure size 432x288 with 1 Axes>"
      ]
     },
     "metadata": {
      "needs_background": "light"
     },
     "output_type": "display_data"
    }
   ],
   "source": [
    "p.scatter(y_test,y_test_pre)"
   ]
  }
 ],
 "metadata": {
  "kernelspec": {
   "display_name": "Python 3 (ipykernel)",
   "language": "python",
   "name": "python3"
  },
  "language_info": {
   "codemirror_mode": {
    "name": "ipython",
    "version": 3
   },
   "file_extension": ".py",
   "mimetype": "text/x-python",
   "name": "python",
   "nbconvert_exporter": "python",
   "pygments_lexer": "ipython3",
   "version": "3.9.12"
  }
 },
 "nbformat": 4,
 "nbformat_minor": 5
}

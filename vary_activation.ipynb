{
 "cells": [
  {
   "cell_type": "code",
   "execution_count": 2,
   "id": "81257503",
   "metadata": {},
   "outputs": [
    {
     "data": {
      "text/html": [
       "<div>\n",
       "<style scoped>\n",
       "    .dataframe tbody tr th:only-of-type {\n",
       "        vertical-align: middle;\n",
       "    }\n",
       "\n",
       "    .dataframe tbody tr th {\n",
       "        vertical-align: top;\n",
       "    }\n",
       "\n",
       "    .dataframe thead th {\n",
       "        text-align: right;\n",
       "    }\n",
       "</style>\n",
       "<table border=\"1\" class=\"dataframe\">\n",
       "  <thead>\n",
       "    <tr style=\"text-align: right;\">\n",
       "      <th></th>\n",
       "      <th>Unnamed: 0</th>\n",
       "      <th>0</th>\n",
       "      <th>1</th>\n",
       "      <th>2</th>\n",
       "      <th>3</th>\n",
       "      <th>4</th>\n",
       "      <th>5</th>\n",
       "      <th>6</th>\n",
       "      <th>7</th>\n",
       "      <th>8</th>\n",
       "      <th>9</th>\n",
       "    </tr>\n",
       "  </thead>\n",
       "  <tbody>\n",
       "    <tr>\n",
       "      <th>0</th>\n",
       "      <td>0</td>\n",
       "      <td>0.486881</td>\n",
       "      <td>-0.773397</td>\n",
       "      <td>-0.050534</td>\n",
       "      <td>0.084568</td>\n",
       "      <td>-0.032604</td>\n",
       "      <td>-0.736818</td>\n",
       "      <td>0.295694</td>\n",
       "      <td>0.497740</td>\n",
       "      <td>-0.561831</td>\n",
       "      <td>298.125329</td>\n",
       "    </tr>\n",
       "    <tr>\n",
       "      <th>1</th>\n",
       "      <td>1</td>\n",
       "      <td>0.629629</td>\n",
       "      <td>0.957705</td>\n",
       "      <td>-0.659850</td>\n",
       "      <td>0.121552</td>\n",
       "      <td>0.824153</td>\n",
       "      <td>0.828809</td>\n",
       "      <td>-0.006234</td>\n",
       "      <td>0.237842</td>\n",
       "      <td>0.895073</td>\n",
       "      <td>487.138146</td>\n",
       "    </tr>\n",
       "    <tr>\n",
       "      <th>2</th>\n",
       "      <td>2</td>\n",
       "      <td>-0.712852</td>\n",
       "      <td>0.948625</td>\n",
       "      <td>0.572676</td>\n",
       "      <td>0.660235</td>\n",
       "      <td>-0.214652</td>\n",
       "      <td>0.542341</td>\n",
       "      <td>-0.398283</td>\n",
       "      <td>-0.982550</td>\n",
       "      <td>-0.914472</td>\n",
       "      <td>650.471675</td>\n",
       "    </tr>\n",
       "    <tr>\n",
       "      <th>3</th>\n",
       "      <td>3</td>\n",
       "      <td>-0.432045</td>\n",
       "      <td>0.884390</td>\n",
       "      <td>-0.044217</td>\n",
       "      <td>-0.804677</td>\n",
       "      <td>-0.516557</td>\n",
       "      <td>0.775618</td>\n",
       "      <td>-0.645234</td>\n",
       "      <td>0.445783</td>\n",
       "      <td>0.959935</td>\n",
       "      <td>568.687717</td>\n",
       "    </tr>\n",
       "    <tr>\n",
       "      <th>4</th>\n",
       "      <td>4</td>\n",
       "      <td>0.179924</td>\n",
       "      <td>0.043875</td>\n",
       "      <td>0.216944</td>\n",
       "      <td>-0.876370</td>\n",
       "      <td>-0.753894</td>\n",
       "      <td>0.685081</td>\n",
       "      <td>0.842100</td>\n",
       "      <td>0.230466</td>\n",
       "      <td>-0.526571</td>\n",
       "      <td>402.819802</td>\n",
       "    </tr>\n",
       "    <tr>\n",
       "      <th>...</th>\n",
       "      <td>...</td>\n",
       "      <td>...</td>\n",
       "      <td>...</td>\n",
       "      <td>...</td>\n",
       "      <td>...</td>\n",
       "      <td>...</td>\n",
       "      <td>...</td>\n",
       "      <td>...</td>\n",
       "      <td>...</td>\n",
       "      <td>...</td>\n",
       "      <td>...</td>\n",
       "    </tr>\n",
       "    <tr>\n",
       "      <th>2495</th>\n",
       "      <td>2495</td>\n",
       "      <td>0.467579</td>\n",
       "      <td>-0.860763</td>\n",
       "      <td>0.800176</td>\n",
       "      <td>-0.560314</td>\n",
       "      <td>-0.392197</td>\n",
       "      <td>0.018670</td>\n",
       "      <td>-0.938476</td>\n",
       "      <td>-0.842295</td>\n",
       "      <td>-0.976001</td>\n",
       "      <td>998.068631</td>\n",
       "    </tr>\n",
       "    <tr>\n",
       "      <th>2496</th>\n",
       "      <td>2496</td>\n",
       "      <td>0.833969</td>\n",
       "      <td>-0.392949</td>\n",
       "      <td>0.347030</td>\n",
       "      <td>-0.678596</td>\n",
       "      <td>0.920039</td>\n",
       "      <td>-0.584858</td>\n",
       "      <td>-0.387439</td>\n",
       "      <td>-0.669473</td>\n",
       "      <td>0.843922</td>\n",
       "      <td>560.507127</td>\n",
       "    </tr>\n",
       "    <tr>\n",
       "      <th>2497</th>\n",
       "      <td>2497</td>\n",
       "      <td>0.202129</td>\n",
       "      <td>-0.514602</td>\n",
       "      <td>0.105609</td>\n",
       "      <td>-0.849493</td>\n",
       "      <td>0.763000</td>\n",
       "      <td>0.491210</td>\n",
       "      <td>0.295731</td>\n",
       "      <td>-0.483899</td>\n",
       "      <td>-0.334942</td>\n",
       "      <td>183.950358</td>\n",
       "    </tr>\n",
       "    <tr>\n",
       "      <th>2498</th>\n",
       "      <td>2498</td>\n",
       "      <td>-0.176911</td>\n",
       "      <td>-0.005577</td>\n",
       "      <td>-0.846307</td>\n",
       "      <td>0.465155</td>\n",
       "      <td>0.474745</td>\n",
       "      <td>0.610356</td>\n",
       "      <td>-0.262790</td>\n",
       "      <td>0.604143</td>\n",
       "      <td>-0.765866</td>\n",
       "      <td>304.714127</td>\n",
       "    </tr>\n",
       "    <tr>\n",
       "      <th>2499</th>\n",
       "      <td>2499</td>\n",
       "      <td>0.599377</td>\n",
       "      <td>0.161560</td>\n",
       "      <td>0.153107</td>\n",
       "      <td>-0.607970</td>\n",
       "      <td>0.273184</td>\n",
       "      <td>-0.578427</td>\n",
       "      <td>0.575376</td>\n",
       "      <td>-0.529609</td>\n",
       "      <td>0.688512</td>\n",
       "      <td>195.195446</td>\n",
       "    </tr>\n",
       "  </tbody>\n",
       "</table>\n",
       "<p>2500 rows × 11 columns</p>\n",
       "</div>"
      ],
      "text/plain": [
       "      Unnamed: 0         0         1         2         3         4         5  \\\n",
       "0              0  0.486881 -0.773397 -0.050534  0.084568 -0.032604 -0.736818   \n",
       "1              1  0.629629  0.957705 -0.659850  0.121552  0.824153  0.828809   \n",
       "2              2 -0.712852  0.948625  0.572676  0.660235 -0.214652  0.542341   \n",
       "3              3 -0.432045  0.884390 -0.044217 -0.804677 -0.516557  0.775618   \n",
       "4              4  0.179924  0.043875  0.216944 -0.876370 -0.753894  0.685081   \n",
       "...          ...       ...       ...       ...       ...       ...       ...   \n",
       "2495        2495  0.467579 -0.860763  0.800176 -0.560314 -0.392197  0.018670   \n",
       "2496        2496  0.833969 -0.392949  0.347030 -0.678596  0.920039 -0.584858   \n",
       "2497        2497  0.202129 -0.514602  0.105609 -0.849493  0.763000  0.491210   \n",
       "2498        2498 -0.176911 -0.005577 -0.846307  0.465155  0.474745  0.610356   \n",
       "2499        2499  0.599377  0.161560  0.153107 -0.607970  0.273184 -0.578427   \n",
       "\n",
       "             6         7         8           9  \n",
       "0     0.295694  0.497740 -0.561831  298.125329  \n",
       "1    -0.006234  0.237842  0.895073  487.138146  \n",
       "2    -0.398283 -0.982550 -0.914472  650.471675  \n",
       "3    -0.645234  0.445783  0.959935  568.687717  \n",
       "4     0.842100  0.230466 -0.526571  402.819802  \n",
       "...        ...       ...       ...         ...  \n",
       "2495 -0.938476 -0.842295 -0.976001  998.068631  \n",
       "2496 -0.387439 -0.669473  0.843922  560.507127  \n",
       "2497  0.295731 -0.483899 -0.334942  183.950358  \n",
       "2498 -0.262790  0.604143 -0.765866  304.714127  \n",
       "2499  0.575376 -0.529609  0.688512  195.195446  \n",
       "\n",
       "[2500 rows x 11 columns]"
      ]
     },
     "execution_count": 2,
     "metadata": {},
     "output_type": "execute_result"
    }
   ],
   "source": [
    "#Reading the data from the excel file created in the source file\n",
    "import pandas as pd\n",
    "data1=pd.read_excel('C:\\\\Users\\\\satya\\\\rosenbrock.xlsx')\n",
    "data1"
   ]
  },
  {
   "cell_type": "code",
   "execution_count": 8,
   "id": "b1ba5ca7",
   "metadata": {},
   "outputs": [],
   "source": [
    "#Normalizing the data\n",
    "from sklearn.preprocessing import MinMaxScaler\n",
    "scaler=MinMaxScaler()\n",
    "scaled_data=scaler.fit_transform(data1.values)"
   ]
  },
  {
   "cell_type": "code",
   "execution_count": 9,
   "id": "f7d962c4",
   "metadata": {},
   "outputs": [],
   "source": [
    "X=scaled_data[:,1:10]\n",
    "y=scaled_data[:,10]"
   ]
  },
  {
   "cell_type": "code",
   "execution_count": 10,
   "id": "73c29c6c",
   "metadata": {},
   "outputs": [],
   "source": [
    "#Splitting the data using sklearn function\n",
    "from sklearn.model_selection import train_test_split\n",
    "X_train,X_test,y_train,y_test=train_test_split(X,y,test_size=0.15,random_state=0) #Random state: to obtain the same data every time we run kernel"
   ]
  },
  {
   "cell_type": "code",
   "execution_count": 11,
   "id": "521af270",
   "metadata": {},
   "outputs": [
    {
     "data": {
      "text/plain": [
       "(2125, 9)"
      ]
     },
     "execution_count": 11,
     "metadata": {},
     "output_type": "execute_result"
    }
   ],
   "source": [
    "X_train.shape #to know the size of the dataset"
   ]
  },
  {
   "cell_type": "code",
   "execution_count": 12,
   "id": "a155e56e",
   "metadata": {},
   "outputs": [],
   "source": [
    "#Creating sequential ANN model\n",
    "from tensorflow.keras import Sequential\n",
    "from tensorflow.keras.layers import Dense"
   ]
  },
  {
   "cell_type": "code",
   "execution_count": 13,
   "id": "df8d67ee",
   "metadata": {},
   "outputs": [],
   "source": [
    "#Creating ANN with mentioned nodes, hidden layers,inputs,outputs and activation function\n",
    "model=Sequential()\n",
    "model.add(Dense(100,input_dim=9,activation='tanh'))\n",
    "model.add(Dense(110,activation='tanh'))\n",
    "model.add(Dense(1,activation='linear'))"
   ]
  },
  {
   "cell_type": "code",
   "execution_count": 14,
   "id": "746b1383",
   "metadata": {},
   "outputs": [
    {
     "name": "stdout",
     "output_type": "stream",
     "text": [
      "Model: \"sequential\"\n",
      "_________________________________________________________________\n",
      " Layer (type)                Output Shape              Param #   \n",
      "=================================================================\n",
      " dense (Dense)               (None, 100)               1000      \n",
      "                                                                 \n",
      " dense_1 (Dense)             (None, 110)               11110     \n",
      "                                                                 \n",
      " dense_2 (Dense)             (None, 1)                 111       \n",
      "                                                                 \n",
      "=================================================================\n",
      "Total params: 12,221\n",
      "Trainable params: 12,221\n",
      "Non-trainable params: 0\n",
      "_________________________________________________________________\n",
      "None\n"
     ]
    }
   ],
   "source": [
    "print(model.summary()) #model summary of total,trainable and non trainable parameters"
   ]
  },
  {
   "cell_type": "code",
   "execution_count": 15,
   "id": "68295a96",
   "metadata": {},
   "outputs": [],
   "source": [
    "#Training the ANN using adam optimiser and MSE as loss fn.\n",
    "model.compile(optimizer='adam',loss='MSE')"
   ]
  },
  {
   "cell_type": "code",
   "execution_count": 16,
   "id": "58ae5254",
   "metadata": {
    "scrolled": true
   },
   "outputs": [
    {
     "name": "stdout",
     "output_type": "stream",
     "text": [
      "Epoch 1/100\n",
      "57/57 [==============================] - 1s 5ms/step - loss: 0.0301 - val_loss: 0.0241\n",
      "Epoch 2/100\n",
      "57/57 [==============================] - 0s 2ms/step - loss: 0.0208 - val_loss: 0.0221\n",
      "Epoch 3/100\n",
      "57/57 [==============================] - 0s 2ms/step - loss: 0.0203 - val_loss: 0.0222\n",
      "Epoch 4/100\n",
      "57/57 [==============================] - 0s 2ms/step - loss: 0.0200 - val_loss: 0.0223\n",
      "Epoch 5/100\n",
      "57/57 [==============================] - 0s 2ms/step - loss: 0.0209 - val_loss: 0.0233\n",
      "Epoch 6/100\n",
      "57/57 [==============================] - 0s 2ms/step - loss: 0.0208 - val_loss: 0.0234\n",
      "Epoch 7/100\n",
      "57/57 [==============================] - 0s 3ms/step - loss: 0.0201 - val_loss: 0.0197\n",
      "Epoch 8/100\n",
      "57/57 [==============================] - 0s 3ms/step - loss: 0.0193 - val_loss: 0.0199\n",
      "Epoch 9/100\n",
      "57/57 [==============================] - 0s 2ms/step - loss: 0.0183 - val_loss: 0.0190\n",
      "Epoch 10/100\n",
      "57/57 [==============================] - 0s 3ms/step - loss: 0.0198 - val_loss: 0.0178\n",
      "Epoch 11/100\n",
      "57/57 [==============================] - 0s 4ms/step - loss: 0.0182 - val_loss: 0.0186\n",
      "Epoch 12/100\n",
      "57/57 [==============================] - 0s 2ms/step - loss: 0.0178 - val_loss: 0.0184\n",
      "Epoch 13/100\n",
      "57/57 [==============================] - 0s 2ms/step - loss: 0.0180 - val_loss: 0.0193\n",
      "Epoch 14/100\n",
      "57/57 [==============================] - 0s 2ms/step - loss: 0.0182 - val_loss: 0.0188\n",
      "Epoch 15/100\n",
      "57/57 [==============================] - 0s 1ms/step - loss: 0.0181 - val_loss: 0.0180\n",
      "Epoch 16/100\n",
      "57/57 [==============================] - 0s 2ms/step - loss: 0.0184 - val_loss: 0.0194\n",
      "Epoch 17/100\n",
      "57/57 [==============================] - 0s 2ms/step - loss: 0.0182 - val_loss: 0.0184\n",
      "Epoch 18/100\n",
      "57/57 [==============================] - 0s 1ms/step - loss: 0.0176 - val_loss: 0.0179\n",
      "Epoch 19/100\n",
      "57/57 [==============================] - 0s 2ms/step - loss: 0.0185 - val_loss: 0.0206\n",
      "Epoch 20/100\n",
      "57/57 [==============================] - 0s 2ms/step - loss: 0.0179 - val_loss: 0.0203\n",
      "Epoch 21/100\n",
      "57/57 [==============================] - 0s 1ms/step - loss: 0.0177 - val_loss: 0.0182\n",
      "Epoch 22/100\n",
      "57/57 [==============================] - 0s 2ms/step - loss: 0.0174 - val_loss: 0.0174\n",
      "Epoch 23/100\n",
      "57/57 [==============================] - 0s 2ms/step - loss: 0.0173 - val_loss: 0.0167\n",
      "Epoch 24/100\n",
      "57/57 [==============================] - 0s 2ms/step - loss: 0.0174 - val_loss: 0.0165\n",
      "Epoch 25/100\n",
      "57/57 [==============================] - 0s 2ms/step - loss: 0.0163 - val_loss: 0.0177\n",
      "Epoch 26/100\n",
      "57/57 [==============================] - 0s 2ms/step - loss: 0.0166 - val_loss: 0.0196\n",
      "Epoch 27/100\n",
      "57/57 [==============================] - 0s 2ms/step - loss: 0.0165 - val_loss: 0.0156\n",
      "Epoch 28/100\n",
      "57/57 [==============================] - 0s 2ms/step - loss: 0.0160 - val_loss: 0.0179\n",
      "Epoch 29/100\n",
      "57/57 [==============================] - 0s 2ms/step - loss: 0.0155 - val_loss: 0.0150\n",
      "Epoch 30/100\n",
      "57/57 [==============================] - 0s 2ms/step - loss: 0.0156 - val_loss: 0.0153\n",
      "Epoch 31/100\n",
      "57/57 [==============================] - 0s 2ms/step - loss: 0.0148 - val_loss: 0.0142\n",
      "Epoch 32/100\n",
      "57/57 [==============================] - 0s 2ms/step - loss: 0.0145 - val_loss: 0.0167\n",
      "Epoch 33/100\n",
      "57/57 [==============================] - 0s 2ms/step - loss: 0.0143 - val_loss: 0.0139\n",
      "Epoch 34/100\n",
      "57/57 [==============================] - 0s 2ms/step - loss: 0.0135 - val_loss: 0.0137\n",
      "Epoch 35/100\n",
      "57/57 [==============================] - 0s 2ms/step - loss: 0.0134 - val_loss: 0.0134\n",
      "Epoch 36/100\n",
      "57/57 [==============================] - 0s 2ms/step - loss: 0.0132 - val_loss: 0.0169\n",
      "Epoch 37/100\n",
      "57/57 [==============================] - 0s 2ms/step - loss: 0.0133 - val_loss: 0.0153\n",
      "Epoch 38/100\n",
      "57/57 [==============================] - 0s 2ms/step - loss: 0.0119 - val_loss: 0.0142\n",
      "Epoch 39/100\n",
      "57/57 [==============================] - 0s 2ms/step - loss: 0.0121 - val_loss: 0.0137\n",
      "Epoch 40/100\n",
      "57/57 [==============================] - 0s 2ms/step - loss: 0.0113 - val_loss: 0.0120\n",
      "Epoch 41/100\n",
      "57/57 [==============================] - 0s 2ms/step - loss: 0.0111 - val_loss: 0.0124\n",
      "Epoch 42/100\n",
      "57/57 [==============================] - 0s 2ms/step - loss: 0.0108 - val_loss: 0.0123\n",
      "Epoch 43/100\n",
      "57/57 [==============================] - 0s 2ms/step - loss: 0.0105 - val_loss: 0.0116\n",
      "Epoch 44/100\n",
      "57/57 [==============================] - 0s 2ms/step - loss: 0.0099 - val_loss: 0.0105\n",
      "Epoch 45/100\n",
      "57/57 [==============================] - 0s 2ms/step - loss: 0.0095 - val_loss: 0.0097\n",
      "Epoch 46/100\n",
      "57/57 [==============================] - 0s 1ms/step - loss: 0.0090 - val_loss: 0.0111\n",
      "Epoch 47/100\n",
      "57/57 [==============================] - 0s 2ms/step - loss: 0.0096 - val_loss: 0.0112\n",
      "Epoch 48/100\n",
      "57/57 [==============================] - 0s 2ms/step - loss: 0.0092 - val_loss: 0.0092\n",
      "Epoch 49/100\n",
      "57/57 [==============================] - 0s 2ms/step - loss: 0.0082 - val_loss: 0.0090\n",
      "Epoch 50/100\n",
      "57/57 [==============================] - 0s 2ms/step - loss: 0.0088 - val_loss: 0.0099\n",
      "Epoch 51/100\n",
      "57/57 [==============================] - 0s 2ms/step - loss: 0.0082 - val_loss: 0.0092\n",
      "Epoch 52/100\n",
      "57/57 [==============================] - 0s 2ms/step - loss: 0.0078 - val_loss: 0.0138\n",
      "Epoch 53/100\n",
      "57/57 [==============================] - 0s 2ms/step - loss: 0.0088 - val_loss: 0.0082\n",
      "Epoch 54/100\n",
      "57/57 [==============================] - 0s 2ms/step - loss: 0.0074 - val_loss: 0.0089\n",
      "Epoch 55/100\n",
      "57/57 [==============================] - 0s 1ms/step - loss: 0.0071 - val_loss: 0.0073\n",
      "Epoch 56/100\n",
      "57/57 [==============================] - 0s 1ms/step - loss: 0.0074 - val_loss: 0.0089\n",
      "Epoch 57/100\n",
      "57/57 [==============================] - 0s 2ms/step - loss: 0.0063 - val_loss: 0.0069\n",
      "Epoch 58/100\n",
      "57/57 [==============================] - 0s 2ms/step - loss: 0.0066 - val_loss: 0.0101\n",
      "Epoch 59/100\n",
      "57/57 [==============================] - 0s 2ms/step - loss: 0.0081 - val_loss: 0.0079\n",
      "Epoch 60/100\n",
      "57/57 [==============================] - 0s 1ms/step - loss: 0.0062 - val_loss: 0.0067\n",
      "Epoch 61/100\n",
      "57/57 [==============================] - 0s 2ms/step - loss: 0.0058 - val_loss: 0.0085\n",
      "Epoch 62/100\n",
      "57/57 [==============================] - 0s 1ms/step - loss: 0.0062 - val_loss: 0.0059\n",
      "Epoch 63/100\n",
      "57/57 [==============================] - 0s 2ms/step - loss: 0.0056 - val_loss: 0.0060\n",
      "Epoch 64/100\n",
      "57/57 [==============================] - 0s 2ms/step - loss: 0.0053 - val_loss: 0.0058\n",
      "Epoch 65/100\n",
      "57/57 [==============================] - 0s 2ms/step - loss: 0.0052 - val_loss: 0.0072\n",
      "Epoch 66/100\n",
      "57/57 [==============================] - 0s 2ms/step - loss: 0.0050 - val_loss: 0.0068\n",
      "Epoch 67/100\n",
      "57/57 [==============================] - 0s 1ms/step - loss: 0.0053 - val_loss: 0.0053\n",
      "Epoch 68/100\n",
      "57/57 [==============================] - 0s 1ms/step - loss: 0.0049 - val_loss: 0.0055\n",
      "Epoch 69/100\n",
      "57/57 [==============================] - 0s 2ms/step - loss: 0.0045 - val_loss: 0.0053\n",
      "Epoch 70/100\n",
      "57/57 [==============================] - 0s 2ms/step - loss: 0.0053 - val_loss: 0.0061\n",
      "Epoch 71/100\n",
      "57/57 [==============================] - 0s 2ms/step - loss: 0.0049 - val_loss: 0.0052\n",
      "Epoch 72/100\n",
      "57/57 [==============================] - 0s 1ms/step - loss: 0.0049 - val_loss: 0.0052\n",
      "Epoch 73/100\n",
      "57/57 [==============================] - 0s 2ms/step - loss: 0.0051 - val_loss: 0.0053\n",
      "Epoch 74/100\n",
      "57/57 [==============================] - 0s 1ms/step - loss: 0.0047 - val_loss: 0.0052\n",
      "Epoch 75/100\n",
      "57/57 [==============================] - 0s 2ms/step - loss: 0.0046 - val_loss: 0.0053\n",
      "Epoch 76/100\n",
      "57/57 [==============================] - 0s 2ms/step - loss: 0.0047 - val_loss: 0.0048\n",
      "Epoch 77/100\n",
      "57/57 [==============================] - 0s 2ms/step - loss: 0.0043 - val_loss: 0.0047\n",
      "Epoch 78/100\n",
      "57/57 [==============================] - 0s 2ms/step - loss: 0.0042 - val_loss: 0.0058\n",
      "Epoch 79/100\n",
      "57/57 [==============================] - 0s 2ms/step - loss: 0.0045 - val_loss: 0.0046\n",
      "Epoch 80/100\n",
      "57/57 [==============================] - 0s 1ms/step - loss: 0.0039 - val_loss: 0.0047\n",
      "Epoch 81/100\n",
      "57/57 [==============================] - 0s 2ms/step - loss: 0.0040 - val_loss: 0.0051\n",
      "Epoch 82/100\n",
      "57/57 [==============================] - 0s 2ms/step - loss: 0.0038 - val_loss: 0.0044\n",
      "Epoch 83/100\n"
     ]
    },
    {
     "name": "stdout",
     "output_type": "stream",
     "text": [
      "57/57 [==============================] - 0s 2ms/step - loss: 0.0039 - val_loss: 0.0047\n",
      "Epoch 84/100\n",
      "57/57 [==============================] - 0s 2ms/step - loss: 0.0041 - val_loss: 0.0041\n",
      "Epoch 85/100\n",
      "57/57 [==============================] - 0s 2ms/step - loss: 0.0039 - val_loss: 0.0049\n",
      "Epoch 86/100\n",
      "57/57 [==============================] - 0s 2ms/step - loss: 0.0040 - val_loss: 0.0041\n",
      "Epoch 87/100\n",
      "57/57 [==============================] - 0s 1ms/step - loss: 0.0041 - val_loss: 0.0043\n",
      "Epoch 88/100\n",
      "57/57 [==============================] - 0s 2ms/step - loss: 0.0035 - val_loss: 0.0044\n",
      "Epoch 89/100\n",
      "57/57 [==============================] - 0s 2ms/step - loss: 0.0035 - val_loss: 0.0040\n",
      "Epoch 90/100\n",
      "57/57 [==============================] - 0s 2ms/step - loss: 0.0032 - val_loss: 0.0036\n",
      "Epoch 91/100\n",
      "57/57 [==============================] - 0s 2ms/step - loss: 0.0037 - val_loss: 0.0081\n",
      "Epoch 92/100\n",
      "57/57 [==============================] - 0s 2ms/step - loss: 0.0037 - val_loss: 0.0036\n",
      "Epoch 93/100\n",
      "57/57 [==============================] - 0s 1ms/step - loss: 0.0035 - val_loss: 0.0042\n",
      "Epoch 94/100\n",
      "57/57 [==============================] - 0s 2ms/step - loss: 0.0031 - val_loss: 0.0040\n",
      "Epoch 95/100\n",
      "57/57 [==============================] - 0s 2ms/step - loss: 0.0031 - val_loss: 0.0039\n",
      "Epoch 96/100\n",
      "57/57 [==============================] - 0s 1ms/step - loss: 0.0032 - val_loss: 0.0044\n",
      "Epoch 97/100\n",
      "57/57 [==============================] - 0s 1ms/step - loss: 0.0033 - val_loss: 0.0048\n",
      "Epoch 98/100\n",
      "57/57 [==============================] - 0s 1ms/step - loss: 0.0031 - val_loss: 0.0032\n",
      "Epoch 99/100\n",
      "57/57 [==============================] - 0s 1ms/step - loss: 0.0030 - val_loss: 0.0035\n",
      "Epoch 100/100\n",
      "57/57 [==============================] - 0s 1ms/step - loss: 0.0028 - val_loss: 0.0031\n"
     ]
    }
   ],
   "source": [
    "#Validation splits and iterations\n",
    "history=model.fit(X_train,y_train,epochs=100,validation_split=0.15)"
   ]
  },
  {
   "cell_type": "code",
   "execution_count": 17,
   "id": "a0ff0327",
   "metadata": {},
   "outputs": [],
   "source": [
    "from sklearn.metrics import r2_score"
   ]
  },
  {
   "cell_type": "code",
   "execution_count": 18,
   "id": "1df4e718",
   "metadata": {},
   "outputs": [
    {
     "name": "stdout",
     "output_type": "stream",
     "text": [
      "67/67 [==============================] - 0s 906us/step\n"
     ]
    }
   ],
   "source": [
    "y_train_pre=model.predict(X_train)"
   ]
  },
  {
   "cell_type": "code",
   "execution_count": 19,
   "id": "f0a0a021",
   "metadata": {},
   "outputs": [
    {
     "data": {
      "text/plain": [
       "0.894452036793692"
      ]
     },
     "execution_count": 19,
     "metadata": {},
     "output_type": "execute_result"
    }
   ],
   "source": [
    "#r2 value for train data\n",
    "r2_train=r2_score(y_train,y_train_pre)\n",
    "r2_train"
   ]
  },
  {
   "cell_type": "code",
   "execution_count": 20,
   "id": "65a42485",
   "metadata": {
    "scrolled": false
   },
   "outputs": [
    {
     "name": "stdout",
     "output_type": "stream",
     "text": [
      "12/12 [==============================] - 0s 2ms/step\n"
     ]
    },
    {
     "data": {
      "text/plain": [
       "0.8409616267576454"
      ]
     },
     "execution_count": 20,
     "metadata": {},
     "output_type": "execute_result"
    }
   ],
   "source": [
    "#r2 value for test data\n",
    "y_test_pre=model.predict(X_test)\n",
    "r2_test=r2_score(y_test,y_test_pre)\n",
    "r2_test"
   ]
  },
  {
   "cell_type": "code",
   "execution_count": 21,
   "id": "bf09fa8e",
   "metadata": {},
   "outputs": [
    {
     "name": "stdout",
     "output_type": "stream",
     "text": [
      "67/67 [==============================] - 0s 1ms/step\n"
     ]
    },
    {
     "data": {
      "text/plain": [
       "0.0026233255038779"
      ]
     },
     "execution_count": 21,
     "metadata": {},
     "output_type": "execute_result"
    }
   ],
   "source": [
    "#Mean squared error for training data\n",
    "from sklearn.metrics import mean_squared_error\n",
    "y_pred = model.predict(X_train)\n",
    "mse = mean_squared_error(y_train, y_pred)\n",
    "mse"
   ]
  },
  {
   "cell_type": "code",
   "execution_count": 27,
   "id": "85d98295",
   "metadata": {},
   "outputs": [
    {
     "data": {
      "text/plain": [
       "<matplotlib.collections.PathCollection at 0x14ff3abdfa0>"
      ]
     },
     "execution_count": 27,
     "metadata": {},
     "output_type": "execute_result"
    },
    {
     "data": {
      "image/png": "[encoded data removed]",
      "text/plain": [
       "<Figure size 432x288 with 1 Axes>"
      ]
     },
     "metadata": {
      "needs_background": "light"
     },
     "output_type": "display_data"
    }
   ],
   "source": [
    "#Plotting scatter plot graphs for train ansd test data using the matplotlib function\n",
    "from matplotlib import pyplot as p\n",
    "p.scatter(y_train, y_pred)"
   ]
  },
  {
   "cell_type": "code",
   "execution_count": 28,
   "id": "e49a84e6",
   "metadata": {},
   "outputs": [
    {
     "data": {
      "text/plain": [
       "<matplotlib.collections.PathCollection at 0x14ff3afadc0>"
      ]
     },
     "execution_count": 28,
     "metadata": {},
     "output_type": "execute_result"
    },
    {
     "data": {
      "image/png": "[encoded data removed]",
      "text/plain": [
       "<Figure size 432x288 with 1 Axes>"
      ]
     },
     "metadata": {
      "needs_background": "light"
     },
     "output_type": "display_data"
    }
   ],
   "source": [
    "p.scatter(y_test, y_test_pre)"
   ]
  },
  {
   "cell_type": "code",
   "execution_count": 29,
   "id": "e5d5163c",
   "metadata": {},
   "outputs": [],
   "source": [
    "#Creating ANN with mentioned nodes, hidden layers,inputs,outputs and activation function\n",
    "model=Sequential()\n",
    "model.add(Dense(100,input_dim=9,activation='sigmoid'))\n",
    "model.add(Dense(110,activation='sigmoid'))\n",
    "model.add(Dense(1,activation='linear'))"
   ]
  },
  {
   "cell_type": "code",
   "execution_count": 30,
   "id": "ff4e55ef",
   "metadata": {},
   "outputs": [
    {
     "name": "stdout",
     "output_type": "stream",
     "text": [
      "Model: \"sequential_1\"\n",
      "_________________________________________________________________\n",
      " Layer (type)                Output Shape              Param #   \n",
      "=================================================================\n",
      " dense_3 (Dense)             (None, 100)               1000      \n",
      "                                                                 \n",
      " dense_4 (Dense)             (None, 110)               11110     \n",
      "                                                                 \n",
      " dense_5 (Dense)             (None, 1)                 111       \n",
      "                                                                 \n",
      "=================================================================\n",
      "Total params: 12,221\n",
      "Trainable params: 12,221\n",
      "Non-trainable params: 0\n",
      "_________________________________________________________________\n",
      "None\n"
     ]
    }
   ],
   "source": [
    "print(model.summary()) #model summary of total,trainable and non trainable parameters"
   ]
  },
  {
   "cell_type": "code",
   "execution_count": 31,
   "id": "c2ad70db",
   "metadata": {},
   "outputs": [],
   "source": [
    "#Training the ANN using adam optimiser and MSE as loss fn.\n",
    "model.compile(optimizer='adam',loss='MSE')"
   ]
  },
  {
   "cell_type": "code",
   "execution_count": 32,
   "id": "4bc34f3d",
   "metadata": {},
   "outputs": [
    {
     "name": "stdout",
     "output_type": "stream",
     "text": [
      "Epoch 1/100\n",
      "57/57 [==============================] - 1s 3ms/step - loss: 0.0273 - val_loss: 0.0240\n",
      "Epoch 2/100\n",
      "57/57 [==============================] - 0s 1ms/step - loss: 0.0241 - val_loss: 0.0220\n",
      "Epoch 3/100\n",
      "57/57 [==============================] - 0s 2ms/step - loss: 0.0220 - val_loss: 0.0211\n",
      "Epoch 4/100\n",
      "57/57 [==============================] - 0s 1ms/step - loss: 0.0211 - val_loss: 0.0204\n",
      "Epoch 5/100\n",
      "57/57 [==============================] - 0s 1ms/step - loss: 0.0196 - val_loss: 0.0221\n",
      "Epoch 6/100\n",
      "57/57 [==============================] - 0s 2ms/step - loss: 0.0201 - val_loss: 0.0189\n",
      "Epoch 7/100\n",
      "57/57 [==============================] - 0s 2ms/step - loss: 0.0184 - val_loss: 0.0182\n",
      "Epoch 8/100\n",
      "57/57 [==============================] - 0s 2ms/step - loss: 0.0181 - val_loss: 0.0206\n",
      "Epoch 9/100\n",
      "57/57 [==============================] - 0s 2ms/step - loss: 0.0186 - val_loss: 0.0189\n",
      "Epoch 10/100\n",
      "57/57 [==============================] - 0s 2ms/step - loss: 0.0179 - val_loss: 0.0184\n",
      "Epoch 11/100\n",
      "57/57 [==============================] - 0s 2ms/step - loss: 0.0184 - val_loss: 0.0195\n",
      "Epoch 12/100\n",
      "57/57 [==============================] - 0s 2ms/step - loss: 0.0187 - val_loss: 0.0185\n",
      "Epoch 13/100\n",
      "57/57 [==============================] - 0s 2ms/step - loss: 0.0205 - val_loss: 0.0208\n",
      "Epoch 14/100\n",
      "57/57 [==============================] - 0s 2ms/step - loss: 0.0189 - val_loss: 0.0182\n",
      "Epoch 15/100\n",
      "57/57 [==============================] - 0s 2ms/step - loss: 0.0179 - val_loss: 0.0181\n",
      "Epoch 16/100\n",
      "57/57 [==============================] - 0s 2ms/step - loss: 0.0185 - val_loss: 0.0184\n",
      "Epoch 17/100\n",
      "57/57 [==============================] - 0s 2ms/step - loss: 0.0183 - val_loss: 0.0186\n",
      "Epoch 18/100\n",
      "57/57 [==============================] - 0s 2ms/step - loss: 0.0183 - val_loss: 0.0183\n",
      "Epoch 19/100\n",
      "57/57 [==============================] - 0s 2ms/step - loss: 0.0183 - val_loss: 0.0185\n",
      "Epoch 20/100\n",
      "57/57 [==============================] - 0s 1ms/step - loss: 0.0187 - val_loss: 0.0180\n",
      "Epoch 21/100\n",
      "57/57 [==============================] - 0s 2ms/step - loss: 0.0181 - val_loss: 0.0229\n",
      "Epoch 22/100\n",
      "57/57 [==============================] - 0s 2ms/step - loss: 0.0205 - val_loss: 0.0209\n",
      "Epoch 23/100\n",
      "57/57 [==============================] - 0s 2ms/step - loss: 0.0181 - val_loss: 0.0180\n",
      "Epoch 24/100\n",
      "57/57 [==============================] - 0s 2ms/step - loss: 0.0186 - val_loss: 0.0180\n",
      "Epoch 25/100\n",
      "57/57 [==============================] - 0s 2ms/step - loss: 0.0191 - val_loss: 0.0181\n",
      "Epoch 26/100\n",
      "57/57 [==============================] - 0s 2ms/step - loss: 0.0184 - val_loss: 0.0195\n",
      "Epoch 27/100\n",
      "57/57 [==============================] - 0s 2ms/step - loss: 0.0185 - val_loss: 0.0230\n",
      "Epoch 28/100\n",
      "57/57 [==============================] - 0s 2ms/step - loss: 0.0187 - val_loss: 0.0197\n",
      "Epoch 29/100\n",
      "57/57 [==============================] - 0s 2ms/step - loss: 0.0181 - val_loss: 0.0181\n",
      "Epoch 30/100\n",
      "57/57 [==============================] - 0s 2ms/step - loss: 0.0184 - val_loss: 0.0205\n",
      "Epoch 31/100\n",
      "57/57 [==============================] - 0s 2ms/step - loss: 0.0194 - val_loss: 0.0191\n",
      "Epoch 32/100\n",
      "57/57 [==============================] - 0s 2ms/step - loss: 0.0198 - val_loss: 0.0185\n",
      "Epoch 33/100\n",
      "57/57 [==============================] - 0s 2ms/step - loss: 0.0184 - val_loss: 0.0184\n",
      "Epoch 34/100\n",
      "57/57 [==============================] - 0s 2ms/step - loss: 0.0183 - val_loss: 0.0226\n",
      "Epoch 35/100\n",
      "57/57 [==============================] - 0s 2ms/step - loss: 0.0185 - val_loss: 0.0181\n",
      "Epoch 36/100\n",
      "57/57 [==============================] - 0s 2ms/step - loss: 0.0177 - val_loss: 0.0191\n",
      "Epoch 37/100\n",
      "57/57 [==============================] - 0s 2ms/step - loss: 0.0187 - val_loss: 0.0190\n",
      "Epoch 38/100\n",
      "57/57 [==============================] - 0s 2ms/step - loss: 0.0182 - val_loss: 0.0180\n",
      "Epoch 39/100\n",
      "57/57 [==============================] - 0s 2ms/step - loss: 0.0193 - val_loss: 0.0191\n",
      "Epoch 40/100\n",
      "57/57 [==============================] - 0s 2ms/step - loss: 0.0182 - val_loss: 0.0183\n",
      "Epoch 41/100\n",
      "57/57 [==============================] - 0s 2ms/step - loss: 0.0195 - val_loss: 0.0273\n",
      "Epoch 42/100\n",
      "57/57 [==============================] - 0s 2ms/step - loss: 0.0183 - val_loss: 0.0180\n",
      "Epoch 43/100\n",
      "57/57 [==============================] - 0s 2ms/step - loss: 0.0180 - val_loss: 0.0185\n",
      "Epoch 44/100\n",
      "57/57 [==============================] - 0s 2ms/step - loss: 0.0189 - val_loss: 0.0183\n",
      "Epoch 45/100\n",
      "57/57 [==============================] - 0s 2ms/step - loss: 0.0184 - val_loss: 0.0216\n",
      "Epoch 46/100\n",
      "57/57 [==============================] - 0s 2ms/step - loss: 0.0185 - val_loss: 0.0181\n",
      "Epoch 47/100\n",
      "57/57 [==============================] - 0s 2ms/step - loss: 0.0177 - val_loss: 0.0180\n",
      "Epoch 48/100\n",
      "57/57 [==============================] - 0s 2ms/step - loss: 0.0180 - val_loss: 0.0180\n",
      "Epoch 49/100\n",
      "57/57 [==============================] - 0s 2ms/step - loss: 0.0178 - val_loss: 0.0186\n",
      "Epoch 50/100\n",
      "57/57 [==============================] - 0s 2ms/step - loss: 0.0187 - val_loss: 0.0180\n",
      "Epoch 51/100\n",
      "57/57 [==============================] - 0s 2ms/step - loss: 0.0181 - val_loss: 0.0180\n",
      "Epoch 52/100\n",
      "57/57 [==============================] - 0s 2ms/step - loss: 0.0184 - val_loss: 0.0189\n",
      "Epoch 53/100\n",
      "57/57 [==============================] - 0s 2ms/step - loss: 0.0178 - val_loss: 0.0180\n",
      "Epoch 54/100\n",
      "57/57 [==============================] - 0s 2ms/step - loss: 0.0183 - val_loss: 0.0193\n",
      "Epoch 55/100\n",
      "57/57 [==============================] - 0s 1ms/step - loss: 0.0179 - val_loss: 0.0192\n",
      "Epoch 56/100\n",
      "57/57 [==============================] - 0s 2ms/step - loss: 0.0188 - val_loss: 0.0193\n",
      "Epoch 57/100\n",
      "57/57 [==============================] - 0s 1ms/step - loss: 0.0192 - val_loss: 0.0222\n",
      "Epoch 58/100\n",
      "57/57 [==============================] - 0s 2ms/step - loss: 0.0205 - val_loss: 0.0235\n",
      "Epoch 59/100\n",
      "57/57 [==============================] - 0s 2ms/step - loss: 0.0183 - val_loss: 0.0197\n",
      "Epoch 60/100\n",
      "57/57 [==============================] - 0s 2ms/step - loss: 0.0180 - val_loss: 0.0181\n",
      "Epoch 61/100\n",
      "57/57 [==============================] - 0s 2ms/step - loss: 0.0180 - val_loss: 0.0187\n",
      "Epoch 62/100\n",
      "57/57 [==============================] - 0s 1ms/step - loss: 0.0184 - val_loss: 0.0187\n",
      "Epoch 63/100\n",
      "57/57 [==============================] - 0s 2ms/step - loss: 0.0180 - val_loss: 0.0180\n",
      "Epoch 64/100\n",
      "57/57 [==============================] - 0s 2ms/step - loss: 0.0184 - val_loss: 0.0180\n",
      "Epoch 65/100\n",
      "57/57 [==============================] - 0s 2ms/step - loss: 0.0177 - val_loss: 0.0183\n",
      "Epoch 66/100\n",
      "57/57 [==============================] - 0s 2ms/step - loss: 0.0181 - val_loss: 0.0184\n",
      "Epoch 67/100\n",
      "57/57 [==============================] - 0s 2ms/step - loss: 0.0195 - val_loss: 0.0180\n",
      "Epoch 68/100\n",
      "57/57 [==============================] - 0s 2ms/step - loss: 0.0182 - val_loss: 0.0186\n",
      "Epoch 69/100\n",
      "57/57 [==============================] - 0s 2ms/step - loss: 0.0177 - val_loss: 0.0184\n",
      "Epoch 70/100\n",
      "57/57 [==============================] - 0s 2ms/step - loss: 0.0177 - val_loss: 0.0186\n",
      "Epoch 71/100\n",
      "57/57 [==============================] - 0s 2ms/step - loss: 0.0177 - val_loss: 0.0191\n",
      "Epoch 72/100\n",
      "57/57 [==============================] - 0s 1ms/step - loss: 0.0188 - val_loss: 0.0210\n",
      "Epoch 73/100\n",
      "57/57 [==============================] - 0s 2ms/step - loss: 0.0186 - val_loss: 0.0179\n",
      "Epoch 74/100\n",
      "57/57 [==============================] - 0s 2ms/step - loss: 0.0179 - val_loss: 0.0214\n",
      "Epoch 75/100\n",
      "57/57 [==============================] - 0s 2ms/step - loss: 0.0202 - val_loss: 0.0207\n",
      "Epoch 76/100\n",
      "57/57 [==============================] - 0s 2ms/step - loss: 0.0185 - val_loss: 0.0184\n",
      "Epoch 77/100\n",
      "57/57 [==============================] - 0s 2ms/step - loss: 0.0181 - val_loss: 0.0180\n",
      "Epoch 78/100\n",
      "57/57 [==============================] - 0s 2ms/step - loss: 0.0186 - val_loss: 0.0207\n",
      "Epoch 79/100\n",
      "57/57 [==============================] - 0s 1ms/step - loss: 0.0179 - val_loss: 0.0197\n",
      "Epoch 80/100\n",
      "57/57 [==============================] - 0s 2ms/step - loss: 0.0178 - val_loss: 0.0205\n",
      "Epoch 81/100\n",
      "57/57 [==============================] - 0s 2ms/step - loss: 0.0182 - val_loss: 0.0180\n",
      "Epoch 82/100\n",
      "57/57 [==============================] - 0s 2ms/step - loss: 0.0179 - val_loss: 0.0197\n",
      "Epoch 83/100\n"
     ]
    },
    {
     "name": "stdout",
     "output_type": "stream",
     "text": [
      "57/57 [==============================] - 0s 2ms/step - loss: 0.0180 - val_loss: 0.0225\n",
      "Epoch 84/100\n",
      "57/57 [==============================] - 0s 2ms/step - loss: 0.0180 - val_loss: 0.0178\n",
      "Epoch 85/100\n",
      "57/57 [==============================] - 0s 1ms/step - loss: 0.0175 - val_loss: 0.0184\n",
      "Epoch 86/100\n",
      "57/57 [==============================] - 0s 1ms/step - loss: 0.0181 - val_loss: 0.0181\n",
      "Epoch 87/100\n",
      "57/57 [==============================] - 0s 2ms/step - loss: 0.0183 - val_loss: 0.0178\n",
      "Epoch 88/100\n",
      "57/57 [==============================] - 0s 2ms/step - loss: 0.0176 - val_loss: 0.0184\n",
      "Epoch 89/100\n",
      "57/57 [==============================] - 0s 2ms/step - loss: 0.0181 - val_loss: 0.0179\n",
      "Epoch 90/100\n",
      "57/57 [==============================] - 0s 2ms/step - loss: 0.0186 - val_loss: 0.0180\n",
      "Epoch 91/100\n",
      "57/57 [==============================] - 0s 2ms/step - loss: 0.0178 - val_loss: 0.0186\n",
      "Epoch 92/100\n",
      "57/57 [==============================] - 0s 2ms/step - loss: 0.0182 - val_loss: 0.0178\n",
      "Epoch 93/100\n",
      "57/57 [==============================] - 0s 2ms/step - loss: 0.0173 - val_loss: 0.0228\n",
      "Epoch 94/100\n",
      "57/57 [==============================] - 0s 2ms/step - loss: 0.0181 - val_loss: 0.0179\n",
      "Epoch 95/100\n",
      "57/57 [==============================] - 0s 2ms/step - loss: 0.0175 - val_loss: 0.0179\n",
      "Epoch 96/100\n",
      "57/57 [==============================] - 0s 1ms/step - loss: 0.0176 - val_loss: 0.0178\n",
      "Epoch 97/100\n",
      "57/57 [==============================] - 0s 1ms/step - loss: 0.0176 - val_loss: 0.0178\n",
      "Epoch 98/100\n",
      "57/57 [==============================] - 0s 2ms/step - loss: 0.0184 - val_loss: 0.0183\n",
      "Epoch 99/100\n",
      "57/57 [==============================] - 0s 1ms/step - loss: 0.0180 - val_loss: 0.0184\n",
      "Epoch 100/100\n",
      "57/57 [==============================] - 0s 2ms/step - loss: 0.0176 - val_loss: 0.0180\n"
     ]
    }
   ],
   "source": [
    "#Validation splits and iterations\n",
    "history=model.fit(X_train,y_train,epochs=100,validation_split=0.15)"
   ]
  },
  {
   "cell_type": "code",
   "execution_count": 33,
   "id": "9dd2db57",
   "metadata": {},
   "outputs": [],
   "source": [
    "from sklearn.metrics import r2_score"
   ]
  },
  {
   "cell_type": "code",
   "execution_count": 34,
   "id": "79169147",
   "metadata": {},
   "outputs": [
    {
     "name": "stdout",
     "output_type": "stream",
     "text": [
      "67/67 [==============================] - 0s 975us/step\n"
     ]
    }
   ],
   "source": [
    "y_train_pre=model.predict(X_train)"
   ]
  },
  {
   "cell_type": "code",
   "execution_count": 35,
   "id": "22127cfd",
   "metadata": {},
   "outputs": [
    {
     "data": {
      "text/plain": [
       "0.29792129974141557"
      ]
     },
     "execution_count": 35,
     "metadata": {},
     "output_type": "execute_result"
    }
   ],
   "source": [
    "#r2 value for train data\n",
    "r2_train=r2_score(y_train,y_train_pre)\n",
    "r2_train"
   ]
  },
  {
   "cell_type": "code",
   "execution_count": 36,
   "id": "f1561146",
   "metadata": {},
   "outputs": [
    {
     "name": "stdout",
     "output_type": "stream",
     "text": [
      "12/12 [==============================] - 0s 1ms/step\n"
     ]
    },
    {
     "data": {
      "text/plain": [
       "0.25707720924617494"
      ]
     },
     "execution_count": 36,
     "metadata": {},
     "output_type": "execute_result"
    }
   ],
   "source": [
    "#r2 value for test data\n",
    "y_test_pre=model.predict(X_test)\n",
    "r2_test=r2_score(y_test,y_test_pre)\n",
    "r2_test"
   ]
  },
  {
   "cell_type": "code",
   "execution_count": 37,
   "id": "8aa86788",
   "metadata": {},
   "outputs": [
    {
     "name": "stdout",
     "output_type": "stream",
     "text": [
      "67/67 [==============================] - 0s 736us/step\n"
     ]
    },
    {
     "data": {
      "text/plain": [
       "0.017449706315201725"
      ]
     },
     "execution_count": 37,
     "metadata": {},
     "output_type": "execute_result"
    }
   ],
   "source": [
    "#Mean squared error for training data\n",
    "from sklearn.metrics import mean_squared_error\n",
    "y_pred = model.predict(X_train)\n",
    "mse = mean_squared_error(y_train, y_pred)\n",
    "mse"
   ]
  },
  {
   "cell_type": "code",
   "execution_count": 38,
   "id": "e5e3f2da",
   "metadata": {},
   "outputs": [
    {
     "data": {
      "text/plain": [
       "<matplotlib.collections.PathCollection at 0x14ff4e84e20>"
      ]
     },
     "execution_count": 38,
     "metadata": {},
     "output_type": "execute_result"
    },
    {
     "data": {
      "image/png": "[encoded data removed]",
      "text/plain": [
       "<Figure size 432x288 with 1 Axes>"
      ]
     },
     "metadata": {
      "needs_background": "light"
     },
     "output_type": "display_data"
    }
   ],
   "source": [
    "#Plotting scatter plot graphs for train ansd test data using the matplotlib function\n",
    "from matplotlib import pyplot as p\n",
    "p.scatter(y_train, y_pred)"
   ]
  },
  {
   "cell_type": "code",
   "execution_count": 39,
   "id": "b5988f2c",
   "metadata": {},
   "outputs": [
    {
     "data": {
      "text/plain": [
       "<matplotlib.collections.PathCollection at 0x14ff4dc96d0>"
      ]
     },
     "execution_count": 39,
     "metadata": {},
     "output_type": "execute_result"
    },
    {
     "data": {
      "image/png": "[encoded data removed]",
      "text/plain": [
       "<Figure size 432x288 with 1 Axes>"
      ]
     },
     "metadata": {
      "needs_background": "light"
     },
     "output_type": "display_data"
    }
   ],
   "source": [
    "p.scatter(y_test, y_test_pre)"
   ]
  },
  {
   "cell_type": "code",
   "execution_count": 51,
   "id": "2cee0140",
   "metadata": {},
   "outputs": [],
   "source": [
    "#Creating ANN with mentioned nodes, hidden layers,inputs,outputs and activation function\n",
    "model=Sequential()\n",
    "model.add(Dense(100,input_dim=9,activation='sigmoid'))\n",
    "model.add(Dense(110,activation='tanh'))\n",
    "model.add(Dense(1,activation='linear'))"
   ]
  },
  {
   "cell_type": "code",
   "execution_count": 52,
   "id": "cf0995ee",
   "metadata": {},
   "outputs": [
    {
     "name": "stdout",
     "output_type": "stream",
     "text": [
      "Model: \"sequential_3\"\n",
      "_________________________________________________________________\n",
      " Layer (type)                Output Shape              Param #   \n",
      "=================================================================\n",
      " dense_9 (Dense)             (None, 100)               1000      \n",
      "                                                                 \n",
      " dense_10 (Dense)            (None, 110)               11110     \n",
      "                                                                 \n",
      " dense_11 (Dense)            (None, 1)                 111       \n",
      "                                                                 \n",
      "=================================================================\n",
      "Total params: 12,221\n",
      "Trainable params: 12,221\n",
      "Non-trainable params: 0\n",
      "_________________________________________________________________\n",
      "None\n"
     ]
    }
   ],
   "source": [
    "print(model.summary()) #model summary of total,trainable and non trainable parameters"
   ]
  },
  {
   "cell_type": "code",
   "execution_count": 53,
   "id": "e0e595db",
   "metadata": {},
   "outputs": [],
   "source": [
    "#Training the ANN using adam optimiser and MSE as loss fn.\n",
    "model.compile(optimizer='adam',loss='MSE')"
   ]
  },
  {
   "cell_type": "code",
   "execution_count": 54,
   "id": "3af17b1d",
   "metadata": {},
   "outputs": [
    {
     "name": "stdout",
     "output_type": "stream",
     "text": [
      "Epoch 1/100\n",
      "57/57 [==============================] - 2s 23ms/step - loss: 0.0319 - val_loss: 0.0217\n",
      "Epoch 2/100\n",
      "57/57 [==============================] - 0s 2ms/step - loss: 0.0223 - val_loss: 0.0222\n",
      "Epoch 3/100\n",
      "57/57 [==============================] - 0s 2ms/step - loss: 0.0209 - val_loss: 0.0202\n",
      "Epoch 4/100\n",
      "57/57 [==============================] - 0s 2ms/step - loss: 0.0209 - val_loss: 0.0181\n",
      "Epoch 5/100\n",
      "57/57 [==============================] - 0s 2ms/step - loss: 0.0209 - val_loss: 0.0348\n",
      "Epoch 6/100\n",
      "57/57 [==============================] - 0s 2ms/step - loss: 0.0204 - val_loss: 0.0188\n",
      "Epoch 7/100\n",
      "57/57 [==============================] - 0s 2ms/step - loss: 0.0188 - val_loss: 0.0217\n",
      "Epoch 8/100\n",
      "57/57 [==============================] - 0s 2ms/step - loss: 0.0194 - val_loss: 0.0200\n",
      "Epoch 9/100\n",
      "57/57 [==============================] - 0s 2ms/step - loss: 0.0211 - val_loss: 0.0186\n",
      "Epoch 10/100\n",
      "57/57 [==============================] - 0s 2ms/step - loss: 0.0201 - val_loss: 0.0242\n",
      "Epoch 11/100\n",
      "57/57 [==============================] - 0s 2ms/step - loss: 0.0274 - val_loss: 0.0338\n",
      "Epoch 12/100\n",
      "57/57 [==============================] - 0s 2ms/step - loss: 0.0257 - val_loss: 0.0314\n",
      "Epoch 13/100\n",
      "57/57 [==============================] - 0s 2ms/step - loss: 0.0189 - val_loss: 0.0181\n",
      "Epoch 14/100\n",
      "57/57 [==============================] - 0s 2ms/step - loss: 0.0195 - val_loss: 0.0227\n",
      "Epoch 15/100\n",
      "57/57 [==============================] - 0s 1ms/step - loss: 0.0213 - val_loss: 0.0314\n",
      "Epoch 16/100\n",
      "57/57 [==============================] - 0s 2ms/step - loss: 0.0190 - val_loss: 0.0278\n",
      "Epoch 17/100\n",
      "57/57 [==============================] - 0s 2ms/step - loss: 0.0191 - val_loss: 0.0183\n",
      "Epoch 18/100\n",
      "57/57 [==============================] - 0s 2ms/step - loss: 0.0197 - val_loss: 0.0229\n",
      "Epoch 19/100\n",
      "57/57 [==============================] - 0s 2ms/step - loss: 0.0198 - val_loss: 0.0193\n",
      "Epoch 20/100\n",
      "57/57 [==============================] - 0s 2ms/step - loss: 0.0228 - val_loss: 0.0183\n",
      "Epoch 21/100\n",
      "57/57 [==============================] - 0s 2ms/step - loss: 0.0202 - val_loss: 0.0207\n",
      "Epoch 22/100\n",
      "57/57 [==============================] - 0s 2ms/step - loss: 0.0205 - val_loss: 0.0186\n",
      "Epoch 23/100\n",
      "57/57 [==============================] - 0s 2ms/step - loss: 0.0183 - val_loss: 0.0181\n",
      "Epoch 24/100\n",
      "57/57 [==============================] - 0s 2ms/step - loss: 0.0222 - val_loss: 0.0359\n",
      "Epoch 25/100\n",
      "57/57 [==============================] - 0s 2ms/step - loss: 0.0204 - val_loss: 0.0181\n",
      "Epoch 26/100\n",
      "57/57 [==============================] - 0s 2ms/step - loss: 0.0201 - val_loss: 0.0186\n",
      "Epoch 27/100\n",
      "57/57 [==============================] - 0s 2ms/step - loss: 0.0200 - val_loss: 0.0180\n",
      "Epoch 28/100\n",
      "57/57 [==============================] - 0s 2ms/step - loss: 0.0182 - val_loss: 0.0200\n",
      "Epoch 29/100\n",
      "57/57 [==============================] - 0s 2ms/step - loss: 0.0192 - val_loss: 0.0201\n",
      "Epoch 30/100\n",
      "57/57 [==============================] - 0s 1ms/step - loss: 0.0182 - val_loss: 0.0181\n",
      "Epoch 31/100\n",
      "57/57 [==============================] - 0s 2ms/step - loss: 0.0192 - val_loss: 0.0191\n",
      "Epoch 32/100\n",
      "57/57 [==============================] - 0s 2ms/step - loss: 0.0212 - val_loss: 0.0191\n",
      "Epoch 33/100\n",
      "57/57 [==============================] - 0s 2ms/step - loss: 0.0179 - val_loss: 0.0189\n",
      "Epoch 34/100\n",
      "57/57 [==============================] - 0s 2ms/step - loss: 0.0182 - val_loss: 0.0180\n",
      "Epoch 35/100\n",
      "57/57 [==============================] - 0s 2ms/step - loss: 0.0187 - val_loss: 0.0183\n",
      "Epoch 36/100\n",
      "57/57 [==============================] - 0s 2ms/step - loss: 0.0197 - val_loss: 0.0203\n",
      "Epoch 37/100\n",
      "57/57 [==============================] - 0s 2ms/step - loss: 0.0211 - val_loss: 0.0188\n",
      "Epoch 38/100\n",
      "57/57 [==============================] - 0s 2ms/step - loss: 0.0187 - val_loss: 0.0256\n",
      "Epoch 39/100\n",
      "57/57 [==============================] - 0s 2ms/step - loss: 0.0208 - val_loss: 0.0182\n",
      "Epoch 40/100\n",
      "57/57 [==============================] - 0s 2ms/step - loss: 0.0185 - val_loss: 0.0184\n",
      "Epoch 41/100\n",
      "57/57 [==============================] - 0s 2ms/step - loss: 0.0193 - val_loss: 0.0189\n",
      "Epoch 42/100\n",
      "57/57 [==============================] - 0s 2ms/step - loss: 0.0188 - val_loss: 0.0182\n",
      "Epoch 43/100\n",
      "57/57 [==============================] - 0s 2ms/step - loss: 0.0186 - val_loss: 0.0179\n",
      "Epoch 44/100\n",
      "57/57 [==============================] - 0s 2ms/step - loss: 0.0186 - val_loss: 0.0189\n",
      "Epoch 45/100\n",
      "57/57 [==============================] - 0s 2ms/step - loss: 0.0205 - val_loss: 0.0288\n",
      "Epoch 46/100\n",
      "57/57 [==============================] - 0s 2ms/step - loss: 0.0211 - val_loss: 0.0180\n",
      "Epoch 47/100\n",
      "57/57 [==============================] - 0s 2ms/step - loss: 0.0180 - val_loss: 0.0193\n",
      "Epoch 48/100\n",
      "57/57 [==============================] - 0s 2ms/step - loss: 0.0189 - val_loss: 0.0181\n",
      "Epoch 49/100\n",
      "57/57 [==============================] - 0s 2ms/step - loss: 0.0187 - val_loss: 0.0189\n",
      "Epoch 50/100\n",
      "57/57 [==============================] - 0s 2ms/step - loss: 0.0184 - val_loss: 0.0179\n",
      "Epoch 51/100\n",
      "57/57 [==============================] - 0s 2ms/step - loss: 0.0177 - val_loss: 0.0180\n",
      "Epoch 52/100\n",
      "57/57 [==============================] - 0s 2ms/step - loss: 0.0183 - val_loss: 0.0181\n",
      "Epoch 53/100\n",
      "57/57 [==============================] - 0s 2ms/step - loss: 0.0178 - val_loss: 0.0188\n",
      "Epoch 54/100\n",
      "57/57 [==============================] - 0s 2ms/step - loss: 0.0181 - val_loss: 0.0191\n",
      "Epoch 55/100\n",
      "57/57 [==============================] - 0s 2ms/step - loss: 0.0177 - val_loss: 0.0195\n",
      "Epoch 56/100\n",
      "57/57 [==============================] - 0s 2ms/step - loss: 0.0187 - val_loss: 0.0208\n",
      "Epoch 57/100\n",
      "57/57 [==============================] - 0s 1ms/step - loss: 0.0183 - val_loss: 0.0180\n",
      "Epoch 58/100\n",
      "57/57 [==============================] - 0s 2ms/step - loss: 0.0200 - val_loss: 0.0183\n",
      "Epoch 59/100\n",
      "57/57 [==============================] - 0s 2ms/step - loss: 0.0214 - val_loss: 0.0182\n",
      "Epoch 60/100\n",
      "57/57 [==============================] - 0s 2ms/step - loss: 0.0188 - val_loss: 0.0184\n",
      "Epoch 61/100\n",
      "57/57 [==============================] - 0s 2ms/step - loss: 0.0197 - val_loss: 0.0200\n",
      "Epoch 62/100\n",
      "57/57 [==============================] - 0s 2ms/step - loss: 0.0182 - val_loss: 0.0204\n",
      "Epoch 63/100\n",
      "57/57 [==============================] - 0s 2ms/step - loss: 0.0188 - val_loss: 0.0185\n",
      "Epoch 64/100\n",
      "57/57 [==============================] - 0s 2ms/step - loss: 0.0185 - val_loss: 0.0193\n",
      "Epoch 65/100\n",
      "57/57 [==============================] - 0s 2ms/step - loss: 0.0182 - val_loss: 0.0188\n",
      "Epoch 66/100\n",
      "57/57 [==============================] - 0s 2ms/step - loss: 0.0178 - val_loss: 0.0181\n",
      "Epoch 67/100\n",
      "57/57 [==============================] - 0s 2ms/step - loss: 0.0188 - val_loss: 0.0240\n",
      "Epoch 68/100\n",
      "57/57 [==============================] - 0s 2ms/step - loss: 0.0192 - val_loss: 0.0202\n",
      "Epoch 69/100\n",
      "57/57 [==============================] - 0s 2ms/step - loss: 0.0179 - val_loss: 0.0181\n",
      "Epoch 70/100\n",
      "57/57 [==============================] - 0s 2ms/step - loss: 0.0179 - val_loss: 0.0204\n",
      "Epoch 71/100\n",
      "57/57 [==============================] - 0s 2ms/step - loss: 0.0182 - val_loss: 0.0179\n",
      "Epoch 72/100\n",
      "57/57 [==============================] - 0s 2ms/step - loss: 0.0180 - val_loss: 0.0180\n",
      "Epoch 73/100\n",
      "57/57 [==============================] - 0s 2ms/step - loss: 0.0182 - val_loss: 0.0184\n",
      "Epoch 74/100\n",
      "57/57 [==============================] - 0s 2ms/step - loss: 0.0189 - val_loss: 0.0176\n",
      "Epoch 75/100\n",
      "57/57 [==============================] - 0s 2ms/step - loss: 0.0185 - val_loss: 0.0201\n",
      "Epoch 76/100\n",
      "57/57 [==============================] - 0s 2ms/step - loss: 0.0184 - val_loss: 0.0183\n",
      "Epoch 77/100\n",
      "57/57 [==============================] - 0s 2ms/step - loss: 0.0177 - val_loss: 0.0184\n",
      "Epoch 78/100\n",
      "57/57 [==============================] - 0s 2ms/step - loss: 0.0186 - val_loss: 0.0212\n",
      "Epoch 79/100\n",
      "57/57 [==============================] - 0s 2ms/step - loss: 0.0179 - val_loss: 0.0177\n",
      "Epoch 80/100\n",
      "57/57 [==============================] - 0s 2ms/step - loss: 0.0181 - val_loss: 0.0177\n",
      "Epoch 81/100\n",
      "57/57 [==============================] - 0s 2ms/step - loss: 0.0176 - val_loss: 0.0178\n",
      "Epoch 82/100\n",
      "57/57 [==============================] - 0s 2ms/step - loss: 0.0182 - val_loss: 0.0180\n",
      "Epoch 83/100\n"
     ]
    },
    {
     "name": "stdout",
     "output_type": "stream",
     "text": [
      "57/57 [==============================] - 0s 2ms/step - loss: 0.0187 - val_loss: 0.0180\n",
      "Epoch 84/100\n",
      "57/57 [==============================] - 0s 2ms/step - loss: 0.0183 - val_loss: 0.0249\n",
      "Epoch 85/100\n",
      "57/57 [==============================] - 0s 2ms/step - loss: 0.0188 - val_loss: 0.0176\n",
      "Epoch 86/100\n",
      "57/57 [==============================] - 0s 2ms/step - loss: 0.0177 - val_loss: 0.0220\n",
      "Epoch 87/100\n",
      "57/57 [==============================] - 0s 2ms/step - loss: 0.0180 - val_loss: 0.0176\n",
      "Epoch 88/100\n",
      "57/57 [==============================] - 0s 2ms/step - loss: 0.0178 - val_loss: 0.0176\n",
      "Epoch 89/100\n",
      "57/57 [==============================] - 0s 2ms/step - loss: 0.0185 - val_loss: 0.0192\n",
      "Epoch 90/100\n",
      "57/57 [==============================] - 0s 2ms/step - loss: 0.0180 - val_loss: 0.0189\n",
      "Epoch 91/100\n",
      "57/57 [==============================] - 0s 2ms/step - loss: 0.0175 - val_loss: 0.0177\n",
      "Epoch 92/100\n",
      "57/57 [==============================] - 0s 2ms/step - loss: 0.0172 - val_loss: 0.0175\n",
      "Epoch 93/100\n",
      "57/57 [==============================] - 0s 2ms/step - loss: 0.0173 - val_loss: 0.0196\n",
      "Epoch 94/100\n",
      "57/57 [==============================] - 0s 1ms/step - loss: 0.0184 - val_loss: 0.0177\n",
      "Epoch 95/100\n",
      "57/57 [==============================] - 0s 1ms/step - loss: 0.0180 - val_loss: 0.0189\n",
      "Epoch 96/100\n",
      "57/57 [==============================] - 0s 1ms/step - loss: 0.0174 - val_loss: 0.0174\n",
      "Epoch 97/100\n",
      "57/57 [==============================] - 0s 1ms/step - loss: 0.0171 - val_loss: 0.0174\n",
      "Epoch 98/100\n",
      "57/57 [==============================] - 0s 1ms/step - loss: 0.0179 - val_loss: 0.0192\n",
      "Epoch 99/100\n",
      "57/57 [==============================] - 0s 2ms/step - loss: 0.0174 - val_loss: 0.0181\n",
      "Epoch 100/100\n",
      "57/57 [==============================] - 0s 2ms/step - loss: 0.0176 - val_loss: 0.0180\n"
     ]
    }
   ],
   "source": [
    "#Validation splits and iterations\n",
    "history=model.fit(X_train,y_train,epochs=100,validation_split=0.15)"
   ]
  },
  {
   "cell_type": "code",
   "execution_count": 55,
   "id": "86c70590",
   "metadata": {},
   "outputs": [
    {
     "name": "stdout",
     "output_type": "stream",
     "text": [
      "Epoch 1/100\n",
      "57/57 [==============================] - 0s 2ms/step - loss: 0.0172 - val_loss: 0.0192\n",
      "Epoch 2/100\n",
      "57/57 [==============================] - 0s 2ms/step - loss: 0.0182 - val_loss: 0.0175\n",
      "Epoch 3/100\n",
      "57/57 [==============================] - 0s 2ms/step - loss: 0.0178 - val_loss: 0.0187\n",
      "Epoch 4/100\n",
      "57/57 [==============================] - 0s 2ms/step - loss: 0.0193 - val_loss: 0.0181\n",
      "Epoch 5/100\n",
      "57/57 [==============================] - 0s 2ms/step - loss: 0.0179 - val_loss: 0.0177\n",
      "Epoch 6/100\n",
      "57/57 [==============================] - 0s 1ms/step - loss: 0.0170 - val_loss: 0.0177\n",
      "Epoch 7/100\n",
      "57/57 [==============================] - 0s 2ms/step - loss: 0.0171 - val_loss: 0.0185\n",
      "Epoch 8/100\n",
      "57/57 [==============================] - 0s 2ms/step - loss: 0.0187 - val_loss: 0.0171\n",
      "Epoch 9/100\n",
      "57/57 [==============================] - 0s 2ms/step - loss: 0.0174 - val_loss: 0.0171\n",
      "Epoch 10/100\n",
      "57/57 [==============================] - 0s 2ms/step - loss: 0.0171 - val_loss: 0.0185\n",
      "Epoch 11/100\n",
      "57/57 [==============================] - 0s 2ms/step - loss: 0.0173 - val_loss: 0.0173\n",
      "Epoch 12/100\n",
      "57/57 [==============================] - 0s 2ms/step - loss: 0.0173 - val_loss: 0.0177\n",
      "Epoch 13/100\n",
      "57/57 [==============================] - 0s 2ms/step - loss: 0.0170 - val_loss: 0.0188\n",
      "Epoch 14/100\n",
      "57/57 [==============================] - 0s 2ms/step - loss: 0.0173 - val_loss: 0.0175\n",
      "Epoch 15/100\n",
      "57/57 [==============================] - 0s 2ms/step - loss: 0.0177 - val_loss: 0.0169\n",
      "Epoch 16/100\n",
      "57/57 [==============================] - 0s 2ms/step - loss: 0.0172 - val_loss: 0.0169\n",
      "Epoch 17/100\n",
      "57/57 [==============================] - 0s 2ms/step - loss: 0.0170 - val_loss: 0.0176\n",
      "Epoch 18/100\n",
      "57/57 [==============================] - 0s 2ms/step - loss: 0.0170 - val_loss: 0.0170\n",
      "Epoch 19/100\n",
      "57/57 [==============================] - 0s 2ms/step - loss: 0.0170 - val_loss: 0.0174\n",
      "Epoch 20/100\n",
      "57/57 [==============================] - 0s 2ms/step - loss: 0.0169 - val_loss: 0.0198\n",
      "Epoch 21/100\n",
      "57/57 [==============================] - 0s 2ms/step - loss: 0.0184 - val_loss: 0.0170\n",
      "Epoch 22/100\n",
      "57/57 [==============================] - 0s 2ms/step - loss: 0.0166 - val_loss: 0.0166\n",
      "Epoch 23/100\n",
      "57/57 [==============================] - 0s 2ms/step - loss: 0.0166 - val_loss: 0.0167\n",
      "Epoch 24/100\n",
      "57/57 [==============================] - 0s 2ms/step - loss: 0.0170 - val_loss: 0.0224\n",
      "Epoch 25/100\n",
      "57/57 [==============================] - 0s 2ms/step - loss: 0.0187 - val_loss: 0.0165\n",
      "Epoch 26/100\n",
      "57/57 [==============================] - 0s 2ms/step - loss: 0.0171 - val_loss: 0.0172\n",
      "Epoch 27/100\n",
      "57/57 [==============================] - 0s 2ms/step - loss: 0.0169 - val_loss: 0.0165\n",
      "Epoch 28/100\n",
      "57/57 [==============================] - 0s 2ms/step - loss: 0.0167 - val_loss: 0.0169\n",
      "Epoch 29/100\n",
      "57/57 [==============================] - 0s 2ms/step - loss: 0.0162 - val_loss: 0.0163\n",
      "Epoch 30/100\n",
      "57/57 [==============================] - 0s 2ms/step - loss: 0.0166 - val_loss: 0.0170\n",
      "Epoch 31/100\n",
      "57/57 [==============================] - 0s 2ms/step - loss: 0.0171 - val_loss: 0.0210\n",
      "Epoch 32/100\n",
      "57/57 [==============================] - 0s 2ms/step - loss: 0.0165 - val_loss: 0.0172\n",
      "Epoch 33/100\n",
      "57/57 [==============================] - 0s 2ms/step - loss: 0.0171 - val_loss: 0.0169\n",
      "Epoch 34/100\n",
      "57/57 [==============================] - 0s 2ms/step - loss: 0.0163 - val_loss: 0.0176\n",
      "Epoch 35/100\n",
      "57/57 [==============================] - 0s 1ms/step - loss: 0.0164 - val_loss: 0.0169\n",
      "Epoch 36/100\n",
      "57/57 [==============================] - 0s 2ms/step - loss: 0.0166 - val_loss: 0.0163\n",
      "Epoch 37/100\n",
      "57/57 [==============================] - 0s 2ms/step - loss: 0.0166 - val_loss: 0.0160\n",
      "Epoch 38/100\n",
      "57/57 [==============================] - 0s 1ms/step - loss: 0.0160 - val_loss: 0.0158\n",
      "Epoch 39/100\n",
      "57/57 [==============================] - 0s 2ms/step - loss: 0.0158 - val_loss: 0.0158\n",
      "Epoch 40/100\n",
      "57/57 [==============================] - 0s 2ms/step - loss: 0.0162 - val_loss: 0.0193\n",
      "Epoch 41/100\n",
      "57/57 [==============================] - 0s 2ms/step - loss: 0.0162 - val_loss: 0.0161\n",
      "Epoch 42/100\n",
      "57/57 [==============================] - 0s 2ms/step - loss: 0.0162 - val_loss: 0.0155\n",
      "Epoch 43/100\n",
      "57/57 [==============================] - 0s 2ms/step - loss: 0.0160 - val_loss: 0.0154\n",
      "Epoch 44/100\n",
      "57/57 [==============================] - 0s 2ms/step - loss: 0.0163 - val_loss: 0.0188\n",
      "Epoch 45/100\n",
      "57/57 [==============================] - 0s 1ms/step - loss: 0.0164 - val_loss: 0.0153\n",
      "Epoch 46/100\n",
      "57/57 [==============================] - 0s 2ms/step - loss: 0.0153 - val_loss: 0.0151\n",
      "Epoch 47/100\n",
      "57/57 [==============================] - 0s 2ms/step - loss: 0.0159 - val_loss: 0.0150\n",
      "Epoch 48/100\n",
      "57/57 [==============================] - 0s 2ms/step - loss: 0.0155 - val_loss: 0.0148\n",
      "Epoch 49/100\n",
      "57/57 [==============================] - 0s 2ms/step - loss: 0.0159 - val_loss: 0.0172\n",
      "Epoch 50/100\n",
      "57/57 [==============================] - 0s 2ms/step - loss: 0.0161 - val_loss: 0.0167\n",
      "Epoch 51/100\n",
      "57/57 [==============================] - 0s 2ms/step - loss: 0.0157 - val_loss: 0.0184\n",
      "Epoch 52/100\n",
      "57/57 [==============================] - 0s 2ms/step - loss: 0.0152 - val_loss: 0.0159\n",
      "Epoch 53/100\n",
      "57/57 [==============================] - 0s 2ms/step - loss: 0.0152 - val_loss: 0.0146\n",
      "Epoch 54/100\n",
      "57/57 [==============================] - 0s 2ms/step - loss: 0.0156 - val_loss: 0.0229\n",
      "Epoch 55/100\n",
      "57/57 [==============================] - 0s 2ms/step - loss: 0.0160 - val_loss: 0.0150\n",
      "Epoch 56/100\n",
      "57/57 [==============================] - 0s 1ms/step - loss: 0.0155 - val_loss: 0.0181\n",
      "Epoch 57/100\n",
      "57/57 [==============================] - 0s 1ms/step - loss: 0.0151 - val_loss: 0.0144\n",
      "Epoch 58/100\n",
      "57/57 [==============================] - 0s 2ms/step - loss: 0.0156 - val_loss: 0.0150\n",
      "Epoch 59/100\n",
      "57/57 [==============================] - 0s 2ms/step - loss: 0.0150 - val_loss: 0.0148\n",
      "Epoch 60/100\n",
      "57/57 [==============================] - 0s 2ms/step - loss: 0.0158 - val_loss: 0.0151\n",
      "Epoch 61/100\n",
      "57/57 [==============================] - 0s 2ms/step - loss: 0.0147 - val_loss: 0.0142\n",
      "Epoch 62/100\n",
      "57/57 [==============================] - 0s 1ms/step - loss: 0.0153 - val_loss: 0.0140\n",
      "Epoch 63/100\n",
      "57/57 [==============================] - 0s 2ms/step - loss: 0.0155 - val_loss: 0.0144\n",
      "Epoch 64/100\n",
      "57/57 [==============================] - 0s 2ms/step - loss: 0.0147 - val_loss: 0.0147\n",
      "Epoch 65/100\n",
      "57/57 [==============================] - 0s 2ms/step - loss: 0.0148 - val_loss: 0.0139\n",
      "Epoch 66/100\n",
      "57/57 [==============================] - 0s 2ms/step - loss: 0.0144 - val_loss: 0.0138\n",
      "Epoch 67/100\n",
      "57/57 [==============================] - 0s 2ms/step - loss: 0.0142 - val_loss: 0.0140\n",
      "Epoch 68/100\n",
      "57/57 [==============================] - 0s 1ms/step - loss: 0.0150 - val_loss: 0.0143\n",
      "Epoch 69/100\n",
      "57/57 [==============================] - 0s 2ms/step - loss: 0.0143 - val_loss: 0.0151\n",
      "Epoch 70/100\n",
      "57/57 [==============================] - 0s 2ms/step - loss: 0.0145 - val_loss: 0.0139\n",
      "Epoch 71/100\n",
      "57/57 [==============================] - 0s 2ms/step - loss: 0.0141 - val_loss: 0.0137\n",
      "Epoch 72/100\n",
      "57/57 [==============================] - 0s 2ms/step - loss: 0.0153 - val_loss: 0.0136\n",
      "Epoch 73/100\n",
      "57/57 [==============================] - 0s 2ms/step - loss: 0.0144 - val_loss: 0.0159\n",
      "Epoch 74/100\n",
      "57/57 [==============================] - 0s 2ms/step - loss: 0.0143 - val_loss: 0.0135\n",
      "Epoch 75/100\n",
      "57/57 [==============================] - 0s 2ms/step - loss: 0.0141 - val_loss: 0.0178\n",
      "Epoch 76/100\n",
      "57/57 [==============================] - 0s 2ms/step - loss: 0.0142 - val_loss: 0.0146\n",
      "Epoch 77/100\n",
      "57/57 [==============================] - 0s 2ms/step - loss: 0.0152 - val_loss: 0.0159\n",
      "Epoch 78/100\n",
      "57/57 [==============================] - 0s 2ms/step - loss: 0.0151 - val_loss: 0.0134\n",
      "Epoch 79/100\n",
      "57/57 [==============================] - 0s 2ms/step - loss: 0.0137 - val_loss: 0.0135\n",
      "Epoch 80/100\n",
      "57/57 [==============================] - 0s 1ms/step - loss: 0.0142 - val_loss: 0.0142\n",
      "Epoch 81/100\n",
      "57/57 [==============================] - 0s 2ms/step - loss: 0.0137 - val_loss: 0.0145\n",
      "Epoch 82/100\n",
      "57/57 [==============================] - 0s 1ms/step - loss: 0.0137 - val_loss: 0.0132\n",
      "Epoch 83/100\n"
     ]
    },
    {
     "name": "stdout",
     "output_type": "stream",
     "text": [
      "57/57 [==============================] - 0s 2ms/step - loss: 0.0133 - val_loss: 0.0132\n",
      "Epoch 84/100\n",
      "57/57 [==============================] - 0s 2ms/step - loss: 0.0132 - val_loss: 0.0134\n",
      "Epoch 85/100\n",
      "57/57 [==============================] - 0s 2ms/step - loss: 0.0135 - val_loss: 0.0131\n",
      "Epoch 86/100\n",
      "57/57 [==============================] - 0s 2ms/step - loss: 0.0136 - val_loss: 0.0147\n",
      "Epoch 87/100\n",
      "57/57 [==============================] - 0s 2ms/step - loss: 0.0143 - val_loss: 0.0131\n",
      "Epoch 88/100\n",
      "57/57 [==============================] - 0s 2ms/step - loss: 0.0136 - val_loss: 0.0132\n",
      "Epoch 89/100\n",
      "57/57 [==============================] - 0s 2ms/step - loss: 0.0135 - val_loss: 0.0128\n",
      "Epoch 90/100\n",
      "57/57 [==============================] - 0s 2ms/step - loss: 0.0131 - val_loss: 0.0130\n",
      "Epoch 91/100\n",
      "57/57 [==============================] - 0s 2ms/step - loss: 0.0132 - val_loss: 0.0133\n",
      "Epoch 92/100\n",
      "57/57 [==============================] - 0s 2ms/step - loss: 0.0129 - val_loss: 0.0138\n",
      "Epoch 93/100\n",
      "57/57 [==============================] - 0s 2ms/step - loss: 0.0135 - val_loss: 0.0154\n",
      "Epoch 94/100\n",
      "57/57 [==============================] - 0s 2ms/step - loss: 0.0135 - val_loss: 0.0125\n",
      "Epoch 95/100\n",
      "57/57 [==============================] - 0s 2ms/step - loss: 0.0128 - val_loss: 0.0129\n",
      "Epoch 96/100\n",
      "57/57 [==============================] - 0s 2ms/step - loss: 0.0132 - val_loss: 0.0129\n",
      "Epoch 97/100\n",
      "57/57 [==============================] - 0s 2ms/step - loss: 0.0128 - val_loss: 0.0123\n",
      "Epoch 98/100\n",
      "57/57 [==============================] - 0s 1ms/step - loss: 0.0141 - val_loss: 0.0203\n",
      "Epoch 99/100\n",
      "57/57 [==============================] - 0s 2ms/step - loss: 0.0142 - val_loss: 0.0124\n",
      "Epoch 100/100\n",
      "57/57 [==============================] - 0s 2ms/step - loss: 0.0131 - val_loss: 0.0127\n"
     ]
    }
   ],
   "source": [
    "#Validation splits and iterations\n",
    "history=model.fit(X_train,y_train,epochs=100,validation_split=0.15)"
   ]
  },
  {
   "cell_type": "code",
   "execution_count": 56,
   "id": "c4d6adf8",
   "metadata": {},
   "outputs": [],
   "source": [
    "from sklearn.metrics import r2_score"
   ]
  },
  {
   "cell_type": "code",
   "execution_count": 57,
   "id": "e806a9c7",
   "metadata": {},
   "outputs": [
    {
     "name": "stdout",
     "output_type": "stream",
     "text": [
      "67/67 [==============================] - 0s 1ms/step\n"
     ]
    }
   ],
   "source": [
    "y_train_pre=model.predict(X_train)"
   ]
  },
  {
   "cell_type": "code",
   "execution_count": 58,
   "id": "0b0f0da7",
   "metadata": {},
   "outputs": [
    {
     "data": {
      "text/plain": [
       "0.5030554691486915"
      ]
     },
     "execution_count": 58,
     "metadata": {},
     "output_type": "execute_result"
    }
   ],
   "source": [
    "#r2 value for train data\n",
    "r2_train=r2_score(y_train,y_train_pre)\n",
    "r2_train"
   ]
  },
  {
   "cell_type": "code",
   "execution_count": 59,
   "id": "d2b2b640",
   "metadata": {},
   "outputs": [
    {
     "name": "stdout",
     "output_type": "stream",
     "text": [
      "12/12 [==============================] - 0s 2ms/step\n"
     ]
    },
    {
     "data": {
      "text/plain": [
       "0.3762326331812683"
      ]
     },
     "execution_count": 59,
     "metadata": {},
     "output_type": "execute_result"
    }
   ],
   "source": [
    "#r2 value for test data\n",
    "y_test_pre=model.predict(X_test)\n",
    "r2_test=r2_score(y_test,y_test_pre)\n",
    "r2_test"
   ]
  },
  {
   "cell_type": "code",
   "execution_count": 60,
   "id": "4f753993",
   "metadata": {},
   "outputs": [
    {
     "data": {
      "text/plain": [
       "<matplotlib.collections.PathCollection at 0x14ff3c7d2b0>"
      ]
     },
     "execution_count": 60,
     "metadata": {},
     "output_type": "execute_result"
    },
    {
     "data": {
      "image/png": "[encoded data removed]",
      "text/plain": [
       "<Figure size 432x288 with 1 Axes>"
      ]
     },
     "metadata": {
      "needs_background": "light"
     },
     "output_type": "display_data"
    }
   ],
   "source": [
    "#Plotting scatter plot graphs for train ansd test data using the matplotlib function\n",
    "from matplotlib import pyplot as p\n",
    "p.scatter(y_train, y_pred)"
   ]
  },
  {
   "cell_type": "code",
   "execution_count": 61,
   "id": "73e33691",
   "metadata": {},
   "outputs": [
    {
     "data": {
      "text/plain": [
       "<matplotlib.collections.PathCollection at 0x14fee6b66d0>"
      ]
     },
     "execution_count": 61,
     "metadata": {},
     "output_type": "execute_result"
    },
    {
     "data": {
      "image/png": "[encoded data removed]",
      "text/plain": [
       "<Figure size 432x288 with 1 Axes>"
      ]
     },
     "metadata": {
      "needs_background": "light"
     },
     "output_type": "display_data"
    }
   ],
   "source": [
    "p.scatter(y_test, y_test_pre)"
   ]
  },
  {
   "cell_type": "code",
   "execution_count": null,
   "id": "0de2c7c0",
   "metadata": {},
   "outputs": [],
   "source": []
  },
  {
   "cell_type": "code",
   "execution_count": null,
   "id": "86a4e793",
   "metadata": {},
   "outputs": [],
   "source": []
  },
  {
   "cell_type": "code",
   "execution_count": null,
   "id": "dc2cfe4e",
   "metadata": {},
   "outputs": [],
   "source": []
  }
 ],
 "metadata": {
  "kernelspec": {
   "display_name": "Python 3 (ipykernel)",
   "language": "python",
   "name": "python3"
  },
  "language_info": {
   "codemirror_mode": {
    "name": "ipython",
    "version": 3
   },
   "file_extension": ".py",
   "mimetype": "text/x-python",
   "name": "python",
   "nbconvert_exporter": "python",
   "pygments_lexer": "ipython3",
   "version": "3.9.12"
  }
 },
 "nbformat": 4,
 "nbformat_minor": 5
}

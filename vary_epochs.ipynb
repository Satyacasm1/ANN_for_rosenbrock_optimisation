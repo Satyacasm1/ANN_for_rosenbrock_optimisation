{
 "cells": [
  {
   "cell_type": "markdown",
   "id": "3d13a828",
   "metadata": {},
   "source": [
    "Variation 1 (epoch=75)"
   ]
  },
  {
   "cell_type": "code",
   "execution_count": 1,
   "id": "81257503",
   "metadata": {
    "scrolled": false
   },
   "outputs": [
    {
     "data": {
      "text/html": [
       "<div>\n",
       "<style scoped>\n",
       "    .dataframe tbody tr th:only-of-type {\n",
       "        vertical-align: middle;\n",
       "    }\n",
       "\n",
       "    .dataframe tbody tr th {\n",
       "        vertical-align: top;\n",
       "    }\n",
       "\n",
       "    .dataframe thead th {\n",
       "        text-align: right;\n",
       "    }\n",
       "</style>\n",
       "<table border=\"1\" class=\"dataframe\">\n",
       "  <thead>\n",
       "    <tr style=\"text-align: right;\">\n",
       "      <th></th>\n",
       "      <th>Unnamed: 0</th>\n",
       "      <th>0</th>\n",
       "      <th>1</th>\n",
       "      <th>2</th>\n",
       "      <th>3</th>\n",
       "      <th>4</th>\n",
       "      <th>5</th>\n",
       "      <th>6</th>\n",
       "      <th>7</th>\n",
       "      <th>8</th>\n",
       "      <th>9</th>\n",
       "    </tr>\n",
       "  </thead>\n",
       "  <tbody>\n",
       "    <tr>\n",
       "      <th>0</th>\n",
       "      <td>0</td>\n",
       "      <td>0.486881</td>\n",
       "      <td>-0.773397</td>\n",
       "      <td>-0.050534</td>\n",
       "      <td>0.084568</td>\n",
       "      <td>-0.032604</td>\n",
       "      <td>-0.736818</td>\n",
       "      <td>0.295694</td>\n",
       "      <td>0.497740</td>\n",
       "      <td>-0.561831</td>\n",
       "      <td>298.125329</td>\n",
       "    </tr>\n",
       "    <tr>\n",
       "      <th>1</th>\n",
       "      <td>1</td>\n",
       "      <td>0.629629</td>\n",
       "      <td>0.957705</td>\n",
       "      <td>-0.659850</td>\n",
       "      <td>0.121552</td>\n",
       "      <td>0.824153</td>\n",
       "      <td>0.828809</td>\n",
       "      <td>-0.006234</td>\n",
       "      <td>0.237842</td>\n",
       "      <td>0.895073</td>\n",
       "      <td>487.138146</td>\n",
       "    </tr>\n",
       "    <tr>\n",
       "      <th>2</th>\n",
       "      <td>2</td>\n",
       "      <td>-0.712852</td>\n",
       "      <td>0.948625</td>\n",
       "      <td>0.572676</td>\n",
       "      <td>0.660235</td>\n",
       "      <td>-0.214652</td>\n",
       "      <td>0.542341</td>\n",
       "      <td>-0.398283</td>\n",
       "      <td>-0.982550</td>\n",
       "      <td>-0.914472</td>\n",
       "      <td>650.471675</td>\n",
       "    </tr>\n",
       "    <tr>\n",
       "      <th>3</th>\n",
       "      <td>3</td>\n",
       "      <td>-0.432045</td>\n",
       "      <td>0.884390</td>\n",
       "      <td>-0.044217</td>\n",
       "      <td>-0.804677</td>\n",
       "      <td>-0.516557</td>\n",
       "      <td>0.775618</td>\n",
       "      <td>-0.645234</td>\n",
       "      <td>0.445783</td>\n",
       "      <td>0.959935</td>\n",
       "      <td>568.687717</td>\n",
       "    </tr>\n",
       "    <tr>\n",
       "      <th>4</th>\n",
       "      <td>4</td>\n",
       "      <td>0.179924</td>\n",
       "      <td>0.043875</td>\n",
       "      <td>0.216944</td>\n",
       "      <td>-0.876370</td>\n",
       "      <td>-0.753894</td>\n",
       "      <td>0.685081</td>\n",
       "      <td>0.842100</td>\n",
       "      <td>0.230466</td>\n",
       "      <td>-0.526571</td>\n",
       "      <td>402.819802</td>\n",
       "    </tr>\n",
       "    <tr>\n",
       "      <th>...</th>\n",
       "      <td>...</td>\n",
       "      <td>...</td>\n",
       "      <td>...</td>\n",
       "      <td>...</td>\n",
       "      <td>...</td>\n",
       "      <td>...</td>\n",
       "      <td>...</td>\n",
       "      <td>...</td>\n",
       "      <td>...</td>\n",
       "      <td>...</td>\n",
       "      <td>...</td>\n",
       "    </tr>\n",
       "    <tr>\n",
       "      <th>2495</th>\n",
       "      <td>2495</td>\n",
       "      <td>0.467579</td>\n",
       "      <td>-0.860763</td>\n",
       "      <td>0.800176</td>\n",
       "      <td>-0.560314</td>\n",
       "      <td>-0.392197</td>\n",
       "      <td>0.018670</td>\n",
       "      <td>-0.938476</td>\n",
       "      <td>-0.842295</td>\n",
       "      <td>-0.976001</td>\n",
       "      <td>998.068631</td>\n",
       "    </tr>\n",
       "    <tr>\n",
       "      <th>2496</th>\n",
       "      <td>2496</td>\n",
       "      <td>0.833969</td>\n",
       "      <td>-0.392949</td>\n",
       "      <td>0.347030</td>\n",
       "      <td>-0.678596</td>\n",
       "      <td>0.920039</td>\n",
       "      <td>-0.584858</td>\n",
       "      <td>-0.387439</td>\n",
       "      <td>-0.669473</td>\n",
       "      <td>0.843922</td>\n",
       "      <td>560.507127</td>\n",
       "    </tr>\n",
       "    <tr>\n",
       "      <th>2497</th>\n",
       "      <td>2497</td>\n",
       "      <td>0.202129</td>\n",
       "      <td>-0.514602</td>\n",
       "      <td>0.105609</td>\n",
       "      <td>-0.849493</td>\n",
       "      <td>0.763000</td>\n",
       "      <td>0.491210</td>\n",
       "      <td>0.295731</td>\n",
       "      <td>-0.483899</td>\n",
       "      <td>-0.334942</td>\n",
       "      <td>183.950358</td>\n",
       "    </tr>\n",
       "    <tr>\n",
       "      <th>2498</th>\n",
       "      <td>2498</td>\n",
       "      <td>-0.176911</td>\n",
       "      <td>-0.005577</td>\n",
       "      <td>-0.846307</td>\n",
       "      <td>0.465155</td>\n",
       "      <td>0.474745</td>\n",
       "      <td>0.610356</td>\n",
       "      <td>-0.262790</td>\n",
       "      <td>0.604143</td>\n",
       "      <td>-0.765866</td>\n",
       "      <td>304.714127</td>\n",
       "    </tr>\n",
       "    <tr>\n",
       "      <th>2499</th>\n",
       "      <td>2499</td>\n",
       "      <td>0.599377</td>\n",
       "      <td>0.161560</td>\n",
       "      <td>0.153107</td>\n",
       "      <td>-0.607970</td>\n",
       "      <td>0.273184</td>\n",
       "      <td>-0.578427</td>\n",
       "      <td>0.575376</td>\n",
       "      <td>-0.529609</td>\n",
       "      <td>0.688512</td>\n",
       "      <td>195.195446</td>\n",
       "    </tr>\n",
       "  </tbody>\n",
       "</table>\n",
       "<p>2500 rows × 11 columns</p>\n",
       "</div>"
      ],
      "text/plain": [
       "      Unnamed: 0         0         1         2         3         4         5  \\\n",
       "0              0  0.486881 -0.773397 -0.050534  0.084568 -0.032604 -0.736818   \n",
       "1              1  0.629629  0.957705 -0.659850  0.121552  0.824153  0.828809   \n",
       "2              2 -0.712852  0.948625  0.572676  0.660235 -0.214652  0.542341   \n",
       "3              3 -0.432045  0.884390 -0.044217 -0.804677 -0.516557  0.775618   \n",
       "4              4  0.179924  0.043875  0.216944 -0.876370 -0.753894  0.685081   \n",
       "...          ...       ...       ...       ...       ...       ...       ...   \n",
       "2495        2495  0.467579 -0.860763  0.800176 -0.560314 -0.392197  0.018670   \n",
       "2496        2496  0.833969 -0.392949  0.347030 -0.678596  0.920039 -0.584858   \n",
       "2497        2497  0.202129 -0.514602  0.105609 -0.849493  0.763000  0.491210   \n",
       "2498        2498 -0.176911 -0.005577 -0.846307  0.465155  0.474745  0.610356   \n",
       "2499        2499  0.599377  0.161560  0.153107 -0.607970  0.273184 -0.578427   \n",
       "\n",
       "             6         7         8           9  \n",
       "0     0.295694  0.497740 -0.561831  298.125329  \n",
       "1    -0.006234  0.237842  0.895073  487.138146  \n",
       "2    -0.398283 -0.982550 -0.914472  650.471675  \n",
       "3    -0.645234  0.445783  0.959935  568.687717  \n",
       "4     0.842100  0.230466 -0.526571  402.819802  \n",
       "...        ...       ...       ...         ...  \n",
       "2495 -0.938476 -0.842295 -0.976001  998.068631  \n",
       "2496 -0.387439 -0.669473  0.843922  560.507127  \n",
       "2497  0.295731 -0.483899 -0.334942  183.950358  \n",
       "2498 -0.262790  0.604143 -0.765866  304.714127  \n",
       "2499  0.575376 -0.529609  0.688512  195.195446  \n",
       "\n",
       "[2500 rows x 11 columns]"
      ]
     },
     "execution_count": 1,
     "metadata": {},
     "output_type": "execute_result"
    }
   ],
   "source": [
    "#Reading the data from the excel file created in the source file\n",
    "import pandas as pd\n",
    "data1=pd.read_excel('C:\\\\Users\\\\satya\\\\rosenbrock.xlsx')\n",
    "data1"
   ]
  },
  {
   "cell_type": "code",
   "execution_count": 2,
   "id": "b1ba5ca7",
   "metadata": {},
   "outputs": [],
   "source": [
    "#Normalizing the data\n",
    "from sklearn.preprocessing import MinMaxScaler\n",
    "scaler=MinMaxScaler()\n",
    "scaled_data=scaler.fit_transform(data1.values)"
   ]
  },
  {
   "cell_type": "code",
   "execution_count": 3,
   "id": "f7d962c4",
   "metadata": {},
   "outputs": [],
   "source": [
    "X=scaled_data[:,1:10]\n",
    "y=scaled_data[:,10]"
   ]
  },
  {
   "cell_type": "code",
   "execution_count": 4,
   "id": "73c29c6c",
   "metadata": {},
   "outputs": [],
   "source": [
    "#Splitting the data using sklearn function\n",
    "from sklearn.model_selection import train_test_split\n",
    "X_train,X_test,y_train,y_test=train_test_split(X,y,test_size=0.15,random_state=0) #Random state: to obtain the same data every time we run kernel"
   ]
  },
  {
   "cell_type": "code",
   "execution_count": 5,
   "id": "521af270",
   "metadata": {},
   "outputs": [
    {
     "data": {
      "text/plain": [
       "(2125, 9)"
      ]
     },
     "execution_count": 5,
     "metadata": {},
     "output_type": "execute_result"
    }
   ],
   "source": [
    "X_train.shape #to know the size of the dataset"
   ]
  },
  {
   "cell_type": "code",
   "execution_count": 6,
   "id": "a155e56e",
   "metadata": {},
   "outputs": [],
   "source": [
    "#Creating sequential ANN model\n",
    "from tensorflow.keras import Sequential\n",
    "from tensorflow.keras.layers import Dense"
   ]
  },
  {
   "cell_type": "code",
   "execution_count": 7,
   "id": "df8d67ee",
   "metadata": {},
   "outputs": [],
   "source": [
    "#Creating ANN with mentioned nodes, hidden layers,inputs,outputs and activation function\n",
    "model=Sequential()\n",
    "model.add(Dense(100,input_dim=9,activation='relu'))\n",
    "model.add(Dense(110,activation='relu'))\n",
    "model.add(Dense(1,activation='linear'))"
   ]
  },
  {
   "cell_type": "code",
   "execution_count": 8,
   "id": "746b1383",
   "metadata": {},
   "outputs": [
    {
     "name": "stdout",
     "output_type": "stream",
     "text": [
      "Model: \"sequential\"\n",
      "_________________________________________________________________\n",
      " Layer (type)                Output Shape              Param #   \n",
      "=================================================================\n",
      " dense (Dense)               (None, 100)               1000      \n",
      "                                                                 \n",
      " dense_1 (Dense)             (None, 110)               11110     \n",
      "                                                                 \n",
      " dense_2 (Dense)             (None, 1)                 111       \n",
      "                                                                 \n",
      "=================================================================\n",
      "Total params: 12,221\n",
      "Trainable params: 12,221\n",
      "Non-trainable params: 0\n",
      "_________________________________________________________________\n",
      "None\n"
     ]
    }
   ],
   "source": [
    "print(model.summary()) #model summary of total,trainable and non trainable parameters"
   ]
  },
  {
   "cell_type": "code",
   "execution_count": 9,
   "id": "68295a96",
   "metadata": {},
   "outputs": [],
   "source": [
    "#Training the ANN using adam optimiser and MSE as loss fn.\n",
    "model.compile(optimizer='adam',loss='MSE')"
   ]
  },
  {
   "cell_type": "code",
   "execution_count": 10,
   "id": "58ae5254",
   "metadata": {
    "scrolled": true
   },
   "outputs": [
    {
     "name": "stdout",
     "output_type": "stream",
     "text": [
      "Epoch 1/75\n",
      "57/57 [==============================] - 1s 4ms/step - loss: 0.0282 - val_loss: 0.0133\n",
      "Epoch 2/75\n",
      "57/57 [==============================] - 0s 1ms/step - loss: 0.0107 - val_loss: 0.0083\n",
      "Epoch 3/75\n",
      "57/57 [==============================] - 0s 2ms/step - loss: 0.0083 - val_loss: 0.0073\n",
      "Epoch 4/75\n",
      "57/57 [==============================] - 0s 2ms/step - loss: 0.0068 - val_loss: 0.0059\n",
      "Epoch 5/75\n",
      "57/57 [==============================] - 0s 2ms/step - loss: 0.0065 - val_loss: 0.0055\n",
      "Epoch 6/75\n",
      "57/57 [==============================] - 0s 2ms/step - loss: 0.0057 - val_loss: 0.0050\n",
      "Epoch 7/75\n",
      "57/57 [==============================] - 0s 2ms/step - loss: 0.0048 - val_loss: 0.0046\n",
      "Epoch 8/75\n",
      "57/57 [==============================] - 0s 2ms/step - loss: 0.0044 - val_loss: 0.0044\n",
      "Epoch 9/75\n",
      "57/57 [==============================] - 0s 2ms/step - loss: 0.0041 - val_loss: 0.0041\n",
      "Epoch 10/75\n",
      "57/57 [==============================] - 0s 2ms/step - loss: 0.0037 - val_loss: 0.0036\n",
      "Epoch 11/75\n",
      "57/57 [==============================] - 0s 2ms/step - loss: 0.0035 - val_loss: 0.0034\n",
      "Epoch 12/75\n",
      "57/57 [==============================] - 0s 2ms/step - loss: 0.0031 - val_loss: 0.0032\n",
      "Epoch 13/75\n",
      "57/57 [==============================] - 0s 2ms/step - loss: 0.0028 - val_loss: 0.0033\n",
      "Epoch 14/75\n",
      "57/57 [==============================] - 0s 2ms/step - loss: 0.0028 - val_loss: 0.0030\n",
      "Epoch 15/75\n",
      "57/57 [==============================] - 0s 2ms/step - loss: 0.0025 - val_loss: 0.0028\n",
      "Epoch 16/75\n",
      "57/57 [==============================] - 0s 2ms/step - loss: 0.0023 - val_loss: 0.0025\n",
      "Epoch 17/75\n",
      "57/57 [==============================] - 0s 2ms/step - loss: 0.0021 - val_loss: 0.0025\n",
      "Epoch 18/75\n",
      "57/57 [==============================] - 0s 1ms/step - loss: 0.0021 - val_loss: 0.0024\n",
      "Epoch 19/75\n",
      "57/57 [==============================] - 0s 1ms/step - loss: 0.0017 - val_loss: 0.0025\n",
      "Epoch 20/75\n",
      "57/57 [==============================] - 0s 2ms/step - loss: 0.0017 - val_loss: 0.0021\n",
      "Epoch 21/75\n",
      "57/57 [==============================] - 0s 2ms/step - loss: 0.0016 - val_loss: 0.0021\n",
      "Epoch 22/75\n",
      "57/57 [==============================] - 0s 2ms/step - loss: 0.0015 - val_loss: 0.0023\n",
      "Epoch 23/75\n",
      "57/57 [==============================] - 0s 1ms/step - loss: 0.0014 - val_loss: 0.0022\n",
      "Epoch 24/75\n",
      "57/57 [==============================] - 0s 2ms/step - loss: 0.0015 - val_loss: 0.0019\n",
      "Epoch 25/75\n",
      "57/57 [==============================] - 0s 2ms/step - loss: 0.0013 - val_loss: 0.0018\n",
      "Epoch 26/75\n",
      "57/57 [==============================] - 0s 2ms/step - loss: 0.0013 - val_loss: 0.0031\n",
      "Epoch 27/75\n",
      "57/57 [==============================] - 0s 2ms/step - loss: 0.0014 - val_loss: 0.0020\n",
      "Epoch 28/75\n",
      "57/57 [==============================] - 0s 2ms/step - loss: 0.0011 - val_loss: 0.0020\n",
      "Epoch 29/75\n",
      "57/57 [==============================] - 0s 2ms/step - loss: 0.0011 - val_loss: 0.0027\n",
      "Epoch 30/75\n",
      "57/57 [==============================] - 0s 2ms/step - loss: 0.0014 - val_loss: 0.0020\n",
      "Epoch 31/75\n",
      "57/57 [==============================] - 0s 2ms/step - loss: 9.7311e-04 - val_loss: 0.0023\n",
      "Epoch 32/75\n",
      "57/57 [==============================] - 0s 1ms/step - loss: 9.5504e-04 - val_loss: 0.0019\n",
      "Epoch 33/75\n",
      "57/57 [==============================] - 0s 2ms/step - loss: 9.6673e-04 - val_loss: 0.0019\n",
      "Epoch 34/75\n",
      "57/57 [==============================] - 0s 2ms/step - loss: 9.8609e-04 - val_loss: 0.0021\n",
      "Epoch 35/75\n",
      "57/57 [==============================] - 0s 2ms/step - loss: 9.4034e-04 - val_loss: 0.0018\n",
      "Epoch 36/75\n",
      "57/57 [==============================] - 0s 2ms/step - loss: 8.1710e-04 - val_loss: 0.0020\n",
      "Epoch 37/75\n",
      "57/57 [==============================] - 0s 2ms/step - loss: 7.6554e-04 - val_loss: 0.0016\n",
      "Epoch 38/75\n",
      "57/57 [==============================] - 0s 2ms/step - loss: 7.6417e-04 - val_loss: 0.0017\n",
      "Epoch 39/75\n",
      "57/57 [==============================] - 0s 2ms/step - loss: 7.6482e-04 - val_loss: 0.0017\n",
      "Epoch 40/75\n",
      "57/57 [==============================] - 0s 2ms/step - loss: 7.0163e-04 - val_loss: 0.0017\n",
      "Epoch 41/75\n",
      "57/57 [==============================] - 0s 2ms/step - loss: 7.1142e-04 - val_loss: 0.0018\n",
      "Epoch 42/75\n",
      "57/57 [==============================] - 0s 2ms/step - loss: 7.2863e-04 - val_loss: 0.0019\n",
      "Epoch 43/75\n",
      "57/57 [==============================] - 0s 2ms/step - loss: 7.8017e-04 - val_loss: 0.0019\n",
      "Epoch 44/75\n",
      "57/57 [==============================] - 0s 1ms/step - loss: 7.5760e-04 - val_loss: 0.0016\n",
      "Epoch 45/75\n",
      "57/57 [==============================] - 0s 2ms/step - loss: 6.1310e-04 - val_loss: 0.0017\n",
      "Epoch 46/75\n",
      "57/57 [==============================] - 0s 2ms/step - loss: 5.9614e-04 - val_loss: 0.0016\n",
      "Epoch 47/75\n",
      "57/57 [==============================] - 0s 1ms/step - loss: 7.6329e-04 - val_loss: 0.0016\n",
      "Epoch 48/75\n",
      "57/57 [==============================] - 0s 1ms/step - loss: 5.9989e-04 - val_loss: 0.0019\n",
      "Epoch 49/75\n",
      "57/57 [==============================] - 0s 2ms/step - loss: 6.1340e-04 - val_loss: 0.0016\n",
      "Epoch 50/75\n",
      "57/57 [==============================] - 0s 2ms/step - loss: 6.3821e-04 - val_loss: 0.0019\n",
      "Epoch 51/75\n",
      "57/57 [==============================] - 0s 2ms/step - loss: 5.7839e-04 - val_loss: 0.0015\n",
      "Epoch 52/75\n",
      "57/57 [==============================] - 0s 1ms/step - loss: 5.1039e-04 - val_loss: 0.0016\n",
      "Epoch 53/75\n",
      "57/57 [==============================] - 0s 1ms/step - loss: 5.2295e-04 - val_loss: 0.0015\n",
      "Epoch 54/75\n",
      "57/57 [==============================] - 0s 2ms/step - loss: 5.6725e-04 - val_loss: 0.0018\n",
      "Epoch 55/75\n",
      "57/57 [==============================] - 0s 1ms/step - loss: 6.5984e-04 - val_loss: 0.0015\n",
      "Epoch 56/75\n",
      "57/57 [==============================] - 0s 2ms/step - loss: 4.8957e-04 - val_loss: 0.0015\n",
      "Epoch 57/75\n",
      "57/57 [==============================] - 0s 1ms/step - loss: 6.5326e-04 - val_loss: 0.0015\n",
      "Epoch 58/75\n",
      "57/57 [==============================] - 0s 2ms/step - loss: 5.7268e-04 - val_loss: 0.0016\n",
      "Epoch 59/75\n",
      "57/57 [==============================] - 0s 1ms/step - loss: 4.4228e-04 - val_loss: 0.0014\n",
      "Epoch 60/75\n",
      "57/57 [==============================] - 0s 2ms/step - loss: 4.6265e-04 - val_loss: 0.0014\n",
      "Epoch 61/75\n",
      "57/57 [==============================] - 0s 1ms/step - loss: 4.3033e-04 - val_loss: 0.0014\n",
      "Epoch 62/75\n",
      "57/57 [==============================] - 0s 2ms/step - loss: 4.4439e-04 - val_loss: 0.0015\n",
      "Epoch 63/75\n",
      "57/57 [==============================] - 0s 2ms/step - loss: 4.5837e-04 - val_loss: 0.0014\n",
      "Epoch 64/75\n",
      "57/57 [==============================] - 0s 2ms/step - loss: 4.5543e-04 - val_loss: 0.0013\n",
      "Epoch 65/75\n",
      "57/57 [==============================] - 0s 1ms/step - loss: 4.2654e-04 - val_loss: 0.0014\n",
      "Epoch 66/75\n",
      "57/57 [==============================] - 0s 2ms/step - loss: 3.7597e-04 - val_loss: 0.0014\n",
      "Epoch 67/75\n",
      "57/57 [==============================] - 0s 2ms/step - loss: 4.8924e-04 - val_loss: 0.0015\n",
      "Epoch 68/75\n",
      "57/57 [==============================] - 0s 1ms/step - loss: 3.8617e-04 - val_loss: 0.0015\n",
      "Epoch 69/75\n",
      "57/57 [==============================] - 0s 2ms/step - loss: 4.7193e-04 - val_loss: 0.0014\n",
      "Epoch 70/75\n",
      "57/57 [==============================] - 0s 2ms/step - loss: 4.0302e-04 - val_loss: 0.0014\n",
      "Epoch 71/75\n",
      "57/57 [==============================] - 0s 1ms/step - loss: 4.0040e-04 - val_loss: 0.0015\n",
      "Epoch 72/75\n",
      "57/57 [==============================] - 0s 2ms/step - loss: 3.4989e-04 - val_loss: 0.0016\n",
      "Epoch 73/75\n",
      "57/57 [==============================] - 0s 2ms/step - loss: 3.6204e-04 - val_loss: 0.0014\n",
      "Epoch 74/75\n",
      "57/57 [==============================] - 0s 1ms/step - loss: 3.3789e-04 - val_loss: 0.0015\n",
      "Epoch 75/75\n",
      "57/57 [==============================] - 0s 2ms/step - loss: 4.1640e-04 - val_loss: 0.0014\n"
     ]
    }
   ],
   "source": [
    "#Validation splits and iterations and varying the epoch value keeping all other parameters constant\n",
    "history=model.fit(X_train,y_train,epochs=75,validation_split=0.15)"
   ]
  },
  {
   "cell_type": "code",
   "execution_count": 11,
   "id": "a0ff0327",
   "metadata": {},
   "outputs": [],
   "source": [
    "from sklearn.metrics import r2_score"
   ]
  },
  {
   "cell_type": "code",
   "execution_count": 12,
   "id": "1df4e718",
   "metadata": {},
   "outputs": [
    {
     "name": "stdout",
     "output_type": "stream",
     "text": [
      "67/67 [==============================] - 0s 911us/step\n"
     ]
    }
   ],
   "source": [
    "y_train_pre=model.predict(X_train)"
   ]
  },
  {
   "cell_type": "code",
   "execution_count": 13,
   "id": "f0a0a021",
   "metadata": {},
   "outputs": [
    {
     "data": {
      "text/plain": [
       "0.9775421737483203"
      ]
     },
     "execution_count": 13,
     "metadata": {},
     "output_type": "execute_result"
    }
   ],
   "source": [
    "#r2 value for train data\n",
    "r2_train=r2_score(y_train,y_train_pre)\n",
    "r2_train"
   ]
  },
  {
   "cell_type": "code",
   "execution_count": 14,
   "id": "65a42485",
   "metadata": {
    "scrolled": false
   },
   "outputs": [
    {
     "name": "stdout",
     "output_type": "stream",
     "text": [
      "12/12 [==============================] - 0s 873us/step\n"
     ]
    },
    {
     "data": {
      "text/plain": [
       "0.9310908018594557"
      ]
     },
     "execution_count": 14,
     "metadata": {},
     "output_type": "execute_result"
    }
   ],
   "source": [
    "#r2 value for test data\n",
    "y_test_pre=model.predict(X_test)\n",
    "r2_test=r2_score(y_test,y_test_pre)\n",
    "r2_test"
   ]
  },
  {
   "cell_type": "code",
   "execution_count": 15,
   "id": "bf09fa8e",
   "metadata": {},
   "outputs": [
    {
     "name": "stdout",
     "output_type": "stream",
     "text": [
      "67/67 [==============================] - 0s 725us/step\n"
     ]
    },
    {
     "data": {
      "text/plain": [
       "0.0005581745642266356"
      ]
     },
     "execution_count": 15,
     "metadata": {},
     "output_type": "execute_result"
    }
   ],
   "source": [
    "#Mean squared error for training data\n",
    "from sklearn.metrics import mean_squared_error\n",
    "y_pred = model.predict(X_train)\n",
    "mse = mean_squared_error(y_train, y_pred)\n",
    "mse"
   ]
  },
  {
   "cell_type": "code",
   "execution_count": 18,
   "id": "85d98295",
   "metadata": {},
   "outputs": [
    {
     "data": {
      "text/plain": [
       "<matplotlib.collections.PathCollection at 0x26038d4ddc0>"
      ]
     },
     "execution_count": 18,
     "metadata": {},
     "output_type": "execute_result"
    },
    {
     "data": {
      "image/png": "[encoded data removed]",
      "text/plain": [
       "<Figure size 432x288 with 1 Axes>"
      ]
     },
     "metadata": {
      "needs_background": "light"
     },
     "output_type": "display_data"
    }
   ],
   "source": [
    "#Plotting scatter plot graphs for train ansd test data using the matplotlib function\n",
    "from matplotlib import pyplot as p\n",
    "p.scatter(y_train, y_pred)"
   ]
  },
  {
   "cell_type": "code",
   "execution_count": 19,
   "id": "1b75d51a",
   "metadata": {},
   "outputs": [
    {
     "data": {
      "text/plain": [
       "<matplotlib.collections.PathCollection at 0x26037ffeb50>"
      ]
     },
     "execution_count": 19,
     "metadata": {},
     "output_type": "execute_result"
    },
    {
     "data": {
      "image/png": "[encoded data removed]",
      "text/plain": [
       "<Figure size 432x288 with 1 Axes>"
      ]
     },
     "metadata": {
      "needs_background": "light"
     },
     "output_type": "display_data"
    }
   ],
   "source": [
    "p.scatter(y_test,y_test_pre)"
   ]
  },
  {
   "cell_type": "markdown",
   "id": "0b1cf7e1",
   "metadata": {},
   "source": [
    "Variation 2 (epoch = 120)"
   ]
  },
  {
   "cell_type": "code",
   "execution_count": 30,
   "id": "fe70ea09",
   "metadata": {},
   "outputs": [
    {
     "name": "stdout",
     "output_type": "stream",
     "text": [
      "Epoch 1/120\n",
      "57/57 [==============================] - 0s 3ms/step - loss: 3.1689e-04 - val_loss: 0.0017\n",
      "Epoch 2/120\n",
      "57/57 [==============================] - 0s 2ms/step - loss: 3.1892e-04 - val_loss: 0.0021\n",
      "Epoch 3/120\n",
      "57/57 [==============================] - 0s 3ms/step - loss: 3.0592e-04 - val_loss: 0.0011\n",
      "Epoch 4/120\n",
      "57/57 [==============================] - 0s 3ms/step - loss: 3.2923e-04 - val_loss: 0.0011\n",
      "Epoch 5/120\n",
      "57/57 [==============================] - 0s 2ms/step - loss: 3.0790e-04 - val_loss: 0.0017\n",
      "Epoch 6/120\n",
      "57/57 [==============================] - 0s 3ms/step - loss: 2.9128e-04 - val_loss: 0.0014\n",
      "Epoch 7/120\n",
      "57/57 [==============================] - 0s 3ms/step - loss: 3.1802e-04 - val_loss: 0.0012\n",
      "Epoch 8/120\n",
      "57/57 [==============================] - 0s 3ms/step - loss: 2.9666e-04 - val_loss: 0.0014\n",
      "Epoch 9/120\n",
      "57/57 [==============================] - 0s 2ms/step - loss: 3.1544e-04 - val_loss: 0.0016\n",
      "Epoch 10/120\n",
      "57/57 [==============================] - 0s 2ms/step - loss: 3.0112e-04 - val_loss: 0.0019\n",
      "Epoch 11/120\n",
      "57/57 [==============================] - 0s 2ms/step - loss: 3.2910e-04 - val_loss: 0.0012\n",
      "Epoch 12/120\n",
      "57/57 [==============================] - 0s 2ms/step - loss: 2.9652e-04 - val_loss: 0.0015\n",
      "Epoch 13/120\n",
      "57/57 [==============================] - 0s 2ms/step - loss: 3.0368e-04 - val_loss: 0.0011\n",
      "Epoch 14/120\n",
      "57/57 [==============================] - 0s 2ms/step - loss: 3.2392e-04 - val_loss: 0.0012\n",
      "Epoch 15/120\n",
      "57/57 [==============================] - 0s 1ms/step - loss: 3.1446e-04 - val_loss: 0.0014\n",
      "Epoch 16/120\n",
      "57/57 [==============================] - 0s 2ms/step - loss: 2.8752e-04 - val_loss: 0.0016\n",
      "Epoch 17/120\n",
      "57/57 [==============================] - 0s 2ms/step - loss: 2.8101e-04 - val_loss: 0.0013\n",
      "Epoch 18/120\n",
      "57/57 [==============================] - 0s 2ms/step - loss: 3.2207e-04 - val_loss: 0.0017\n",
      "Epoch 19/120\n",
      "57/57 [==============================] - 0s 2ms/step - loss: 3.1988e-04 - val_loss: 0.0014\n",
      "Epoch 20/120\n",
      "57/57 [==============================] - 0s 2ms/step - loss: 2.8200e-04 - val_loss: 0.0011\n",
      "Epoch 21/120\n",
      "57/57 [==============================] - 0s 2ms/step - loss: 3.0650e-04 - val_loss: 0.0010\n",
      "Epoch 22/120\n",
      "57/57 [==============================] - 0s 2ms/step - loss: 2.9165e-04 - val_loss: 0.0011\n",
      "Epoch 23/120\n",
      "57/57 [==============================] - 0s 2ms/step - loss: 3.1779e-04 - val_loss: 0.0012\n",
      "Epoch 24/120\n",
      "57/57 [==============================] - 0s 2ms/step - loss: 2.9370e-04 - val_loss: 0.0012\n",
      "Epoch 25/120\n",
      "57/57 [==============================] - 0s 2ms/step - loss: 2.7902e-04 - val_loss: 0.0012\n",
      "Epoch 26/120\n",
      "57/57 [==============================] - 0s 2ms/step - loss: 2.6647e-04 - val_loss: 0.0015\n",
      "Epoch 27/120\n",
      "57/57 [==============================] - 0s 2ms/step - loss: 2.9449e-04 - val_loss: 0.0011\n",
      "Epoch 28/120\n",
      "57/57 [==============================] - 0s 2ms/step - loss: 2.9233e-04 - val_loss: 0.0010\n",
      "Epoch 29/120\n",
      "57/57 [==============================] - 0s 1ms/step - loss: 2.9346e-04 - val_loss: 0.0012\n",
      "Epoch 30/120\n",
      "57/57 [==============================] - 0s 2ms/step - loss: 3.0457e-04 - val_loss: 0.0010\n",
      "Epoch 31/120\n",
      "57/57 [==============================] - 0s 2ms/step - loss: 2.3923e-04 - val_loss: 0.0012\n",
      "Epoch 32/120\n",
      "57/57 [==============================] - 0s 2ms/step - loss: 2.9995e-04 - val_loss: 0.0012\n",
      "Epoch 33/120\n",
      "57/57 [==============================] - 0s 2ms/step - loss: 3.1133e-04 - val_loss: 0.0012\n",
      "Epoch 34/120\n",
      "57/57 [==============================] - 0s 2ms/step - loss: 2.8357e-04 - val_loss: 0.0014\n",
      "Epoch 35/120\n",
      "57/57 [==============================] - 0s 2ms/step - loss: 2.7938e-04 - val_loss: 0.0014\n",
      "Epoch 36/120\n",
      "57/57 [==============================] - 0s 2ms/step - loss: 2.7962e-04 - val_loss: 0.0011\n",
      "Epoch 37/120\n",
      "57/57 [==============================] - 0s 2ms/step - loss: 2.7906e-04 - val_loss: 0.0011\n",
      "Epoch 38/120\n",
      "57/57 [==============================] - 0s 2ms/step - loss: 2.6346e-04 - val_loss: 0.0011\n",
      "Epoch 39/120\n",
      "57/57 [==============================] - 0s 2ms/step - loss: 2.6738e-04 - val_loss: 0.0017\n",
      "Epoch 40/120\n",
      "57/57 [==============================] - 0s 2ms/step - loss: 2.8206e-04 - val_loss: 0.0011\n",
      "Epoch 41/120\n",
      "57/57 [==============================] - 0s 2ms/step - loss: 2.8577e-04 - val_loss: 0.0013\n",
      "Epoch 42/120\n",
      "57/57 [==============================] - 0s 2ms/step - loss: 2.7413e-04 - val_loss: 0.0011\n",
      "Epoch 43/120\n",
      "57/57 [==============================] - 0s 2ms/step - loss: 2.7530e-04 - val_loss: 0.0011\n",
      "Epoch 44/120\n",
      "57/57 [==============================] - 0s 2ms/step - loss: 2.6836e-04 - val_loss: 0.0016\n",
      "Epoch 45/120\n",
      "57/57 [==============================] - 0s 2ms/step - loss: 2.7974e-04 - val_loss: 0.0013\n",
      "Epoch 46/120\n",
      "57/57 [==============================] - 0s 2ms/step - loss: 2.7246e-04 - val_loss: 0.0010\n",
      "Epoch 47/120\n",
      "57/57 [==============================] - 0s 2ms/step - loss: 2.6877e-04 - val_loss: 0.0011\n",
      "Epoch 48/120\n",
      "57/57 [==============================] - 0s 2ms/step - loss: 2.4748e-04 - val_loss: 0.0015\n",
      "Epoch 49/120\n",
      "57/57 [==============================] - 0s 2ms/step - loss: 2.6131e-04 - val_loss: 0.0012\n",
      "Epoch 50/120\n",
      "57/57 [==============================] - 0s 2ms/step - loss: 3.0310e-04 - val_loss: 0.0011\n",
      "Epoch 51/120\n",
      "57/57 [==============================] - 0s 2ms/step - loss: 2.5548e-04 - val_loss: 0.0012\n",
      "Epoch 52/120\n",
      "57/57 [==============================] - 0s 2ms/step - loss: 2.9622e-04 - val_loss: 0.0017\n",
      "Epoch 53/120\n",
      "57/57 [==============================] - 0s 2ms/step - loss: 2.5801e-04 - val_loss: 0.0015\n",
      "Epoch 54/120\n",
      "57/57 [==============================] - 0s 1ms/step - loss: 2.4216e-04 - val_loss: 0.0011\n",
      "Epoch 55/120\n",
      "57/57 [==============================] - 0s 1ms/step - loss: 2.8817e-04 - val_loss: 0.0011\n",
      "Epoch 56/120\n",
      "57/57 [==============================] - 0s 1ms/step - loss: 2.5216e-04 - val_loss: 0.0012\n",
      "Epoch 57/120\n",
      "57/57 [==============================] - 0s 1ms/step - loss: 2.4302e-04 - val_loss: 0.0014\n",
      "Epoch 58/120\n",
      "57/57 [==============================] - 0s 2ms/step - loss: 2.6173e-04 - val_loss: 0.0012\n",
      "Epoch 59/120\n",
      "57/57 [==============================] - 0s 1ms/step - loss: 2.6393e-04 - val_loss: 0.0011\n",
      "Epoch 60/120\n",
      "57/57 [==============================] - 0s 1ms/step - loss: 2.5683e-04 - val_loss: 0.0014\n",
      "Epoch 61/120\n",
      "57/57 [==============================] - 0s 2ms/step - loss: 2.6429e-04 - val_loss: 0.0011\n",
      "Epoch 62/120\n",
      "57/57 [==============================] - 0s 2ms/step - loss: 2.7019e-04 - val_loss: 0.0014\n",
      "Epoch 63/120\n",
      "57/57 [==============================] - 0s 1ms/step - loss: 2.4488e-04 - val_loss: 0.0013\n",
      "Epoch 64/120\n",
      "57/57 [==============================] - 0s 1ms/step - loss: 2.7375e-04 - val_loss: 0.0011\n",
      "Epoch 65/120\n",
      "57/57 [==============================] - 0s 1ms/step - loss: 2.8276e-04 - val_loss: 0.0011\n",
      "Epoch 66/120\n",
      "57/57 [==============================] - 0s 1ms/step - loss: 2.4068e-04 - val_loss: 0.0011\n",
      "Epoch 67/120\n",
      "57/57 [==============================] - 0s 2ms/step - loss: 2.5081e-04 - val_loss: 0.0017\n",
      "Epoch 68/120\n",
      "57/57 [==============================] - 0s 2ms/step - loss: 2.6986e-04 - val_loss: 0.0013\n",
      "Epoch 69/120\n",
      "57/57 [==============================] - 0s 2ms/step - loss: 2.2937e-04 - val_loss: 0.0014\n",
      "Epoch 70/120\n",
      "57/57 [==============================] - 0s 1ms/step - loss: 2.8277e-04 - val_loss: 0.0013\n",
      "Epoch 71/120\n",
      "57/57 [==============================] - 0s 2ms/step - loss: 2.7016e-04 - val_loss: 0.0011\n",
      "Epoch 72/120\n",
      "57/57 [==============================] - 0s 1ms/step - loss: 2.3093e-04 - val_loss: 0.0014\n",
      "Epoch 73/120\n",
      "57/57 [==============================] - 0s 2ms/step - loss: 2.3327e-04 - val_loss: 0.0012\n",
      "Epoch 74/120\n",
      "57/57 [==============================] - 0s 1ms/step - loss: 2.8271e-04 - val_loss: 0.0011\n",
      "Epoch 75/120\n",
      "57/57 [==============================] - 0s 2ms/step - loss: 2.3635e-04 - val_loss: 0.0014\n",
      "Epoch 76/120\n",
      "57/57 [==============================] - 0s 2ms/step - loss: 2.5598e-04 - val_loss: 0.0014\n",
      "Epoch 77/120\n",
      "57/57 [==============================] - 0s 2ms/step - loss: 2.3434e-04 - val_loss: 0.0015\n",
      "Epoch 78/120\n",
      "57/57 [==============================] - 0s 2ms/step - loss: 2.3112e-04 - val_loss: 0.0017\n",
      "Epoch 79/120\n",
      "57/57 [==============================] - 0s 1ms/step - loss: 2.3063e-04 - val_loss: 0.0018\n"
     ]
    },
    {
     "name": "stdout",
     "output_type": "stream",
     "text": [
      "Epoch 80/120\n",
      "57/57 [==============================] - 0s 2ms/step - loss: 2.6709e-04 - val_loss: 0.0010\n",
      "Epoch 81/120\n",
      "57/57 [==============================] - 0s 1ms/step - loss: 2.3603e-04 - val_loss: 0.0012\n",
      "Epoch 82/120\n",
      "57/57 [==============================] - 0s 2ms/step - loss: 2.4679e-04 - val_loss: 0.0010\n",
      "Epoch 83/120\n",
      "57/57 [==============================] - 0s 2ms/step - loss: 2.4446e-04 - val_loss: 0.0011\n",
      "Epoch 84/120\n",
      "57/57 [==============================] - 0s 2ms/step - loss: 2.5610e-04 - val_loss: 0.0011\n",
      "Epoch 85/120\n",
      "57/57 [==============================] - 0s 1ms/step - loss: 2.4162e-04 - val_loss: 0.0010\n",
      "Epoch 86/120\n",
      "57/57 [==============================] - 0s 1ms/step - loss: 2.2736e-04 - val_loss: 0.0015\n",
      "Epoch 87/120\n",
      "57/57 [==============================] - 0s 1ms/step - loss: 2.4651e-04 - val_loss: 0.0012\n",
      "Epoch 88/120\n",
      "57/57 [==============================] - 0s 1ms/step - loss: 2.3267e-04 - val_loss: 0.0011\n",
      "Epoch 89/120\n",
      "57/57 [==============================] - 0s 1ms/step - loss: 2.2656e-04 - val_loss: 0.0025\n",
      "Epoch 90/120\n",
      "57/57 [==============================] - 0s 1ms/step - loss: 2.3652e-04 - val_loss: 0.0015\n",
      "Epoch 91/120\n",
      "57/57 [==============================] - 0s 2ms/step - loss: 2.4871e-04 - val_loss: 0.0017\n",
      "Epoch 92/120\n",
      "57/57 [==============================] - 0s 1ms/step - loss: 2.4348e-04 - val_loss: 0.0011\n",
      "Epoch 93/120\n",
      "57/57 [==============================] - 0s 1ms/step - loss: 2.3811e-04 - val_loss: 0.0011\n",
      "Epoch 94/120\n",
      "57/57 [==============================] - 0s 2ms/step - loss: 2.3954e-04 - val_loss: 0.0011\n",
      "Epoch 95/120\n",
      "57/57 [==============================] - 0s 1ms/step - loss: 2.3412e-04 - val_loss: 0.0010\n",
      "Epoch 96/120\n",
      "57/57 [==============================] - 0s 2ms/step - loss: 2.4721e-04 - val_loss: 0.0022\n",
      "Epoch 97/120\n",
      "57/57 [==============================] - 0s 1ms/step - loss: 2.3014e-04 - val_loss: 0.0014\n",
      "Epoch 98/120\n",
      "57/57 [==============================] - 0s 2ms/step - loss: 2.4110e-04 - val_loss: 0.0011\n",
      "Epoch 99/120\n",
      "57/57 [==============================] - 0s 1ms/step - loss: 2.5829e-04 - val_loss: 0.0013\n",
      "Epoch 100/120\n",
      "57/57 [==============================] - 0s 2ms/step - loss: 2.1059e-04 - val_loss: 0.0011\n",
      "Epoch 101/120\n",
      "57/57 [==============================] - 0s 1ms/step - loss: 2.3133e-04 - val_loss: 0.0013\n",
      "Epoch 102/120\n",
      "57/57 [==============================] - 0s 2ms/step - loss: 2.3801e-04 - val_loss: 0.0011\n",
      "Epoch 103/120\n",
      "57/57 [==============================] - 0s 2ms/step - loss: 2.2112e-04 - val_loss: 0.0012\n",
      "Epoch 104/120\n",
      "57/57 [==============================] - 0s 1ms/step - loss: 2.4370e-04 - val_loss: 0.0012\n",
      "Epoch 105/120\n",
      "57/57 [==============================] - 0s 2ms/step - loss: 2.3546e-04 - val_loss: 0.0011\n",
      "Epoch 106/120\n",
      "57/57 [==============================] - 0s 1ms/step - loss: 2.4483e-04 - val_loss: 0.0014\n",
      "Epoch 107/120\n",
      "57/57 [==============================] - 0s 1ms/step - loss: 2.0713e-04 - val_loss: 0.0015\n",
      "Epoch 108/120\n",
      "57/57 [==============================] - 0s 1ms/step - loss: 2.1535e-04 - val_loss: 0.0016\n",
      "Epoch 109/120\n",
      "57/57 [==============================] - 0s 1ms/step - loss: 2.1361e-04 - val_loss: 0.0012\n",
      "Epoch 110/120\n",
      "57/57 [==============================] - 0s 2ms/step - loss: 2.3494e-04 - val_loss: 0.0013\n",
      "Epoch 111/120\n",
      "57/57 [==============================] - 0s 1ms/step - loss: 2.0526e-04 - val_loss: 0.0011\n",
      "Epoch 112/120\n",
      "57/57 [==============================] - 0s 2ms/step - loss: 2.3436e-04 - val_loss: 0.0012\n",
      "Epoch 113/120\n",
      "57/57 [==============================] - 0s 1ms/step - loss: 2.1186e-04 - val_loss: 0.0014\n",
      "Epoch 114/120\n",
      "57/57 [==============================] - 0s 1ms/step - loss: 2.4302e-04 - val_loss: 0.0011\n",
      "Epoch 115/120\n",
      "57/57 [==============================] - 0s 1ms/step - loss: 2.2852e-04 - val_loss: 0.0012\n",
      "Epoch 116/120\n",
      "57/57 [==============================] - 0s 2ms/step - loss: 2.1022e-04 - val_loss: 0.0011\n",
      "Epoch 117/120\n",
      "57/57 [==============================] - 0s 2ms/step - loss: 2.1777e-04 - val_loss: 0.0012\n",
      "Epoch 118/120\n",
      "57/57 [==============================] - 0s 1ms/step - loss: 2.0755e-04 - val_loss: 0.0011\n",
      "Epoch 119/120\n",
      "57/57 [==============================] - 0s 2ms/step - loss: 2.3789e-04 - val_loss: 0.0012\n",
      "Epoch 120/120\n",
      "57/57 [==============================] - 0s 2ms/step - loss: 2.4442e-04 - val_loss: 0.0012\n"
     ]
    }
   ],
   "source": [
    "#Validation splits and iterations and variation of epoch value, iteration 2\n",
    "history=model.fit(X_train,y_train,epochs=120,validation_split=0.15)"
   ]
  },
  {
   "cell_type": "code",
   "execution_count": 33,
   "id": "4cffdcd8",
   "metadata": {},
   "outputs": [],
   "source": [
    "from sklearn.metrics import r2_score"
   ]
  },
  {
   "cell_type": "code",
   "execution_count": 34,
   "id": "d08613eb",
   "metadata": {},
   "outputs": [
    {
     "name": "stdout",
     "output_type": "stream",
     "text": [
      "67/67 [==============================] - 0s 1ms/step\n"
     ]
    }
   ],
   "source": [
    "y_train_pre=model.predict(X_train)"
   ]
  },
  {
   "cell_type": "code",
   "execution_count": 35,
   "id": "5bd3b327",
   "metadata": {},
   "outputs": [
    {
     "data": {
      "text/plain": [
       "0.9879405252945831"
      ]
     },
     "execution_count": 35,
     "metadata": {},
     "output_type": "execute_result"
    }
   ],
   "source": [
    "#r2 value for train data\n",
    "r2_train=r2_score(y_train,y_train_pre)\n",
    "r2_train"
   ]
  },
  {
   "cell_type": "code",
   "execution_count": 36,
   "id": "194c4cd5",
   "metadata": {},
   "outputs": [
    {
     "name": "stdout",
     "output_type": "stream",
     "text": [
      "12/12 [==============================] - 0s 2ms/step\n"
     ]
    },
    {
     "data": {
      "text/plain": [
       "0.9275041861009446"
      ]
     },
     "execution_count": 36,
     "metadata": {},
     "output_type": "execute_result"
    }
   ],
   "source": [
    "#r2 value for test data\n",
    "y_test_pre=model.predict(X_test)\n",
    "r2_test=r2_score(y_test,y_test_pre)\n",
    "r2_test"
   ]
  },
  {
   "cell_type": "code",
   "execution_count": 37,
   "id": "5ed5e52e",
   "metadata": {},
   "outputs": [
    {
     "name": "stdout",
     "output_type": "stream",
     "text": [
      "67/67 [==============================] - 0s 982us/step\n"
     ]
    },
    {
     "data": {
      "text/plain": [
       "0.0002997303462526693"
      ]
     },
     "execution_count": 37,
     "metadata": {},
     "output_type": "execute_result"
    }
   ],
   "source": [
    "#Mean squared error for training data\n",
    "from sklearn.metrics import mean_squared_error\n",
    "y_pred = model.predict(X_train)\n",
    "mse = mean_squared_error(y_train, y_pred)\n",
    "mse"
   ]
  },
  {
   "cell_type": "code",
   "execution_count": 38,
   "id": "250aedc2",
   "metadata": {},
   "outputs": [
    {
     "data": {
      "text/plain": [
       "<matplotlib.collections.PathCollection at 0x2603b179100>"
      ]
     },
     "execution_count": 38,
     "metadata": {},
     "output_type": "execute_result"
    },
    {
     "data": {
      "image/png": "[encoded data removed]",
      "text/plain": [
       "<Figure size 432x288 with 1 Axes>"
      ]
     },
     "metadata": {
      "needs_background": "light"
     },
     "output_type": "display_data"
    }
   ],
   "source": [
    "#Plotting scatter plot graphs for train ansd test data using the matplotlib function\n",
    "from matplotlib import pyplot as p\n",
    "p.scatter(y_train, y_pred)"
   ]
  },
  {
   "cell_type": "code",
   "execution_count": 39,
   "id": "e97289fa",
   "metadata": {},
   "outputs": [
    {
     "data": {
      "text/plain": [
       "<matplotlib.collections.PathCollection at 0x2603b1a9160>"
      ]
     },
     "execution_count": 39,
     "metadata": {},
     "output_type": "execute_result"
    },
    {
     "data": {
      "image/png": "[encoded data removed]",
      "text/plain": [
       "<Figure size 432x288 with 1 Axes>"
      ]
     },
     "metadata": {
      "needs_background": "light"
     },
     "output_type": "display_data"
    }
   ],
   "source": [
    "p.scatter(y_test,y_test_pre)"
   ]
  },
  {
   "cell_type": "code",
   "execution_count": null,
   "id": "80a5cc95",
   "metadata": {},
   "outputs": [],
   "source": []
  },
  {
   "cell_type": "code",
   "execution_count": 40,
   "id": "02552227",
   "metadata": {},
   "outputs": [
    {
     "name": "stdout",
     "output_type": "stream",
     "text": [
      "Epoch 1/150\n",
      "57/57 [==============================] - 0s 3ms/step - loss: 1.7666e-04 - val_loss: 0.0011\n",
      "Epoch 2/150\n",
      "57/57 [==============================] - 0s 2ms/step - loss: 1.7004e-04 - val_loss: 0.0011\n",
      "Epoch 3/150\n",
      "57/57 [==============================] - 0s 3ms/step - loss: 1.5172e-04 - val_loss: 0.0011\n",
      "Epoch 4/150\n",
      "57/57 [==============================] - 0s 3ms/step - loss: 1.6902e-04 - val_loss: 9.9701e-04\n",
      "Epoch 5/150\n",
      "57/57 [==============================] - 0s 4ms/step - loss: 1.6916e-04 - val_loss: 9.7435e-04\n",
      "Epoch 6/150\n",
      "57/57 [==============================] - 0s 3ms/step - loss: 1.6529e-04 - val_loss: 0.0011\n",
      "Epoch 7/150\n",
      "57/57 [==============================] - 0s 2ms/step - loss: 1.5637e-04 - val_loss: 0.0011\n",
      "Epoch 8/150\n",
      "57/57 [==============================] - 0s 2ms/step - loss: 1.7541e-04 - val_loss: 0.0015\n",
      "Epoch 9/150\n",
      "57/57 [==============================] - 0s 2ms/step - loss: 1.5996e-04 - val_loss: 0.0011\n",
      "Epoch 10/150\n",
      "57/57 [==============================] - 0s 3ms/step - loss: 1.7215e-04 - val_loss: 0.0011\n",
      "Epoch 11/150\n",
      "57/57 [==============================] - 0s 3ms/step - loss: 1.6323e-04 - val_loss: 0.0013\n",
      "Epoch 12/150\n",
      "57/57 [==============================] - 0s 2ms/step - loss: 1.5584e-04 - val_loss: 0.0012\n",
      "Epoch 13/150\n",
      "57/57 [==============================] - 0s 2ms/step - loss: 1.6065e-04 - val_loss: 0.0012\n",
      "Epoch 14/150\n",
      "57/57 [==============================] - 0s 2ms/step - loss: 1.7613e-04 - val_loss: 0.0011\n",
      "Epoch 15/150\n",
      "57/57 [==============================] - 0s 3ms/step - loss: 1.4393e-04 - val_loss: 0.0014\n",
      "Epoch 16/150\n",
      "57/57 [==============================] - 0s 2ms/step - loss: 1.5291e-04 - val_loss: 0.0016\n",
      "Epoch 17/150\n",
      "57/57 [==============================] - 0s 2ms/step - loss: 1.5993e-04 - val_loss: 0.0013\n",
      "Epoch 18/150\n",
      "57/57 [==============================] - 0s 2ms/step - loss: 1.7782e-04 - val_loss: 0.0011\n",
      "Epoch 19/150\n",
      "57/57 [==============================] - 0s 2ms/step - loss: 1.6154e-04 - val_loss: 0.0011\n",
      "Epoch 20/150\n",
      "57/57 [==============================] - 0s 1ms/step - loss: 1.4294e-04 - val_loss: 0.0012\n",
      "Epoch 21/150\n",
      "57/57 [==============================] - 0s 2ms/step - loss: 1.8065e-04 - val_loss: 0.0011\n",
      "Epoch 22/150\n",
      "57/57 [==============================] - 0s 2ms/step - loss: 1.5839e-04 - val_loss: 0.0011\n",
      "Epoch 23/150\n",
      "57/57 [==============================] - 0s 1ms/step - loss: 1.4480e-04 - val_loss: 0.0013\n",
      "Epoch 24/150\n",
      "57/57 [==============================] - 0s 2ms/step - loss: 1.7562e-04 - val_loss: 0.0012\n",
      "Epoch 25/150\n",
      "57/57 [==============================] - 0s 2ms/step - loss: 1.5379e-04 - val_loss: 0.0011\n",
      "Epoch 26/150\n",
      "57/57 [==============================] - 0s 2ms/step - loss: 1.6925e-04 - val_loss: 0.0011\n",
      "Epoch 27/150\n",
      "57/57 [==============================] - 0s 2ms/step - loss: 1.5093e-04 - val_loss: 0.0011\n",
      "Epoch 28/150\n",
      "57/57 [==============================] - 0s 2ms/step - loss: 1.5352e-04 - val_loss: 0.0012\n",
      "Epoch 29/150\n",
      "57/57 [==============================] - 0s 2ms/step - loss: 1.7272e-04 - val_loss: 0.0013\n",
      "Epoch 30/150\n",
      "57/57 [==============================] - 0s 2ms/step - loss: 1.3916e-04 - val_loss: 0.0016\n",
      "Epoch 31/150\n",
      "57/57 [==============================] - 0s 2ms/step - loss: 1.6582e-04 - val_loss: 0.0013\n",
      "Epoch 32/150\n",
      "57/57 [==============================] - 0s 2ms/step - loss: 1.4461e-04 - val_loss: 0.0013\n",
      "Epoch 33/150\n",
      "57/57 [==============================] - 0s 1ms/step - loss: 1.7895e-04 - val_loss: 0.0014\n",
      "Epoch 34/150\n",
      "57/57 [==============================] - 0s 2ms/step - loss: 1.6847e-04 - val_loss: 0.0013\n",
      "Epoch 35/150\n",
      "57/57 [==============================] - 0s 2ms/step - loss: 1.5078e-04 - val_loss: 0.0011\n",
      "Epoch 36/150\n",
      "57/57 [==============================] - 0s 2ms/step - loss: 1.5030e-04 - val_loss: 0.0011\n",
      "Epoch 37/150\n",
      "57/57 [==============================] - 0s 2ms/step - loss: 1.5315e-04 - val_loss: 0.0010\n",
      "Epoch 38/150\n",
      "57/57 [==============================] - 0s 1ms/step - loss: 1.7184e-04 - val_loss: 0.0010\n",
      "Epoch 39/150\n",
      "57/57 [==============================] - 0s 2ms/step - loss: 1.5816e-04 - val_loss: 0.0012\n",
      "Epoch 40/150\n",
      "57/57 [==============================] - 0s 2ms/step - loss: 1.4614e-04 - val_loss: 0.0012\n",
      "Epoch 41/150\n",
      "57/57 [==============================] - 0s 2ms/step - loss: 1.7279e-04 - val_loss: 0.0011\n",
      "Epoch 42/150\n",
      "57/57 [==============================] - 0s 2ms/step - loss: 1.5663e-04 - val_loss: 0.0012\n",
      "Epoch 43/150\n",
      "57/57 [==============================] - 0s 2ms/step - loss: 1.5104e-04 - val_loss: 0.0011\n",
      "Epoch 44/150\n",
      "57/57 [==============================] - 0s 2ms/step - loss: 1.6009e-04 - val_loss: 0.0016\n",
      "Epoch 45/150\n",
      "57/57 [==============================] - 0s 2ms/step - loss: 1.7033e-04 - val_loss: 0.0010\n",
      "Epoch 46/150\n",
      "57/57 [==============================] - 0s 2ms/step - loss: 1.4419e-04 - val_loss: 0.0012\n",
      "Epoch 47/150\n",
      "57/57 [==============================] - 0s 2ms/step - loss: 1.4950e-04 - val_loss: 0.0010\n",
      "Epoch 48/150\n",
      "57/57 [==============================] - 0s 2ms/step - loss: 1.4743e-04 - val_loss: 0.0011\n",
      "Epoch 49/150\n",
      "57/57 [==============================] - 0s 1ms/step - loss: 1.4909e-04 - val_loss: 0.0011\n",
      "Epoch 50/150\n",
      "57/57 [==============================] - 0s 2ms/step - loss: 1.5139e-04 - val_loss: 0.0015\n",
      "Epoch 51/150\n",
      "57/57 [==============================] - 0s 2ms/step - loss: 1.4917e-04 - val_loss: 0.0012\n",
      "Epoch 52/150\n",
      "57/57 [==============================] - 0s 2ms/step - loss: 1.6287e-04 - val_loss: 0.0013\n",
      "Epoch 53/150\n",
      "57/57 [==============================] - 0s 2ms/step - loss: 1.5741e-04 - val_loss: 0.0011\n",
      "Epoch 54/150\n",
      "57/57 [==============================] - 0s 2ms/step - loss: 1.4603e-04 - val_loss: 0.0011\n",
      "Epoch 55/150\n",
      "57/57 [==============================] - 0s 2ms/step - loss: 1.5710e-04 - val_loss: 0.0011\n",
      "Epoch 56/150\n",
      "57/57 [==============================] - 0s 2ms/step - loss: 1.5479e-04 - val_loss: 0.0014\n",
      "Epoch 57/150\n",
      "57/57 [==============================] - 0s 2ms/step - loss: 1.5371e-04 - val_loss: 9.9167e-04\n",
      "Epoch 58/150\n",
      "57/57 [==============================] - 0s 2ms/step - loss: 1.5532e-04 - val_loss: 0.0013\n",
      "Epoch 59/150\n",
      "57/57 [==============================] - 0s 2ms/step - loss: 1.5760e-04 - val_loss: 0.0011\n",
      "Epoch 60/150\n",
      "57/57 [==============================] - 0s 2ms/step - loss: 1.4757e-04 - val_loss: 0.0012\n",
      "Epoch 61/150\n",
      "57/57 [==============================] - 0s 2ms/step - loss: 1.5309e-04 - val_loss: 0.0011\n",
      "Epoch 62/150\n",
      "57/57 [==============================] - 0s 2ms/step - loss: 1.5255e-04 - val_loss: 0.0010\n",
      "Epoch 63/150\n",
      "57/57 [==============================] - 0s 2ms/step - loss: 1.5218e-04 - val_loss: 0.0012\n",
      "Epoch 64/150\n",
      "57/57 [==============================] - 0s 2ms/step - loss: 1.2714e-04 - val_loss: 0.0012\n",
      "Epoch 65/150\n",
      "57/57 [==============================] - 0s 2ms/step - loss: 1.5633e-04 - val_loss: 0.0011\n",
      "Epoch 66/150\n",
      "57/57 [==============================] - 0s 2ms/step - loss: 1.5794e-04 - val_loss: 0.0011\n",
      "Epoch 67/150\n",
      "57/57 [==============================] - 0s 2ms/step - loss: 1.5618e-04 - val_loss: 0.0016\n",
      "Epoch 68/150\n",
      "57/57 [==============================] - 0s 2ms/step - loss: 1.4728e-04 - val_loss: 0.0011\n",
      "Epoch 69/150\n",
      "57/57 [==============================] - 0s 2ms/step - loss: 1.5404e-04 - val_loss: 0.0011\n",
      "Epoch 70/150\n",
      "57/57 [==============================] - 0s 2ms/step - loss: 1.3701e-04 - val_loss: 0.0012\n",
      "Epoch 71/150\n",
      "57/57 [==============================] - 0s 2ms/step - loss: 1.5711e-04 - val_loss: 0.0013\n",
      "Epoch 72/150\n",
      "57/57 [==============================] - 0s 2ms/step - loss: 1.4360e-04 - val_loss: 0.0011\n",
      "Epoch 73/150\n",
      "57/57 [==============================] - 0s 2ms/step - loss: 1.2898e-04 - val_loss: 0.0017\n",
      "Epoch 74/150\n",
      "57/57 [==============================] - 0s 2ms/step - loss: 1.6496e-04 - val_loss: 0.0012\n",
      "Epoch 75/150\n",
      "57/57 [==============================] - 0s 2ms/step - loss: 1.4713e-04 - val_loss: 0.0013\n",
      "Epoch 76/150\n",
      "57/57 [==============================] - 0s 2ms/step - loss: 1.3806e-04 - val_loss: 0.0013\n",
      "Epoch 77/150\n",
      "57/57 [==============================] - 0s 2ms/step - loss: 1.5473e-04 - val_loss: 0.0011\n",
      "Epoch 78/150\n",
      "57/57 [==============================] - 0s 2ms/step - loss: 1.5093e-04 - val_loss: 0.0011\n",
      "Epoch 79/150\n",
      "57/57 [==============================] - 0s 2ms/step - loss: 1.4488e-04 - val_loss: 0.0011\n",
      "Epoch 80/150\n",
      "57/57 [==============================] - 0s 2ms/step - loss: 1.3768e-04 - val_loss: 0.0011\n",
      "Epoch 81/150\n",
      "57/57 [==============================] - 0s 2ms/step - loss: 1.4459e-04 - val_loss: 0.0011\n",
      "Epoch 82/150\n",
      "57/57 [==============================] - 0s 2ms/step - loss: 1.4354e-04 - val_loss: 0.0012\n",
      "Epoch 83/150\n",
      "57/57 [==============================] - 0s 1ms/step - loss: 1.5021e-04 - val_loss: 0.0012\n",
      "Epoch 84/150\n",
      "57/57 [==============================] - 0s 2ms/step - loss: 1.5693e-04 - val_loss: 0.0011\n",
      "Epoch 85/150\n",
      "57/57 [==============================] - 0s 2ms/step - loss: 1.4374e-04 - val_loss: 0.0012\n",
      "Epoch 86/150\n",
      "57/57 [==============================] - 0s 2ms/step - loss: 1.3445e-04 - val_loss: 0.0011\n",
      "Epoch 87/150\n",
      "57/57 [==============================] - 0s 2ms/step - loss: 1.3364e-04 - val_loss: 0.0015\n",
      "Epoch 88/150\n",
      "57/57 [==============================] - 0s 2ms/step - loss: 1.4928e-04 - val_loss: 0.0014\n",
      "Epoch 89/150\n",
      "57/57 [==============================] - 0s 1ms/step - loss: 1.4384e-04 - val_loss: 0.0010\n",
      "Epoch 90/150\n",
      "57/57 [==============================] - 0s 1ms/step - loss: 1.4985e-04 - val_loss: 0.0011\n",
      "Epoch 91/150\n",
      "57/57 [==============================] - 0s 2ms/step - loss: 1.5293e-04 - val_loss: 0.0011\n",
      "Epoch 92/150\n",
      "57/57 [==============================] - 0s 2ms/step - loss: 1.3967e-04 - val_loss: 0.0012\n",
      "Epoch 93/150\n",
      "57/57 [==============================] - 0s 2ms/step - loss: 1.4519e-04 - val_loss: 0.0013\n",
      "Epoch 94/150\n",
      "57/57 [==============================] - 0s 2ms/step - loss: 1.5357e-04 - val_loss: 0.0011\n",
      "Epoch 95/150\n",
      "57/57 [==============================] - 0s 1ms/step - loss: 1.3597e-04 - val_loss: 0.0011\n",
      "Epoch 96/150\n",
      "57/57 [==============================] - 0s 1ms/step - loss: 1.4774e-04 - val_loss: 0.0013\n",
      "Epoch 97/150\n",
      "57/57 [==============================] - 0s 1ms/step - loss: 1.3246e-04 - val_loss: 0.0010\n",
      "Epoch 98/150\n",
      "57/57 [==============================] - 0s 1ms/step - loss: 1.4690e-04 - val_loss: 0.0011\n",
      "Epoch 99/150\n",
      "57/57 [==============================] - 0s 1ms/step - loss: 1.4360e-04 - val_loss: 0.0012\n",
      "Epoch 100/150\n",
      "57/57 [==============================] - 0s 1ms/step - loss: 1.4759e-04 - val_loss: 0.0013\n",
      "Epoch 101/150\n",
      "57/57 [==============================] - 0s 2ms/step - loss: 1.2669e-04 - val_loss: 0.0012\n",
      "Epoch 102/150\n",
      "57/57 [==============================] - 0s 1ms/step - loss: 1.4754e-04 - val_loss: 0.0011\n",
      "Epoch 103/150\n",
      "57/57 [==============================] - 0s 1ms/step - loss: 1.3857e-04 - val_loss: 0.0011\n",
      "Epoch 104/150\n",
      "57/57 [==============================] - 0s 1ms/step - loss: 1.4551e-04 - val_loss: 0.0011\n",
      "Epoch 105/150\n",
      "57/57 [==============================] - 0s 2ms/step - loss: 1.3411e-04 - val_loss: 0.0011\n",
      "Epoch 106/150\n",
      "57/57 [==============================] - 0s 1ms/step - loss: 1.4329e-04 - val_loss: 0.0012\n",
      "Epoch 107/150\n",
      "57/57 [==============================] - 0s 1ms/step - loss: 1.3392e-04 - val_loss: 0.0010\n",
      "Epoch 108/150\n",
      "57/57 [==============================] - 0s 1ms/step - loss: 1.4496e-04 - val_loss: 0.0014\n",
      "Epoch 109/150\n",
      "57/57 [==============================] - 0s 1ms/step - loss: 1.5134e-04 - val_loss: 0.0010\n",
      "Epoch 110/150\n",
      "57/57 [==============================] - 0s 2ms/step - loss: 1.2317e-04 - val_loss: 0.0013\n",
      "Epoch 111/150\n",
      "57/57 [==============================] - 0s 1ms/step - loss: 1.4994e-04 - val_loss: 0.0010\n",
      "Epoch 112/150\n",
      "57/57 [==============================] - 0s 2ms/step - loss: 1.5548e-04 - val_loss: 0.0011\n",
      "Epoch 113/150\n",
      "57/57 [==============================] - 0s 2ms/step - loss: 1.3173e-04 - val_loss: 0.0010\n",
      "Epoch 114/150\n",
      "57/57 [==============================] - 0s 2ms/step - loss: 1.3407e-04 - val_loss: 0.0013\n",
      "Epoch 115/150\n",
      "57/57 [==============================] - 0s 2ms/step - loss: 1.4128e-04 - val_loss: 0.0012\n",
      "Epoch 116/150\n",
      "57/57 [==============================] - 0s 2ms/step - loss: 1.3453e-04 - val_loss: 0.0011\n",
      "Epoch 117/150\n",
      "57/57 [==============================] - 0s 1ms/step - loss: 1.4202e-04 - val_loss: 0.0012\n",
      "Epoch 118/150\n",
      "57/57 [==============================] - 0s 1ms/step - loss: 1.4106e-04 - val_loss: 0.0011\n",
      "Epoch 119/150\n",
      "57/57 [==============================] - 0s 2ms/step - loss: 1.3653e-04 - val_loss: 0.0013\n",
      "Epoch 120/150\n",
      "57/57 [==============================] - 0s 2ms/step - loss: 1.3654e-04 - val_loss: 0.0012\n",
      "Epoch 121/150\n",
      "57/57 [==============================] - 0s 1ms/step - loss: 1.3967e-04 - val_loss: 0.0011\n",
      "Epoch 122/150\n",
      "57/57 [==============================] - 0s 1ms/step - loss: 1.5464e-04 - val_loss: 0.0012\n",
      "Epoch 123/150\n",
      "57/57 [==============================] - 0s 1ms/step - loss: 1.3448e-04 - val_loss: 0.0010\n",
      "Epoch 124/150\n",
      "57/57 [==============================] - 0s 1ms/step - loss: 1.4156e-04 - val_loss: 0.0011\n",
      "Epoch 125/150\n",
      "57/57 [==============================] - 0s 2ms/step - loss: 1.3701e-04 - val_loss: 0.0012\n",
      "Epoch 126/150\n",
      "57/57 [==============================] - 0s 1ms/step - loss: 1.4077e-04 - val_loss: 0.0012\n",
      "Epoch 127/150\n",
      "57/57 [==============================] - 0s 1ms/step - loss: 1.3009e-04 - val_loss: 0.0011\n",
      "Epoch 128/150\n",
      "57/57 [==============================] - 0s 2ms/step - loss: 1.4576e-04 - val_loss: 0.0013\n",
      "Epoch 129/150\n",
      "57/57 [==============================] - 0s 1ms/step - loss: 1.4416e-04 - val_loss: 0.0011\n",
      "Epoch 130/150\n",
      "57/57 [==============================] - 0s 2ms/step - loss: 1.2894e-04 - val_loss: 0.0013\n",
      "Epoch 131/150\n",
      "57/57 [==============================] - 0s 1ms/step - loss: 1.4183e-04 - val_loss: 0.0010\n",
      "Epoch 132/150\n",
      "57/57 [==============================] - 0s 1ms/step - loss: 1.2670e-04 - val_loss: 0.0011\n",
      "Epoch 133/150\n",
      "57/57 [==============================] - 0s 2ms/step - loss: 1.4222e-04 - val_loss: 0.0011\n",
      "Epoch 134/150\n",
      "57/57 [==============================] - 0s 1ms/step - loss: 1.2718e-04 - val_loss: 0.0011\n",
      "Epoch 135/150\n",
      "57/57 [==============================] - 0s 2ms/step - loss: 1.3237e-04 - val_loss: 0.0012\n",
      "Epoch 136/150\n",
      "57/57 [==============================] - 0s 2ms/step - loss: 1.4033e-04 - val_loss: 0.0012\n",
      "Epoch 137/150\n",
      "57/57 [==============================] - 0s 2ms/step - loss: 1.4334e-04 - val_loss: 0.0011\n",
      "Epoch 138/150\n",
      "57/57 [==============================] - 0s 2ms/step - loss: 1.2496e-04 - val_loss: 0.0012\n",
      "Epoch 139/150\n",
      "57/57 [==============================] - 0s 2ms/step - loss: 1.4367e-04 - val_loss: 0.0010\n",
      "Epoch 140/150\n",
      "57/57 [==============================] - 0s 2ms/step - loss: 1.2803e-04 - val_loss: 0.0011\n",
      "Epoch 141/150\n",
      "57/57 [==============================] - 0s 1ms/step - loss: 1.2901e-04 - val_loss: 0.0011\n",
      "Epoch 142/150\n",
      "57/57 [==============================] - 0s 1ms/step - loss: 1.3500e-04 - val_loss: 0.0011\n",
      "Epoch 143/150\n",
      "57/57 [==============================] - 0s 2ms/step - loss: 1.2505e-04 - val_loss: 0.0011\n",
      "Epoch 144/150\n",
      "57/57 [==============================] - 0s 2ms/step - loss: 1.4501e-04 - val_loss: 0.0012\n",
      "Epoch 145/150\n",
      "57/57 [==============================] - 0s 2ms/step - loss: 1.2200e-04 - val_loss: 0.0011\n",
      "Epoch 146/150\n",
      "57/57 [==============================] - 0s 1ms/step - loss: 1.4173e-04 - val_loss: 0.0011\n",
      "Epoch 147/150\n",
      "57/57 [==============================] - 0s 2ms/step - loss: 1.2637e-04 - val_loss: 0.0011\n",
      "Epoch 148/150\n",
      "57/57 [==============================] - 0s 1ms/step - loss: 1.3599e-04 - val_loss: 0.0012\n",
      "Epoch 149/150\n",
      "57/57 [==============================] - 0s 2ms/step - loss: 1.2861e-04 - val_loss: 0.0013\n",
      "Epoch 150/150\n",
      "57/57 [==============================] - 0s 1ms/step - loss: 1.5011e-04 - val_loss: 0.0010\n"
     ]
    }
   ],
   "source": [
    "#Validation splits and iterations\n",
    "history=model.fit(X_train,y_train,epochs=150,validation_split=0.15)"
   ]
  },
  {
   "cell_type": "code",
   "execution_count": 41,
   "id": "83999bba",
   "metadata": {},
   "outputs": [],
   "source": [
    "from sklearn.metrics import r2_score"
   ]
  },
  {
   "cell_type": "code",
   "execution_count": 42,
   "id": "10161c98",
   "metadata": {},
   "outputs": [
    {
     "name": "stdout",
     "output_type": "stream",
     "text": [
      "67/67 [==============================] - 0s 746us/step\n"
     ]
    }
   ],
   "source": [
    "y_train_pre=model.predict(X_train)"
   ]
  },
  {
   "cell_type": "code",
   "execution_count": 43,
   "id": "31afcd99",
   "metadata": {},
   "outputs": [
    {
     "data": {
      "text/plain": [
       "0.9903288780197244"
      ]
     },
     "execution_count": 43,
     "metadata": {},
     "output_type": "execute_result"
    }
   ],
   "source": [
    "#r2 value for train data\n",
    "r2_train=r2_score(y_train,y_train_pre)\n",
    "r2_train"
   ]
  },
  {
   "cell_type": "code",
   "execution_count": 44,
   "id": "6a494677",
   "metadata": {},
   "outputs": [
    {
     "name": "stdout",
     "output_type": "stream",
     "text": [
      "12/12 [==============================] - 0s 2ms/step\n"
     ]
    },
    {
     "data": {
      "text/plain": [
       "0.9350146097912864"
      ]
     },
     "execution_count": 44,
     "metadata": {},
     "output_type": "execute_result"
    }
   ],
   "source": [
    "#r2 value for test data\n",
    "y_test_pre=model.predict(X_test)\n",
    "r2_test=r2_score(y_test,y_test_pre)\n",
    "r2_test"
   ]
  },
  {
   "cell_type": "code",
   "execution_count": 45,
   "id": "a36fa765",
   "metadata": {},
   "outputs": [
    {
     "name": "stdout",
     "output_type": "stream",
     "text": [
      "67/67 [==============================] - 0s 701us/step\n"
     ]
    },
    {
     "data": {
      "text/plain": [
       "0.0002403694033619681"
      ]
     },
     "execution_count": 45,
     "metadata": {},
     "output_type": "execute_result"
    }
   ],
   "source": [
    "#Mean squared error for training data\n",
    "from sklearn.metrics import mean_squared_error\n",
    "y_pred = model.predict(X_train)\n",
    "mse = mean_squared_error(y_train, y_pred)\n",
    "mse"
   ]
  },
  {
   "cell_type": "code",
   "execution_count": 46,
   "id": "5d67c068",
   "metadata": {},
   "outputs": [
    {
     "data": {
      "text/plain": [
       "<matplotlib.collections.PathCollection at 0x2603c459d30>"
      ]
     },
     "execution_count": 46,
     "metadata": {},
     "output_type": "execute_result"
    },
    {
     "data": {
      "image/png": "[encoded data removed]",
      "text/plain": [
       "<Figure size 432x288 with 1 Axes>"
      ]
     },
     "metadata": {
      "needs_background": "light"
     },
     "output_type": "display_data"
    }
   ],
   "source": [
    "#Plotting scatter plot graphs for train ansd test data using the matplotlib function\n",
    "from matplotlib import pyplot as p\n",
    "p.scatter(y_train, y_pred)"
   ]
  },
  {
   "cell_type": "code",
   "execution_count": 47,
   "id": "b79f6ea5",
   "metadata": {},
   "outputs": [
    {
     "data": {
      "text/plain": [
       "<matplotlib.collections.PathCollection at 0x2603c46a190>"
      ]
     },
     "execution_count": 47,
     "metadata": {},
     "output_type": "execute_result"
    },
    {
     "data": {
      "image/png": "[encoded data removed]",
      "text/plain": [
       "<Figure size 432x288 with 1 Axes>"
      ]
     },
     "metadata": {
      "needs_background": "light"
     },
     "output_type": "display_data"
    }
   ],
   "source": [
    "p.scatter(y_test,y_test_pre)"
   ]
  },
  {
   "cell_type": "code",
   "execution_count": null,
   "id": "5532e7b1",
   "metadata": {},
   "outputs": [],
   "source": []
  },
  {
   "cell_type": "code",
   "execution_count": null,
   "id": "e65885fc",
   "metadata": {},
   "outputs": [],
   "source": []
  },
  {
   "cell_type": "code",
   "execution_count": null,
   "id": "cc735202",
   "metadata": {},
   "outputs": [],
   "source": []
  }
 ],
 "metadata": {
  "kernelspec": {
   "display_name": "Python 3 (ipykernel)",
   "language": "python",
   "name": "python3"
  },
  "language_info": {
   "codemirror_mode": {
    "name": "ipython",
    "version": 3
   },
   "file_extension": ".py",
   "mimetype": "text/x-python",
   "name": "python",
   "nbconvert_exporter": "python",
   "pygments_lexer": "ipython3",
   "version": "3.9.12"
  }
 },
 "nbformat": 4,
 "nbformat_minor": 5
}

{
 "cells": [
  {
   "cell_type": "code",
   "execution_count": 84,
   "id": "81257503",
   "metadata": {},
   "outputs": [
    {
     "data": {
      "text/html": [
       "<div>\n",
       "<style scoped>\n",
       "    .dataframe tbody tr th:only-of-type {\n",
       "        vertical-align: middle;\n",
       "    }\n",
       "\n",
       "    .dataframe tbody tr th {\n",
       "        vertical-align: top;\n",
       "    }\n",
       "\n",
       "    .dataframe thead th {\n",
       "        text-align: right;\n",
       "    }\n",
       "</style>\n",
       "<table border=\"1\" class=\"dataframe\">\n",
       "  <thead>\n",
       "    <tr style=\"text-align: right;\">\n",
       "      <th></th>\n",
       "      <th>Unnamed: 0</th>\n",
       "      <th>0</th>\n",
       "      <th>1</th>\n",
       "      <th>2</th>\n",
       "      <th>3</th>\n",
       "      <th>4</th>\n",
       "      <th>5</th>\n",
       "      <th>6</th>\n",
       "      <th>7</th>\n",
       "      <th>8</th>\n",
       "      <th>9</th>\n",
       "    </tr>\n",
       "  </thead>\n",
       "  <tbody>\n",
       "    <tr>\n",
       "      <th>0</th>\n",
       "      <td>0</td>\n",
       "      <td>0.486881</td>\n",
       "      <td>-0.773397</td>\n",
       "      <td>-0.050534</td>\n",
       "      <td>0.084568</td>\n",
       "      <td>-0.032604</td>\n",
       "      <td>-0.736818</td>\n",
       "      <td>0.295694</td>\n",
       "      <td>0.497740</td>\n",
       "      <td>-0.561831</td>\n",
       "      <td>298.125329</td>\n",
       "    </tr>\n",
       "    <tr>\n",
       "      <th>1</th>\n",
       "      <td>1</td>\n",
       "      <td>0.629629</td>\n",
       "      <td>0.957705</td>\n",
       "      <td>-0.659850</td>\n",
       "      <td>0.121552</td>\n",
       "      <td>0.824153</td>\n",
       "      <td>0.828809</td>\n",
       "      <td>-0.006234</td>\n",
       "      <td>0.237842</td>\n",
       "      <td>0.895073</td>\n",
       "      <td>487.138146</td>\n",
       "    </tr>\n",
       "    <tr>\n",
       "      <th>2</th>\n",
       "      <td>2</td>\n",
       "      <td>-0.712852</td>\n",
       "      <td>0.948625</td>\n",
       "      <td>0.572676</td>\n",
       "      <td>0.660235</td>\n",
       "      <td>-0.214652</td>\n",
       "      <td>0.542341</td>\n",
       "      <td>-0.398283</td>\n",
       "      <td>-0.982550</td>\n",
       "      <td>-0.914472</td>\n",
       "      <td>650.471675</td>\n",
       "    </tr>\n",
       "    <tr>\n",
       "      <th>3</th>\n",
       "      <td>3</td>\n",
       "      <td>-0.432045</td>\n",
       "      <td>0.884390</td>\n",
       "      <td>-0.044217</td>\n",
       "      <td>-0.804677</td>\n",
       "      <td>-0.516557</td>\n",
       "      <td>0.775618</td>\n",
       "      <td>-0.645234</td>\n",
       "      <td>0.445783</td>\n",
       "      <td>0.959935</td>\n",
       "      <td>568.687717</td>\n",
       "    </tr>\n",
       "    <tr>\n",
       "      <th>4</th>\n",
       "      <td>4</td>\n",
       "      <td>0.179924</td>\n",
       "      <td>0.043875</td>\n",
       "      <td>0.216944</td>\n",
       "      <td>-0.876370</td>\n",
       "      <td>-0.753894</td>\n",
       "      <td>0.685081</td>\n",
       "      <td>0.842100</td>\n",
       "      <td>0.230466</td>\n",
       "      <td>-0.526571</td>\n",
       "      <td>402.819802</td>\n",
       "    </tr>\n",
       "    <tr>\n",
       "      <th>...</th>\n",
       "      <td>...</td>\n",
       "      <td>...</td>\n",
       "      <td>...</td>\n",
       "      <td>...</td>\n",
       "      <td>...</td>\n",
       "      <td>...</td>\n",
       "      <td>...</td>\n",
       "      <td>...</td>\n",
       "      <td>...</td>\n",
       "      <td>...</td>\n",
       "      <td>...</td>\n",
       "    </tr>\n",
       "    <tr>\n",
       "      <th>2495</th>\n",
       "      <td>2495</td>\n",
       "      <td>0.467579</td>\n",
       "      <td>-0.860763</td>\n",
       "      <td>0.800176</td>\n",
       "      <td>-0.560314</td>\n",
       "      <td>-0.392197</td>\n",
       "      <td>0.018670</td>\n",
       "      <td>-0.938476</td>\n",
       "      <td>-0.842295</td>\n",
       "      <td>-0.976001</td>\n",
       "      <td>998.068631</td>\n",
       "    </tr>\n",
       "    <tr>\n",
       "      <th>2496</th>\n",
       "      <td>2496</td>\n",
       "      <td>0.833969</td>\n",
       "      <td>-0.392949</td>\n",
       "      <td>0.347030</td>\n",
       "      <td>-0.678596</td>\n",
       "      <td>0.920039</td>\n",
       "      <td>-0.584858</td>\n",
       "      <td>-0.387439</td>\n",
       "      <td>-0.669473</td>\n",
       "      <td>0.843922</td>\n",
       "      <td>560.507127</td>\n",
       "    </tr>\n",
       "    <tr>\n",
       "      <th>2497</th>\n",
       "      <td>2497</td>\n",
       "      <td>0.202129</td>\n",
       "      <td>-0.514602</td>\n",
       "      <td>0.105609</td>\n",
       "      <td>-0.849493</td>\n",
       "      <td>0.763000</td>\n",
       "      <td>0.491210</td>\n",
       "      <td>0.295731</td>\n",
       "      <td>-0.483899</td>\n",
       "      <td>-0.334942</td>\n",
       "      <td>183.950358</td>\n",
       "    </tr>\n",
       "    <tr>\n",
       "      <th>2498</th>\n",
       "      <td>2498</td>\n",
       "      <td>-0.176911</td>\n",
       "      <td>-0.005577</td>\n",
       "      <td>-0.846307</td>\n",
       "      <td>0.465155</td>\n",
       "      <td>0.474745</td>\n",
       "      <td>0.610356</td>\n",
       "      <td>-0.262790</td>\n",
       "      <td>0.604143</td>\n",
       "      <td>-0.765866</td>\n",
       "      <td>304.714127</td>\n",
       "    </tr>\n",
       "    <tr>\n",
       "      <th>2499</th>\n",
       "      <td>2499</td>\n",
       "      <td>0.599377</td>\n",
       "      <td>0.161560</td>\n",
       "      <td>0.153107</td>\n",
       "      <td>-0.607970</td>\n",
       "      <td>0.273184</td>\n",
       "      <td>-0.578427</td>\n",
       "      <td>0.575376</td>\n",
       "      <td>-0.529609</td>\n",
       "      <td>0.688512</td>\n",
       "      <td>195.195446</td>\n",
       "    </tr>\n",
       "  </tbody>\n",
       "</table>\n",
       "<p>2500 rows × 11 columns</p>\n",
       "</div>"
      ],
      "text/plain": [
       "      Unnamed: 0         0         1         2         3         4         5  \\\n",
       "0              0  0.486881 -0.773397 -0.050534  0.084568 -0.032604 -0.736818   \n",
       "1              1  0.629629  0.957705 -0.659850  0.121552  0.824153  0.828809   \n",
       "2              2 -0.712852  0.948625  0.572676  0.660235 -0.214652  0.542341   \n",
       "3              3 -0.432045  0.884390 -0.044217 -0.804677 -0.516557  0.775618   \n",
       "4              4  0.179924  0.043875  0.216944 -0.876370 -0.753894  0.685081   \n",
       "...          ...       ...       ...       ...       ...       ...       ...   \n",
       "2495        2495  0.467579 -0.860763  0.800176 -0.560314 -0.392197  0.018670   \n",
       "2496        2496  0.833969 -0.392949  0.347030 -0.678596  0.920039 -0.584858   \n",
       "2497        2497  0.202129 -0.514602  0.105609 -0.849493  0.763000  0.491210   \n",
       "2498        2498 -0.176911 -0.005577 -0.846307  0.465155  0.474745  0.610356   \n",
       "2499        2499  0.599377  0.161560  0.153107 -0.607970  0.273184 -0.578427   \n",
       "\n",
       "             6         7         8           9  \n",
       "0     0.295694  0.497740 -0.561831  298.125329  \n",
       "1    -0.006234  0.237842  0.895073  487.138146  \n",
       "2    -0.398283 -0.982550 -0.914472  650.471675  \n",
       "3    -0.645234  0.445783  0.959935  568.687717  \n",
       "4     0.842100  0.230466 -0.526571  402.819802  \n",
       "...        ...       ...       ...         ...  \n",
       "2495 -0.938476 -0.842295 -0.976001  998.068631  \n",
       "2496 -0.387439 -0.669473  0.843922  560.507127  \n",
       "2497  0.295731 -0.483899 -0.334942  183.950358  \n",
       "2498 -0.262790  0.604143 -0.765866  304.714127  \n",
       "2499  0.575376 -0.529609  0.688512  195.195446  \n",
       "\n",
       "[2500 rows x 11 columns]"
      ]
     },
     "execution_count": 84,
     "metadata": {},
     "output_type": "execute_result"
    }
   ],
   "source": [
    "#Reading the datasets from the excel file created in the source file.\n",
    "import pandas as pd\n",
    "data1=pd.read_excel('C:\\\\Users\\\\satya\\\\rosenbrock.xlsx')\n",
    "data1"
   ]
  },
  {
   "cell_type": "code",
   "execution_count": 85,
   "id": "b1ba5ca7",
   "metadata": {},
   "outputs": [],
   "source": [
    "#Normalizing the data\n",
    "from sklearn.preprocessing import MinMaxScaler\n",
    "scaler=MinMaxScaler()\n",
    "scaled_data=scaler.fit_transform(data1.values)"
   ]
  },
  {
   "cell_type": "code",
   "execution_count": 86,
   "id": "f7d962c4",
   "metadata": {},
   "outputs": [],
   "source": [
    "X=scaled_data[:,1:10]\n",
    "y=scaled_data[:,10]"
   ]
  },
  {
   "cell_type": "code",
   "execution_count": 87,
   "id": "73c29c6c",
   "metadata": {},
   "outputs": [],
   "source": [
    "#Splitting the data\n",
    "from sklearn.model_selection import train_test_split\n",
    "X_train,X_test,y_train,y_test=train_test_split(X,y,test_size=0.15,random_state=0) #Random state: to obtain the same data every time we run kernel"
   ]
  },
  {
   "cell_type": "code",
   "execution_count": 88,
   "id": "521af270",
   "metadata": {},
   "outputs": [
    {
     "data": {
      "text/plain": [
       "(2125, 9)"
      ]
     },
     "execution_count": 88,
     "metadata": {},
     "output_type": "execute_result"
    }
   ],
   "source": [
    "X_train.shape #to know the size of the data"
   ]
  },
  {
   "cell_type": "code",
   "execution_count": 89,
   "id": "a155e56e",
   "metadata": {},
   "outputs": [],
   "source": [
    "#Creating sequential ANN model\n",
    "from tensorflow.keras import Sequential\n",
    "from tensorflow.keras.layers import Dense"
   ]
  },
  {
   "cell_type": "markdown",
   "id": "dc516aad",
   "metadata": {},
   "source": [
    "Iteration 1( decreasing the no of nodes)"
   ]
  },
  {
   "cell_type": "code",
   "execution_count": 90,
   "id": "df8d67ee",
   "metadata": {},
   "outputs": [],
   "source": [
    " #Creating ANN and decreasing the no. of nodes\n",
    "model=Sequential()\n",
    "model.add(Dense(80,input_dim=9,activation='relu'))\n",
    "model.add(Dense(90,activation='relu'))\n",
    "model.add(Dense(1,activation='linear'))\n",
    "\n"
   ]
  },
  {
   "cell_type": "code",
   "execution_count": 91,
   "id": "746b1383",
   "metadata": {
    "scrolled": true
   },
   "outputs": [
    {
     "name": "stdout",
     "output_type": "stream",
     "text": [
      "Model: \"sequential_5\"\n",
      "_________________________________________________________________\n",
      " Layer (type)                Output Shape              Param #   \n",
      "=================================================================\n",
      " dense_15 (Dense)            (None, 80)                800       \n",
      "                                                                 \n",
      " dense_16 (Dense)            (None, 90)                7290      \n",
      "                                                                 \n",
      " dense_17 (Dense)            (None, 1)                 91        \n",
      "                                                                 \n",
      "=================================================================\n",
      "Total params: 8,181\n",
      "Trainable params: 8,181\n",
      "Non-trainable params: 0\n",
      "_________________________________________________________________\n",
      "None\n"
     ]
    }
   ],
   "source": [
    "print(model.summary())"
   ]
  },
  {
   "cell_type": "code",
   "execution_count": 92,
   "id": "68295a96",
   "metadata": {},
   "outputs": [],
   "source": [
    "#Training the ANN using adam optimiser and MSE loss f.\n",
    "model.compile(optimizer='adam',loss='MSE')"
   ]
  },
  {
   "cell_type": "code",
   "execution_count": 93,
   "id": "b39ec9af",
   "metadata": {},
   "outputs": [
    {
     "name": "stdout",
     "output_type": "stream",
     "text": [
      "Epoch 1/100\n",
      "57/57 [==============================] - 1s 5ms/step - loss: 0.0213 - val_loss: 0.0129\n",
      "Epoch 2/100\n",
      "57/57 [==============================] - 0s 3ms/step - loss: 0.0103 - val_loss: 0.0096\n",
      "Epoch 3/100\n",
      "57/57 [==============================] - 0s 3ms/step - loss: 0.0086 - val_loss: 0.0081\n",
      "Epoch 4/100\n",
      "57/57 [==============================] - 0s 3ms/step - loss: 0.0075 - val_loss: 0.0106\n",
      "Epoch 5/100\n",
      "57/57 [==============================] - 0s 3ms/step - loss: 0.0072 - val_loss: 0.0067\n",
      "Epoch 6/100\n",
      "57/57 [==============================] - 0s 2ms/step - loss: 0.0061 - val_loss: 0.0060\n",
      "Epoch 7/100\n",
      "57/57 [==============================] - 0s 2ms/step - loss: 0.0055 - val_loss: 0.0062\n",
      "Epoch 8/100\n",
      "57/57 [==============================] - 0s 3ms/step - loss: 0.0050 - val_loss: 0.0055\n",
      "Epoch 9/100\n",
      "57/57 [==============================] - 0s 2ms/step - loss: 0.0045 - val_loss: 0.0050\n",
      "Epoch 10/100\n",
      "57/57 [==============================] - 0s 2ms/step - loss: 0.0041 - val_loss: 0.0043\n",
      "Epoch 11/100\n",
      "57/57 [==============================] - 0s 3ms/step - loss: 0.0039 - val_loss: 0.0042\n",
      "Epoch 12/100\n",
      "57/57 [==============================] - 0s 2ms/step - loss: 0.0035 - val_loss: 0.0039\n",
      "Epoch 13/100\n",
      "57/57 [==============================] - 0s 2ms/step - loss: 0.0033 - val_loss: 0.0037\n",
      "Epoch 14/100\n",
      "57/57 [==============================] - 0s 2ms/step - loss: 0.0031 - val_loss: 0.0038\n",
      "Epoch 15/100\n",
      "57/57 [==============================] - 0s 2ms/step - loss: 0.0028 - val_loss: 0.0039\n",
      "Epoch 16/100\n",
      "57/57 [==============================] - 0s 1ms/step - loss: 0.0030 - val_loss: 0.0032\n",
      "Epoch 17/100\n",
      "57/57 [==============================] - 0s 1ms/step - loss: 0.0026 - val_loss: 0.0032\n",
      "Epoch 18/100\n",
      "57/57 [==============================] - 0s 2ms/step - loss: 0.0023 - val_loss: 0.0030\n",
      "Epoch 19/100\n",
      "57/57 [==============================] - 0s 2ms/step - loss: 0.0022 - val_loss: 0.0028\n",
      "Epoch 20/100\n",
      "57/57 [==============================] - 0s 2ms/step - loss: 0.0021 - val_loss: 0.0028\n",
      "Epoch 21/100\n",
      "57/57 [==============================] - 0s 2ms/step - loss: 0.0021 - val_loss: 0.0026\n",
      "Epoch 22/100\n",
      "57/57 [==============================] - 0s 2ms/step - loss: 0.0019 - val_loss: 0.0026\n",
      "Epoch 23/100\n",
      "57/57 [==============================] - 0s 2ms/step - loss: 0.0018 - val_loss: 0.0035\n",
      "Epoch 24/100\n",
      "57/57 [==============================] - 0s 2ms/step - loss: 0.0018 - val_loss: 0.0033\n",
      "Epoch 25/100\n",
      "57/57 [==============================] - 0s 2ms/step - loss: 0.0017 - val_loss: 0.0022\n",
      "Epoch 26/100\n",
      "57/57 [==============================] - 0s 2ms/step - loss: 0.0015 - val_loss: 0.0025\n",
      "Epoch 27/100\n",
      "57/57 [==============================] - 0s 2ms/step - loss: 0.0015 - val_loss: 0.0021\n",
      "Epoch 28/100\n",
      "57/57 [==============================] - 0s 2ms/step - loss: 0.0014 - val_loss: 0.0022\n",
      "Epoch 29/100\n",
      "57/57 [==============================] - 0s 2ms/step - loss: 0.0014 - val_loss: 0.0022\n",
      "Epoch 30/100\n",
      "57/57 [==============================] - 0s 2ms/step - loss: 0.0013 - val_loss: 0.0020\n",
      "Epoch 31/100\n",
      "57/57 [==============================] - 0s 2ms/step - loss: 0.0012 - val_loss: 0.0022\n",
      "Epoch 32/100\n",
      "57/57 [==============================] - 0s 2ms/step - loss: 0.0013 - val_loss: 0.0020\n",
      "Epoch 33/100\n",
      "57/57 [==============================] - 0s 2ms/step - loss: 0.0012 - val_loss: 0.0019\n",
      "Epoch 34/100\n",
      "57/57 [==============================] - 0s 2ms/step - loss: 0.0011 - val_loss: 0.0020\n",
      "Epoch 35/100\n",
      "57/57 [==============================] - 0s 2ms/step - loss: 0.0011 - val_loss: 0.0018\n",
      "Epoch 36/100\n",
      "57/57 [==============================] - 0s 2ms/step - loss: 0.0012 - val_loss: 0.0020\n",
      "Epoch 37/100\n",
      "57/57 [==============================] - 0s 2ms/step - loss: 0.0011 - val_loss: 0.0018\n",
      "Epoch 38/100\n",
      "57/57 [==============================] - 0s 2ms/step - loss: 0.0011 - val_loss: 0.0021\n",
      "Epoch 39/100\n",
      "57/57 [==============================] - 0s 1ms/step - loss: 0.0013 - val_loss: 0.0023\n",
      "Epoch 40/100\n",
      "57/57 [==============================] - 0s 2ms/step - loss: 0.0011 - val_loss: 0.0021\n",
      "Epoch 41/100\n",
      "57/57 [==============================] - 0s 2ms/step - loss: 9.3693e-04 - val_loss: 0.0026\n",
      "Epoch 42/100\n",
      "57/57 [==============================] - 0s 2ms/step - loss: 9.2289e-04 - val_loss: 0.0016\n",
      "Epoch 43/100\n",
      "57/57 [==============================] - 0s 2ms/step - loss: 8.3359e-04 - val_loss: 0.0016\n",
      "Epoch 44/100\n",
      "57/57 [==============================] - 0s 2ms/step - loss: 8.2618e-04 - val_loss: 0.0016\n",
      "Epoch 45/100\n",
      "57/57 [==============================] - 0s 2ms/step - loss: 8.3422e-04 - val_loss: 0.0021\n",
      "Epoch 46/100\n",
      "57/57 [==============================] - 0s 2ms/step - loss: 8.5526e-04 - val_loss: 0.0017\n",
      "Epoch 47/100\n",
      "57/57 [==============================] - 0s 2ms/step - loss: 7.8271e-04 - val_loss: 0.0019\n",
      "Epoch 48/100\n",
      "57/57 [==============================] - 0s 2ms/step - loss: 9.1333e-04 - val_loss: 0.0018\n",
      "Epoch 49/100\n",
      "57/57 [==============================] - 0s 2ms/step - loss: 7.3518e-04 - val_loss: 0.0016\n",
      "Epoch 50/100\n",
      "57/57 [==============================] - 0s 2ms/step - loss: 6.8452e-04 - val_loss: 0.0019\n",
      "Epoch 51/100\n",
      "57/57 [==============================] - 0s 2ms/step - loss: 7.8220e-04 - val_loss: 0.0016\n",
      "Epoch 52/100\n",
      "57/57 [==============================] - 0s 2ms/step - loss: 7.7207e-04 - val_loss: 0.0016\n",
      "Epoch 53/100\n",
      "57/57 [==============================] - 0s 2ms/step - loss: 6.8807e-04 - val_loss: 0.0015\n",
      "Epoch 54/100\n",
      "57/57 [==============================] - 0s 2ms/step - loss: 7.0817e-04 - val_loss: 0.0016\n",
      "Epoch 55/100\n",
      "57/57 [==============================] - 0s 2ms/step - loss: 6.5074e-04 - val_loss: 0.0016\n",
      "Epoch 56/100\n",
      "57/57 [==============================] - 0s 2ms/step - loss: 6.3257e-04 - val_loss: 0.0015\n",
      "Epoch 57/100\n",
      "57/57 [==============================] - 0s 2ms/step - loss: 6.0262e-04 - val_loss: 0.0018\n",
      "Epoch 58/100\n",
      "57/57 [==============================] - 0s 2ms/step - loss: 6.0830e-04 - val_loss: 0.0015\n",
      "Epoch 59/100\n",
      "57/57 [==============================] - 0s 2ms/step - loss: 5.8735e-04 - val_loss: 0.0016\n",
      "Epoch 60/100\n",
      "57/57 [==============================] - 0s 2ms/step - loss: 5.9527e-04 - val_loss: 0.0015\n",
      "Epoch 61/100\n",
      "57/57 [==============================] - 0s 2ms/step - loss: 5.6506e-04 - val_loss: 0.0016\n",
      "Epoch 62/100\n",
      "57/57 [==============================] - 0s 2ms/step - loss: 5.4822e-04 - val_loss: 0.0015\n",
      "Epoch 63/100\n",
      "57/57 [==============================] - 0s 2ms/step - loss: 6.0793e-04 - val_loss: 0.0015\n",
      "Epoch 64/100\n",
      "57/57 [==============================] - 0s 1ms/step - loss: 6.8526e-04 - val_loss: 0.0017\n",
      "Epoch 65/100\n",
      "57/57 [==============================] - 0s 1ms/step - loss: 7.0702e-04 - val_loss: 0.0016\n",
      "Epoch 66/100\n",
      "57/57 [==============================] - 0s 2ms/step - loss: 6.3657e-04 - val_loss: 0.0014\n",
      "Epoch 67/100\n",
      "57/57 [==============================] - 0s 2ms/step - loss: 5.8751e-04 - val_loss: 0.0015\n",
      "Epoch 68/100\n",
      "57/57 [==============================] - 0s 2ms/step - loss: 5.3867e-04 - val_loss: 0.0014\n",
      "Epoch 69/100\n",
      "57/57 [==============================] - 0s 2ms/step - loss: 4.6890e-04 - val_loss: 0.0014\n",
      "Epoch 70/100\n",
      "57/57 [==============================] - 0s 2ms/step - loss: 4.8378e-04 - val_loss: 0.0015\n",
      "Epoch 71/100\n",
      "57/57 [==============================] - 0s 2ms/step - loss: 5.1526e-04 - val_loss: 0.0014\n",
      "Epoch 72/100\n",
      "57/57 [==============================] - 0s 2ms/step - loss: 4.8132e-04 - val_loss: 0.0014\n",
      "Epoch 73/100\n",
      "57/57 [==============================] - 0s 2ms/step - loss: 4.5454e-04 - val_loss: 0.0014\n",
      "Epoch 74/100\n",
      "57/57 [==============================] - 0s 2ms/step - loss: 4.9070e-04 - val_loss: 0.0014\n",
      "Epoch 75/100\n",
      "57/57 [==============================] - 0s 2ms/step - loss: 5.5068e-04 - val_loss: 0.0018\n",
      "Epoch 76/100\n",
      "57/57 [==============================] - 0s 2ms/step - loss: 4.8524e-04 - val_loss: 0.0015\n",
      "Epoch 77/100\n",
      "57/57 [==============================] - 0s 2ms/step - loss: 4.4440e-04 - val_loss: 0.0014\n",
      "Epoch 78/100\n",
      "57/57 [==============================] - 0s 2ms/step - loss: 4.4931e-04 - val_loss: 0.0015\n",
      "Epoch 79/100\n",
      "57/57 [==============================] - 0s 2ms/step - loss: 4.3800e-04 - val_loss: 0.0014\n",
      "Epoch 80/100\n",
      "57/57 [==============================] - 0s 2ms/step - loss: 4.1548e-04 - val_loss: 0.0014\n",
      "Epoch 81/100\n"
     ]
    },
    {
     "name": "stdout",
     "output_type": "stream",
     "text": [
      "57/57 [==============================] - 0s 2ms/step - loss: 4.0747e-04 - val_loss: 0.0014\n",
      "Epoch 82/100\n",
      "57/57 [==============================] - 0s 2ms/step - loss: 4.3826e-04 - val_loss: 0.0014\n",
      "Epoch 83/100\n",
      "57/57 [==============================] - 0s 2ms/step - loss: 3.8190e-04 - val_loss: 0.0014\n",
      "Epoch 84/100\n",
      "57/57 [==============================] - 0s 2ms/step - loss: 4.0023e-04 - val_loss: 0.0013\n",
      "Epoch 85/100\n",
      "57/57 [==============================] - 0s 2ms/step - loss: 4.0406e-04 - val_loss: 0.0013\n",
      "Epoch 86/100\n",
      "57/57 [==============================] - 0s 2ms/step - loss: 3.8660e-04 - val_loss: 0.0012\n",
      "Epoch 87/100\n",
      "57/57 [==============================] - 0s 2ms/step - loss: 3.6530e-04 - val_loss: 0.0013\n",
      "Epoch 88/100\n",
      "57/57 [==============================] - 0s 1ms/step - loss: 4.1226e-04 - val_loss: 0.0013\n",
      "Epoch 89/100\n",
      "57/57 [==============================] - 0s 1ms/step - loss: 4.0192e-04 - val_loss: 0.0015\n",
      "Epoch 90/100\n",
      "57/57 [==============================] - 0s 2ms/step - loss: 4.5975e-04 - val_loss: 0.0017\n",
      "Epoch 91/100\n",
      "57/57 [==============================] - 0s 2ms/step - loss: 4.2153e-04 - val_loss: 0.0014\n",
      "Epoch 92/100\n",
      "57/57 [==============================] - 0s 2ms/step - loss: 4.1699e-04 - val_loss: 0.0015\n",
      "Epoch 93/100\n",
      "57/57 [==============================] - 0s 2ms/step - loss: 4.1457e-04 - val_loss: 0.0017\n",
      "Epoch 94/100\n",
      "57/57 [==============================] - 0s 1ms/step - loss: 4.1042e-04 - val_loss: 0.0014\n",
      "Epoch 95/100\n",
      "57/57 [==============================] - 0s 2ms/step - loss: 3.6849e-04 - val_loss: 0.0013\n",
      "Epoch 96/100\n",
      "57/57 [==============================] - 0s 1ms/step - loss: 3.7680e-04 - val_loss: 0.0014\n",
      "Epoch 97/100\n",
      "57/57 [==============================] - 0s 2ms/step - loss: 3.5226e-04 - val_loss: 0.0013\n",
      "Epoch 98/100\n",
      "57/57 [==============================] - 0s 2ms/step - loss: 4.0989e-04 - val_loss: 0.0014\n",
      "Epoch 99/100\n",
      "57/57 [==============================] - 0s 2ms/step - loss: 3.8523e-04 - val_loss: 0.0017\n",
      "Epoch 100/100\n",
      "57/57 [==============================] - 0s 1ms/step - loss: 3.5421e-04 - val_loss: 0.0012\n"
     ]
    }
   ],
   "source": [
    "history=model.fit(X_train,y_train,epochs=100,validation_split=0.15)"
   ]
  },
  {
   "cell_type": "code",
   "execution_count": 101,
   "id": "a0ff0327",
   "metadata": {},
   "outputs": [],
   "source": [
    "from sklearn.metrics import r2_score"
   ]
  },
  {
   "cell_type": "code",
   "execution_count": 102,
   "id": "1df4e718",
   "metadata": {},
   "outputs": [
    {
     "name": "stdout",
     "output_type": "stream",
     "text": [
      "67/67 [==============================] - 0s 1ms/step\n"
     ]
    }
   ],
   "source": [
    "y_train_pre=model.predict(X_train)"
   ]
  },
  {
   "cell_type": "code",
   "execution_count": 103,
   "id": "f0a0a021",
   "metadata": {},
   "outputs": [
    {
     "data": {
      "text/plain": [
       "0.9830963429684411"
      ]
     },
     "execution_count": 103,
     "metadata": {},
     "output_type": "execute_result"
    }
   ],
   "source": [
    "#r2 value for train data\n",
    "r2_train=r2_score(y_train,y_train_pre)\n",
    "r2_train"
   ]
  },
  {
   "cell_type": "code",
   "execution_count": 104,
   "id": "65a42485",
   "metadata": {
    "scrolled": false
   },
   "outputs": [
    {
     "name": "stdout",
     "output_type": "stream",
     "text": [
      "12/12 [==============================] - 0s 2ms/step\n"
     ]
    },
    {
     "data": {
      "text/plain": [
       "0.9357158009446744"
      ]
     },
     "execution_count": 104,
     "metadata": {},
     "output_type": "execute_result"
    }
   ],
   "source": [
    "#r2 value for test data\n",
    "y_test_pre=model.predict(X_test)\n",
    "r2_test=r2_score(y_test,y_test_pre)\n",
    "r2_test"
   ]
  },
  {
   "cell_type": "code",
   "execution_count": 105,
   "id": "bf09fa8e",
   "metadata": {},
   "outputs": [
    {
     "name": "stdout",
     "output_type": "stream",
     "text": [
      "67/67 [==============================] - 0s 1ms/step\n"
     ]
    },
    {
     "data": {
      "text/plain": [
       "0.0004201293255940671"
      ]
     },
     "execution_count": 105,
     "metadata": {},
     "output_type": "execute_result"
    }
   ],
   "source": [
    "#Mean squared error for training data\n",
    "from sklearn.metrics import mean_squared_error\n",
    "y_pred = model.predict(X_train)\n",
    "mse = mean_squared_error(y_train, y_pred)\n",
    "mse"
   ]
  },
  {
   "cell_type": "code",
   "execution_count": 106,
   "id": "5d0fae3b",
   "metadata": {},
   "outputs": [
    {
     "data": {
      "text/plain": [
       "<matplotlib.collections.PathCollection at 0x2be3ea8be50>"
      ]
     },
     "execution_count": 106,
     "metadata": {},
     "output_type": "execute_result"
    },
    {
     "data": {
      "image/png": "[encoded data removed]",
      "text/plain": [
       "<Figure size 432x288 with 1 Axes>"
      ]
     },
     "metadata": {
      "needs_background": "light"
     },
     "output_type": "display_data"
    }
   ],
   "source": [
    "from matplotlib import pyplot as p\n",
    "p.scatter(y_train, y_pred)"
   ]
  },
  {
   "cell_type": "code",
   "execution_count": 107,
   "id": "d57d6d82",
   "metadata": {},
   "outputs": [
    {
     "data": {
      "text/plain": [
       "<matplotlib.collections.PathCollection at 0x2be3e7762e0>"
      ]
     },
     "execution_count": 107,
     "metadata": {},
     "output_type": "execute_result"
    },
    {
     "data": {
      "image/png": "[encoded data removed]",
      "text/plain": [
       "<Figure size 432x288 with 1 Axes>"
      ]
     },
     "metadata": {
      "needs_background": "light"
     },
     "output_type": "display_data"
    }
   ],
   "source": [
    "p.scatter(y_test,y_test_pre)"
   ]
  },
  {
   "cell_type": "markdown",
   "id": "2eaa1989",
   "metadata": {},
   "source": [
    "Training same network using RMSProp optimizer"
   ]
  },
  {
   "cell_type": "code",
   "execution_count": 108,
   "id": "546774ea",
   "metadata": {
    "scrolled": true
   },
   "outputs": [
    {
     "name": "stdout",
     "output_type": "stream",
     "text": [
      "Requirement already satisfied: matplotlib in d:\\newfolder\\lib\\site-packages (3.5.1)\n",
      "Requirement already satisfied: numpy>=1.17 in d:\\newfolder\\lib\\site-packages (from matplotlib) (1.21.5)\n",
      "Requirement already satisfied: python-dateutil>=2.7 in d:\\newfolder\\lib\\site-packages (from matplotlib) (2.8.2)\n",
      "Requirement already satisfied: pillow>=6.2.0 in d:\\newfolder\\lib\\site-packages (from matplotlib) (9.0.1)\n",
      "Requirement already satisfied: fonttools>=4.22.0 in d:\\newfolder\\lib\\site-packages (from matplotlib) (4.25.0)\n",
      "Requirement already satisfied: pyparsing>=2.2.1 in d:\\newfolder\\lib\\site-packages (from matplotlib) (3.0.4)\n",
      "Requirement already satisfied: packaging>=20.0 in d:\\newfolder\\lib\\site-packages (from matplotlib) (21.3)\n",
      "Requirement already satisfied: kiwisolver>=1.0.1 in d:\\newfolder\\lib\\site-packages (from matplotlib) (1.3.2)\n",
      "Requirement already satisfied: cycler>=0.10 in d:\\newfolder\\lib\\site-packages (from matplotlib) (0.11.0)\n",
      "Requirement already satisfied: six>=1.5 in d:\\newfolder\\lib\\site-packages (from python-dateutil>=2.7->matplotlib) (1.16.0)\n"
     ]
    }
   ],
   "source": [
    "!pip install matplotlib"
   ]
  },
  {
   "cell_type": "markdown",
   "id": "ebd9f2fd",
   "metadata": {},
   "source": [
    "ITERATION 2 (increasing the no of nodes)"
   ]
  },
  {
   "cell_type": "code",
   "execution_count": 109,
   "id": "9651dc71",
   "metadata": {},
   "outputs": [],
   "source": [
    "#Creating ANN with increased no of nodes\n",
    "model=Sequential()\n",
    "model.add(Dense(120,input_dim=9,activation='relu'))\n",
    "model.add(Dense(130,activation='relu'))\n",
    "model.add(Dense(1,activation='linear'))"
   ]
  },
  {
   "cell_type": "code",
   "execution_count": 62,
   "id": "4d6627a5",
   "metadata": {},
   "outputs": [
    {
     "name": "stdout",
     "output_type": "stream",
     "text": [
      "Model: \"sequential_3\"\n",
      "_________________________________________________________________\n",
      " Layer (type)                Output Shape              Param #   \n",
      "=================================================================\n",
      " dense_9 (Dense)             (None, 120)               1200      \n",
      "                                                                 \n",
      " dense_10 (Dense)            (None, 130)               15730     \n",
      "                                                                 \n",
      " dense_11 (Dense)            (None, 1)                 131       \n",
      "                                                                 \n",
      "=================================================================\n",
      "Total params: 17,061\n",
      "Trainable params: 17,061\n",
      "Non-trainable params: 0\n",
      "_________________________________________________________________\n",
      "None\n"
     ]
    }
   ],
   "source": [
    "print(model.summary())\n"
   ]
  },
  {
   "cell_type": "code",
   "execution_count": 63,
   "id": "dff732e7",
   "metadata": {},
   "outputs": [],
   "source": [
    "#Training the ANN using adam optimiser and MSE loss f.\n",
    "model.compile(optimizer='adam',loss='MSE')"
   ]
  },
  {
   "cell_type": "code",
   "execution_count": 64,
   "id": "26bdc540",
   "metadata": {},
   "outputs": [
    {
     "name": "stdout",
     "output_type": "stream",
     "text": [
      "Epoch 1/100\n",
      "57/57 [==============================] - 1s 4ms/step - loss: 0.0096 - val_loss: 0.0039\n",
      "Epoch 2/100\n",
      "57/57 [==============================] - 0s 2ms/step - loss: 0.0052 - val_loss: 0.0038\n",
      "Epoch 3/100\n",
      "57/57 [==============================] - 0s 2ms/step - loss: 0.0046 - val_loss: 0.0032\n",
      "Epoch 4/100\n",
      "57/57 [==============================] - 0s 3ms/step - loss: 0.0039 - val_loss: 0.0040\n",
      "Epoch 5/100\n",
      "57/57 [==============================] - 0s 3ms/step - loss: 0.0037 - val_loss: 0.0034\n",
      "Epoch 6/100\n",
      "57/57 [==============================] - 0s 2ms/step - loss: 0.0031 - val_loss: 0.0026\n",
      "Epoch 7/100\n",
      "57/57 [==============================] - 0s 2ms/step - loss: 0.0026 - val_loss: 0.0024\n",
      "Epoch 8/100\n",
      "57/57 [==============================] - 0s 2ms/step - loss: 0.0023 - val_loss: 0.0021\n",
      "Epoch 9/100\n",
      "57/57 [==============================] - 0s 3ms/step - loss: 0.0023 - val_loss: 0.0022\n",
      "Epoch 10/100\n",
      "57/57 [==============================] - 0s 3ms/step - loss: 0.0017 - val_loss: 0.0021\n",
      "Epoch 11/100\n",
      "57/57 [==============================] - 0s 4ms/step - loss: 0.0017 - val_loss: 0.0019\n",
      "Epoch 12/100\n",
      "57/57 [==============================] - 0s 3ms/step - loss: 0.0013 - val_loss: 0.0018\n",
      "Epoch 13/100\n",
      "57/57 [==============================] - 0s 4ms/step - loss: 0.0012 - val_loss: 0.0017\n",
      "Epoch 14/100\n",
      "57/57 [==============================] - 0s 2ms/step - loss: 0.0012 - val_loss: 0.0019\n",
      "Epoch 15/100\n",
      "57/57 [==============================] - 0s 2ms/step - loss: 0.0011 - val_loss: 0.0017\n",
      "Epoch 16/100\n",
      "57/57 [==============================] - 0s 2ms/step - loss: 9.8285e-04 - val_loss: 0.0014\n",
      "Epoch 17/100\n",
      "57/57 [==============================] - 0s 2ms/step - loss: 9.3227e-04 - val_loss: 0.0018\n",
      "Epoch 18/100\n",
      "57/57 [==============================] - 0s 2ms/step - loss: 8.0665e-04 - val_loss: 0.0019\n",
      "Epoch 19/100\n",
      "57/57 [==============================] - 0s 2ms/step - loss: 8.6360e-04 - val_loss: 0.0013\n",
      "Epoch 20/100\n",
      "57/57 [==============================] - 0s 2ms/step - loss: 7.1412e-04 - val_loss: 0.0012\n",
      "Epoch 21/100\n",
      "57/57 [==============================] - 0s 2ms/step - loss: 6.5670e-04 - val_loss: 0.0016\n",
      "Epoch 22/100\n",
      "57/57 [==============================] - 0s 2ms/step - loss: 6.5055e-04 - val_loss: 0.0014\n",
      "Epoch 23/100\n",
      "57/57 [==============================] - 0s 2ms/step - loss: 6.3651e-04 - val_loss: 0.0011\n",
      "Epoch 24/100\n",
      "57/57 [==============================] - 0s 2ms/step - loss: 5.8984e-04 - val_loss: 0.0012\n",
      "Epoch 25/100\n",
      "57/57 [==============================] - 0s 2ms/step - loss: 6.9880e-04 - val_loss: 0.0017\n",
      "Epoch 26/100\n",
      "57/57 [==============================] - 0s 2ms/step - loss: 6.2347e-04 - val_loss: 0.0011\n",
      "Epoch 27/100\n",
      "57/57 [==============================] - 0s 2ms/step - loss: 5.0853e-04 - val_loss: 9.8995e-04\n",
      "Epoch 28/100\n",
      "57/57 [==============================] - 0s 2ms/step - loss: 4.9508e-04 - val_loss: 0.0010\n",
      "Epoch 29/100\n",
      "57/57 [==============================] - 0s 2ms/step - loss: 4.6145e-04 - val_loss: 0.0010\n",
      "Epoch 30/100\n",
      "57/57 [==============================] - 0s 2ms/step - loss: 4.5892e-04 - val_loss: 0.0010\n",
      "Epoch 31/100\n",
      "57/57 [==============================] - 0s 2ms/step - loss: 4.2400e-04 - val_loss: 0.0010\n",
      "Epoch 32/100\n",
      "57/57 [==============================] - 0s 2ms/step - loss: 4.0364e-04 - val_loss: 9.2248e-04\n",
      "Epoch 33/100\n",
      "57/57 [==============================] - 0s 2ms/step - loss: 4.7844e-04 - val_loss: 0.0011\n",
      "Epoch 34/100\n",
      "57/57 [==============================] - 0s 2ms/step - loss: 4.5899e-04 - val_loss: 0.0014\n",
      "Epoch 35/100\n",
      "57/57 [==============================] - 0s 2ms/step - loss: 5.6940e-04 - val_loss: 0.0011\n",
      "Epoch 36/100\n",
      "57/57 [==============================] - 0s 2ms/step - loss: 4.2837e-04 - val_loss: 9.2808e-04\n",
      "Epoch 37/100\n",
      "57/57 [==============================] - 0s 2ms/step - loss: 3.5231e-04 - val_loss: 9.2630e-04\n",
      "Epoch 38/100\n",
      "57/57 [==============================] - 0s 2ms/step - loss: 3.3784e-04 - val_loss: 9.0368e-04\n",
      "Epoch 39/100\n",
      "57/57 [==============================] - 0s 2ms/step - loss: 3.5678e-04 - val_loss: 9.0682e-04\n",
      "Epoch 40/100\n",
      "57/57 [==============================] - 0s 2ms/step - loss: 3.2375e-04 - val_loss: 9.5089e-04\n",
      "Epoch 41/100\n",
      "57/57 [==============================] - 0s 2ms/step - loss: 3.5971e-04 - val_loss: 8.7030e-04\n",
      "Epoch 42/100\n",
      "57/57 [==============================] - 0s 2ms/step - loss: 3.3669e-04 - val_loss: 8.8603e-04\n",
      "Epoch 43/100\n",
      "57/57 [==============================] - 0s 2ms/step - loss: 3.6609e-04 - val_loss: 8.7157e-04\n",
      "Epoch 44/100\n",
      "57/57 [==============================] - 0s 2ms/step - loss: 3.3655e-04 - val_loss: 8.4942e-04\n",
      "Epoch 45/100\n",
      "57/57 [==============================] - 0s 2ms/step - loss: 2.8135e-04 - val_loss: 8.1430e-04\n",
      "Epoch 46/100\n",
      "57/57 [==============================] - 0s 2ms/step - loss: 3.5407e-04 - val_loss: 9.1096e-04\n",
      "Epoch 47/100\n",
      "57/57 [==============================] - 0s 2ms/step - loss: 3.2692e-04 - val_loss: 8.4599e-04\n",
      "Epoch 48/100\n",
      "57/57 [==============================] - 0s 2ms/step - loss: 2.7082e-04 - val_loss: 8.5685e-04\n",
      "Epoch 49/100\n",
      "57/57 [==============================] - 0s 1ms/step - loss: 2.5297e-04 - val_loss: 8.0059e-04\n",
      "Epoch 50/100\n",
      "57/57 [==============================] - 0s 2ms/step - loss: 2.7410e-04 - val_loss: 0.0011\n",
      "Epoch 51/100\n",
      "57/57 [==============================] - 0s 2ms/step - loss: 2.8553e-04 - val_loss: 7.6709e-04\n",
      "Epoch 52/100\n",
      "57/57 [==============================] - 0s 2ms/step - loss: 2.9781e-04 - val_loss: 7.5064e-04\n",
      "Epoch 53/100\n",
      "57/57 [==============================] - 0s 2ms/step - loss: 2.9905e-04 - val_loss: 9.1428e-04\n",
      "Epoch 54/100\n",
      "57/57 [==============================] - 0s 2ms/step - loss: 3.3985e-04 - val_loss: 7.9918e-04\n",
      "Epoch 55/100\n",
      "57/57 [==============================] - 0s 1ms/step - loss: 3.4187e-04 - val_loss: 9.0662e-04\n",
      "Epoch 56/100\n",
      "57/57 [==============================] - 0s 2ms/step - loss: 2.5400e-04 - val_loss: 7.7466e-04\n",
      "Epoch 57/100\n",
      "57/57 [==============================] - 0s 2ms/step - loss: 2.2121e-04 - val_loss: 7.8610e-04\n",
      "Epoch 58/100\n",
      "57/57 [==============================] - 0s 1ms/step - loss: 2.6599e-04 - val_loss: 7.2732e-04\n",
      "Epoch 59/100\n",
      "57/57 [==============================] - 0s 2ms/step - loss: 2.7398e-04 - val_loss: 8.5259e-04\n",
      "Epoch 60/100\n",
      "57/57 [==============================] - 0s 2ms/step - loss: 2.8862e-04 - val_loss: 7.0080e-04\n",
      "Epoch 61/100\n",
      "57/57 [==============================] - 0s 2ms/step - loss: 2.2474e-04 - val_loss: 7.4352e-04\n",
      "Epoch 62/100\n",
      "57/57 [==============================] - 0s 1ms/step - loss: 2.0305e-04 - val_loss: 0.0012\n",
      "Epoch 63/100\n",
      "57/57 [==============================] - 0s 2ms/step - loss: 2.9478e-04 - val_loss: 8.2549e-04\n",
      "Epoch 64/100\n",
      "57/57 [==============================] - 0s 2ms/step - loss: 2.2258e-04 - val_loss: 7.3716e-04\n",
      "Epoch 65/100\n",
      "57/57 [==============================] - 0s 2ms/step - loss: 2.2298e-04 - val_loss: 7.5719e-04\n",
      "Epoch 66/100\n",
      "57/57 [==============================] - 0s 2ms/step - loss: 1.9454e-04 - val_loss: 6.9259e-04\n",
      "Epoch 67/100\n",
      "57/57 [==============================] - 0s 2ms/step - loss: 1.9334e-04 - val_loss: 7.2874e-04\n",
      "Epoch 68/100\n",
      "57/57 [==============================] - 0s 2ms/step - loss: 1.7238e-04 - val_loss: 7.1589e-04\n",
      "Epoch 69/100\n",
      "57/57 [==============================] - 0s 2ms/step - loss: 1.8083e-04 - val_loss: 7.4759e-04\n",
      "Epoch 70/100\n",
      "57/57 [==============================] - 0s 2ms/step - loss: 2.7993e-04 - val_loss: 7.3115e-04\n",
      "Epoch 71/100\n",
      "57/57 [==============================] - 0s 2ms/step - loss: 1.8780e-04 - val_loss: 7.1482e-04\n",
      "Epoch 72/100\n",
      "57/57 [==============================] - 0s 2ms/step - loss: 1.6584e-04 - val_loss: 7.6571e-04\n",
      "Epoch 73/100\n",
      "57/57 [==============================] - 0s 2ms/step - loss: 2.0926e-04 - val_loss: 7.4714e-04\n",
      "Epoch 74/100\n",
      "57/57 [==============================] - 0s 2ms/step - loss: 1.9803e-04 - val_loss: 7.3172e-04\n",
      "Epoch 75/100\n",
      "57/57 [==============================] - 0s 2ms/step - loss: 1.9496e-04 - val_loss: 8.0457e-04\n",
      "Epoch 76/100\n",
      "57/57 [==============================] - 0s 2ms/step - loss: 2.1029e-04 - val_loss: 8.9969e-04\n",
      "Epoch 77/100\n",
      "57/57 [==============================] - 0s 2ms/step - loss: 2.3194e-04 - val_loss: 9.3626e-04\n",
      "Epoch 78/100\n",
      "57/57 [==============================] - 0s 2ms/step - loss: 3.3640e-04 - val_loss: 7.9886e-04\n"
     ]
    },
    {
     "name": "stdout",
     "output_type": "stream",
     "text": [
      "Epoch 79/100\n",
      "57/57 [==============================] - 0s 2ms/step - loss: 2.7766e-04 - val_loss: 7.6823e-04\n",
      "Epoch 80/100\n",
      "57/57 [==============================] - 0s 2ms/step - loss: 1.5897e-04 - val_loss: 7.0677e-04\n",
      "Epoch 81/100\n",
      "57/57 [==============================] - 0s 2ms/step - loss: 1.5405e-04 - val_loss: 7.0977e-04\n",
      "Epoch 82/100\n",
      "57/57 [==============================] - 0s 2ms/step - loss: 2.1451e-04 - val_loss: 8.5639e-04\n",
      "Epoch 83/100\n",
      "57/57 [==============================] - 0s 2ms/step - loss: 2.4373e-04 - val_loss: 8.8669e-04\n",
      "Epoch 84/100\n",
      "57/57 [==============================] - 0s 2ms/step - loss: 2.1275e-04 - val_loss: 6.2400e-04\n",
      "Epoch 85/100\n",
      "57/57 [==============================] - 0s 2ms/step - loss: 1.4312e-04 - val_loss: 6.8286e-04\n",
      "Epoch 86/100\n",
      "57/57 [==============================] - 0s 2ms/step - loss: 1.8897e-04 - val_loss: 6.4435e-04\n",
      "Epoch 87/100\n",
      "57/57 [==============================] - 0s 1ms/step - loss: 1.4564e-04 - val_loss: 6.6667e-04\n",
      "Epoch 88/100\n",
      "57/57 [==============================] - 0s 2ms/step - loss: 1.7247e-04 - val_loss: 6.6814e-04\n",
      "Epoch 89/100\n",
      "57/57 [==============================] - 0s 2ms/step - loss: 1.5853e-04 - val_loss: 6.8691e-04\n",
      "Epoch 90/100\n",
      "57/57 [==============================] - 0s 2ms/step - loss: 1.8959e-04 - val_loss: 6.5588e-04\n",
      "Epoch 91/100\n",
      "57/57 [==============================] - 0s 2ms/step - loss: 1.6211e-04 - val_loss: 6.8758e-04\n",
      "Epoch 92/100\n",
      "57/57 [==============================] - 0s 2ms/step - loss: 1.7779e-04 - val_loss: 0.0010\n",
      "Epoch 93/100\n",
      "57/57 [==============================] - 0s 2ms/step - loss: 1.7878e-04 - val_loss: 6.4095e-04\n",
      "Epoch 94/100\n",
      "57/57 [==============================] - 0s 2ms/step - loss: 1.4328e-04 - val_loss: 6.9983e-04\n",
      "Epoch 95/100\n",
      "57/57 [==============================] - 0s 2ms/step - loss: 1.5240e-04 - val_loss: 6.1491e-04\n",
      "Epoch 96/100\n",
      "57/57 [==============================] - 0s 2ms/step - loss: 1.1370e-04 - val_loss: 6.7418e-04\n",
      "Epoch 97/100\n",
      "57/57 [==============================] - 0s 2ms/step - loss: 1.1785e-04 - val_loss: 6.4161e-04\n",
      "Epoch 98/100\n",
      "57/57 [==============================] - 0s 2ms/step - loss: 1.1668e-04 - val_loss: 6.9772e-04\n",
      "Epoch 99/100\n",
      "57/57 [==============================] - 0s 2ms/step - loss: 1.4317e-04 - val_loss: 6.1994e-04\n",
      "Epoch 100/100\n",
      "57/57 [==============================] - 0s 1ms/step - loss: 1.3322e-04 - val_loss: 6.7785e-04\n"
     ]
    }
   ],
   "source": [
    "history=model.fit(X_train,y_train,epochs=100,validation_split=0.15)"
   ]
  },
  {
   "cell_type": "code",
   "execution_count": 65,
   "id": "e3c2f4d6",
   "metadata": {},
   "outputs": [],
   "source": [
    "from sklearn.metrics import r2_score"
   ]
  },
  {
   "cell_type": "code",
   "execution_count": 66,
   "id": "d3c7616d",
   "metadata": {},
   "outputs": [
    {
     "name": "stdout",
     "output_type": "stream",
     "text": [
      "67/67 [==============================] - 0s 1ms/step\n"
     ]
    }
   ],
   "source": [
    "y_train_pre=model.predict(X_train)"
   ]
  },
  {
   "cell_type": "code",
   "execution_count": 67,
   "id": "d61fb9be",
   "metadata": {},
   "outputs": [
    {
     "data": {
      "text/plain": [
       "0.9840767340455251"
      ]
     },
     "execution_count": 67,
     "metadata": {},
     "output_type": "execute_result"
    }
   ],
   "source": [
    "#r2 value for train data\n",
    "r2_train=r2_score(y_train,y_train_pre)\n",
    "r2_train"
   ]
  },
  {
   "cell_type": "code",
   "execution_count": 68,
   "id": "aec2cbaf",
   "metadata": {},
   "outputs": [
    {
     "name": "stdout",
     "output_type": "stream",
     "text": [
      "12/12 [==============================] - 0s 2ms/step\n"
     ]
    },
    {
     "data": {
      "text/plain": [
       "0.9416797822463763"
      ]
     },
     "execution_count": 68,
     "metadata": {},
     "output_type": "execute_result"
    }
   ],
   "source": [
    "#r2 value for test data\n",
    "y_test_pre=model.predict(X_test)\n",
    "r2_test=r2_score(y_test,y_test_pre)\n",
    "r2_test"
   ]
  },
  {
   "cell_type": "code",
   "execution_count": 69,
   "id": "967884b8",
   "metadata": {},
   "outputs": [
    {
     "name": "stdout",
     "output_type": "stream",
     "text": [
      "67/67 [==============================] - 0s 1ms/step\n"
     ]
    },
    {
     "data": {
      "text/plain": [
       "0.00019894343425426724"
      ]
     },
     "execution_count": 69,
     "metadata": {},
     "output_type": "execute_result"
    }
   ],
   "source": [
    "#Mean squared error for training data\n",
    "from sklearn.metrics import mean_squared_error\n",
    "y_pred = model.predict(X_train)\n",
    "mse = mean_squared_error(y_train, y_pred)\n",
    "mse"
   ]
  },
  {
   "cell_type": "code",
   "execution_count": 70,
   "id": "944a60f4",
   "metadata": {},
   "outputs": [
    {
     "data": {
      "text/plain": [
       "<matplotlib.collections.PathCollection at 0x2be3e714e50>"
      ]
     },
     "execution_count": 70,
     "metadata": {},
     "output_type": "execute_result"
    },
    {
     "data": {
      "image/png": "[encoded data removed]",
      "text/plain": [
       "<Figure size 432x288 with 1 Axes>"
      ]
     },
     "metadata": {
      "needs_background": "light"
     },
     "output_type": "display_data"
    }
   ],
   "source": [
    "from matplotlib import pyplot as p\n",
    "p.scatter(y_train, y_pred)"
   ]
  },
  {
   "cell_type": "code",
   "execution_count": 71,
   "id": "5f2669b8",
   "metadata": {},
   "outputs": [
    {
     "data": {
      "text/plain": [
       "<matplotlib.collections.PathCollection at 0x2be3e6c9040>"
      ]
     },
     "execution_count": 71,
     "metadata": {},
     "output_type": "execute_result"
    },
    {
     "data": {
      "image/png": "[encoded data removed]",
      "text/plain": [
       "<Figure size 432x288 with 1 Axes>"
      ]
     },
     "metadata": {
      "needs_background": "light"
     },
     "output_type": "display_data"
    }
   ],
   "source": [
    "p.scatter(y_test,y_test_pre)"
   ]
  },
  {
   "cell_type": "code",
   "execution_count": 72,
   "id": "48e61778",
   "metadata": {},
   "outputs": [
    {
     "ename": "SyntaxError",
     "evalue": "invalid syntax (2066148407.py, line 1)",
     "output_type": "error",
     "traceback": [
      "\u001b[1;36m  Input \u001b[1;32mIn [72]\u001b[1;36m\u001b[0m\n\u001b[1;33m    ITERATION 3\u001b[0m\n\u001b[1;37m              ^\u001b[0m\n\u001b[1;31mSyntaxError\u001b[0m\u001b[1;31m:\u001b[0m invalid syntax\n"
     ]
    }
   ],
   "source": [
    "ITERATION 3"
   ]
  },
  {
   "cell_type": "code",
   "execution_count": 73,
   "id": "dea99cf3",
   "metadata": {},
   "outputs": [],
   "source": [
    "#Creating ANN with mentioned nodes, with variation in the hidden layers.\n",
    "model=Sequential()\n",
    "model.add(Dense(140,input_dim=9,activation='relu'))\n",
    "model.add(Dense(150,activation='relu'))\n",
    "model.add(Dense(1,activation='linear'))"
   ]
  },
  {
   "cell_type": "code",
   "execution_count": 74,
   "id": "d995f2fd",
   "metadata": {},
   "outputs": [
    {
     "name": "stdout",
     "output_type": "stream",
     "text": [
      "Model: \"sequential_4\"\n",
      "_________________________________________________________________\n",
      " Layer (type)                Output Shape              Param #   \n",
      "=================================================================\n",
      " dense_12 (Dense)            (None, 140)               1400      \n",
      "                                                                 \n",
      " dense_13 (Dense)            (None, 150)               21150     \n",
      "                                                                 \n",
      " dense_14 (Dense)            (None, 1)                 151       \n",
      "                                                                 \n",
      "=================================================================\n",
      "Total params: 22,701\n",
      "Trainable params: 22,701\n",
      "Non-trainable params: 0\n",
      "_________________________________________________________________\n",
      "None\n"
     ]
    }
   ],
   "source": [
    "print(model.summary())"
   ]
  },
  {
   "cell_type": "code",
   "execution_count": 75,
   "id": "5a5b0111",
   "metadata": {},
   "outputs": [],
   "source": [
    "#Training the ANN using adam optimiser and MSE loss f.\n",
    "model.compile(optimizer='adam',loss='MSE')"
   ]
  },
  {
   "cell_type": "code",
   "execution_count": 76,
   "id": "a75f55c2",
   "metadata": {},
   "outputs": [
    {
     "name": "stdout",
     "output_type": "stream",
     "text": [
      "Epoch 1/100\n",
      "57/57 [==============================] - 1s 4ms/step - loss: 0.0318 - val_loss: 0.0062\n",
      "Epoch 2/100\n",
      "57/57 [==============================] - 0s 2ms/step - loss: 0.0057 - val_loss: 0.0044\n",
      "Epoch 3/100\n",
      "57/57 [==============================] - 0s 2ms/step - loss: 0.0044 - val_loss: 0.0037\n",
      "Epoch 4/100\n",
      "57/57 [==============================] - 0s 2ms/step - loss: 0.0038 - val_loss: 0.0031\n",
      "Epoch 5/100\n",
      "57/57 [==============================] - 0s 2ms/step - loss: 0.0033 - val_loss: 0.0029\n",
      "Epoch 6/100\n",
      "57/57 [==============================] - 0s 3ms/step - loss: 0.0030 - val_loss: 0.0028\n",
      "Epoch 7/100\n",
      "57/57 [==============================] - 0s 3ms/step - loss: 0.0026 - val_loss: 0.0024\n",
      "Epoch 8/100\n",
      "57/57 [==============================] - 0s 3ms/step - loss: 0.0026 - val_loss: 0.0027\n",
      "Epoch 9/100\n",
      "57/57 [==============================] - 0s 3ms/step - loss: 0.0021 - val_loss: 0.0023\n",
      "Epoch 10/100\n",
      "57/57 [==============================] - 0s 2ms/step - loss: 0.0019 - val_loss: 0.0021\n",
      "Epoch 11/100\n",
      "57/57 [==============================] - 0s 3ms/step - loss: 0.0016 - val_loss: 0.0021\n",
      "Epoch 12/100\n",
      "57/57 [==============================] - 0s 3ms/step - loss: 0.0015 - val_loss: 0.0017\n",
      "Epoch 13/100\n",
      "57/57 [==============================] - 0s 3ms/step - loss: 0.0013 - val_loss: 0.0020\n",
      "Epoch 14/100\n",
      "57/57 [==============================] - 0s 2ms/step - loss: 0.0013 - val_loss: 0.0018\n",
      "Epoch 15/100\n",
      "57/57 [==============================] - 0s 2ms/step - loss: 0.0011 - val_loss: 0.0019\n",
      "Epoch 16/100\n",
      "57/57 [==============================] - 0s 2ms/step - loss: 0.0010 - val_loss: 0.0018\n",
      "Epoch 17/100\n",
      "57/57 [==============================] - 0s 1ms/step - loss: 8.8957e-04 - val_loss: 0.0015\n",
      "Epoch 18/100\n",
      "57/57 [==============================] - 0s 2ms/step - loss: 8.6823e-04 - val_loss: 0.0015\n",
      "Epoch 19/100\n",
      "57/57 [==============================] - 0s 2ms/step - loss: 8.0784e-04 - val_loss: 0.0013\n",
      "Epoch 20/100\n",
      "57/57 [==============================] - 0s 2ms/step - loss: 6.9872e-04 - val_loss: 0.0014\n",
      "Epoch 21/100\n",
      "57/57 [==============================] - 0s 2ms/step - loss: 7.2561e-04 - val_loss: 0.0012\n",
      "Epoch 22/100\n",
      "57/57 [==============================] - 0s 2ms/step - loss: 6.2305e-04 - val_loss: 0.0013\n",
      "Epoch 23/100\n",
      "57/57 [==============================] - 0s 2ms/step - loss: 5.6561e-04 - val_loss: 0.0011\n",
      "Epoch 24/100\n",
      "57/57 [==============================] - 0s 2ms/step - loss: 6.1659e-04 - val_loss: 0.0013\n",
      "Epoch 25/100\n",
      "57/57 [==============================] - 0s 2ms/step - loss: 5.6654e-04 - val_loss: 0.0012\n",
      "Epoch 26/100\n",
      "57/57 [==============================] - 0s 2ms/step - loss: 4.5781e-04 - val_loss: 0.0012\n",
      "Epoch 27/100\n",
      "57/57 [==============================] - 0s 2ms/step - loss: 4.5928e-04 - val_loss: 0.0011\n",
      "Epoch 28/100\n",
      "57/57 [==============================] - 0s 2ms/step - loss: 4.4160e-04 - val_loss: 9.8284e-04\n",
      "Epoch 29/100\n",
      "57/57 [==============================] - 0s 2ms/step - loss: 4.2946e-04 - val_loss: 0.0011\n",
      "Epoch 30/100\n",
      "57/57 [==============================] - 0s 2ms/step - loss: 4.5340e-04 - val_loss: 0.0011\n",
      "Epoch 31/100\n",
      "57/57 [==============================] - 0s 2ms/step - loss: 4.0700e-04 - val_loss: 0.0010\n",
      "Epoch 32/100\n",
      "57/57 [==============================] - 0s 2ms/step - loss: 5.0815e-04 - val_loss: 0.0017\n",
      "Epoch 33/100\n",
      "57/57 [==============================] - 0s 2ms/step - loss: 4.6994e-04 - val_loss: 9.8930e-04\n",
      "Epoch 34/100\n",
      "57/57 [==============================] - 0s 2ms/step - loss: 3.0690e-04 - val_loss: 9.9220e-04\n",
      "Epoch 35/100\n",
      "57/57 [==============================] - 0s 2ms/step - loss: 3.2048e-04 - val_loss: 9.6074e-04\n",
      "Epoch 36/100\n",
      "57/57 [==============================] - 0s 2ms/step - loss: 3.2338e-04 - val_loss: 9.5422e-04\n",
      "Epoch 37/100\n",
      "57/57 [==============================] - 0s 2ms/step - loss: 3.3189e-04 - val_loss: 0.0010\n",
      "Epoch 38/100\n",
      "57/57 [==============================] - 0s 2ms/step - loss: 2.7878e-04 - val_loss: 9.1317e-04\n",
      "Epoch 39/100\n",
      "57/57 [==============================] - 0s 2ms/step - loss: 3.1402e-04 - val_loss: 9.4569e-04\n",
      "Epoch 40/100\n",
      "57/57 [==============================] - 0s 2ms/step - loss: 2.7383e-04 - val_loss: 8.8391e-04\n",
      "Epoch 41/100\n",
      "57/57 [==============================] - 0s 2ms/step - loss: 2.6620e-04 - val_loss: 0.0011\n",
      "Epoch 42/100\n",
      "57/57 [==============================] - 0s 2ms/step - loss: 2.8308e-04 - val_loss: 8.5829e-04\n",
      "Epoch 43/100\n",
      "57/57 [==============================] - 0s 2ms/step - loss: 2.2288e-04 - val_loss: 8.6689e-04\n",
      "Epoch 44/100\n",
      "57/57 [==============================] - 0s 2ms/step - loss: 2.3125e-04 - val_loss: 0.0010\n",
      "Epoch 45/100\n",
      "57/57 [==============================] - 0s 2ms/step - loss: 2.9355e-04 - val_loss: 0.0011\n",
      "Epoch 46/100\n",
      "57/57 [==============================] - 0s 2ms/step - loss: 2.2949e-04 - val_loss: 8.1763e-04\n",
      "Epoch 47/100\n",
      "57/57 [==============================] - 0s 2ms/step - loss: 2.3898e-04 - val_loss: 0.0011\n",
      "Epoch 48/100\n",
      "57/57 [==============================] - 0s 2ms/step - loss: 2.6642e-04 - val_loss: 8.6576e-04\n",
      "Epoch 49/100\n",
      "57/57 [==============================] - 0s 2ms/step - loss: 2.1184e-04 - val_loss: 8.6272e-04\n",
      "Epoch 50/100\n",
      "57/57 [==============================] - 0s 2ms/step - loss: 2.1331e-04 - val_loss: 8.4904e-04\n",
      "Epoch 51/100\n",
      "57/57 [==============================] - 0s 2ms/step - loss: 2.2781e-04 - val_loss: 7.9303e-04\n",
      "Epoch 52/100\n",
      "57/57 [==============================] - 0s 2ms/step - loss: 2.0593e-04 - val_loss: 8.8571e-04\n",
      "Epoch 53/100\n",
      "57/57 [==============================] - 0s 2ms/step - loss: 2.1529e-04 - val_loss: 8.0594e-04\n",
      "Epoch 54/100\n",
      "57/57 [==============================] - 0s 2ms/step - loss: 2.1830e-04 - val_loss: 9.5725e-04\n",
      "Epoch 55/100\n",
      "57/57 [==============================] - 0s 2ms/step - loss: 2.1563e-04 - val_loss: 8.4305e-04\n",
      "Epoch 56/100\n",
      "57/57 [==============================] - 0s 2ms/step - loss: 1.9298e-04 - val_loss: 8.0546e-04\n",
      "Epoch 57/100\n",
      "57/57 [==============================] - 0s 2ms/step - loss: 1.8929e-04 - val_loss: 8.4270e-04\n",
      "Epoch 58/100\n",
      "57/57 [==============================] - 0s 2ms/step - loss: 2.8644e-04 - val_loss: 8.0250e-04\n",
      "Epoch 59/100\n",
      "57/57 [==============================] - 0s 2ms/step - loss: 1.6837e-04 - val_loss: 8.4436e-04\n",
      "Epoch 60/100\n",
      "57/57 [==============================] - 0s 2ms/step - loss: 1.5219e-04 - val_loss: 7.5852e-04\n",
      "Epoch 61/100\n",
      "57/57 [==============================] - 0s 2ms/step - loss: 1.5278e-04 - val_loss: 8.6911e-04\n",
      "Epoch 62/100\n",
      "57/57 [==============================] - 0s 2ms/step - loss: 1.7722e-04 - val_loss: 8.0904e-04\n",
      "Epoch 63/100\n",
      "57/57 [==============================] - 0s 2ms/step - loss: 1.6947e-04 - val_loss: 8.4987e-04\n",
      "Epoch 64/100\n",
      "57/57 [==============================] - 0s 2ms/step - loss: 2.0948e-04 - val_loss: 7.7459e-04\n",
      "Epoch 65/100\n",
      "57/57 [==============================] - 0s 2ms/step - loss: 2.4190e-04 - val_loss: 9.2595e-04\n",
      "Epoch 66/100\n",
      "57/57 [==============================] - 0s 2ms/step - loss: 1.6595e-04 - val_loss: 7.5264e-04\n",
      "Epoch 67/100\n",
      "57/57 [==============================] - 0s 2ms/step - loss: 1.5189e-04 - val_loss: 7.5649e-04\n",
      "Epoch 68/100\n",
      "57/57 [==============================] - 0s 2ms/step - loss: 1.4955e-04 - val_loss: 7.6834e-04\n",
      "Epoch 69/100\n",
      "57/57 [==============================] - 0s 2ms/step - loss: 1.7854e-04 - val_loss: 9.3099e-04\n",
      "Epoch 70/100\n",
      "57/57 [==============================] - 0s 2ms/step - loss: 1.6465e-04 - val_loss: 7.5825e-04\n",
      "Epoch 71/100\n",
      "57/57 [==============================] - 0s 2ms/step - loss: 1.5155e-04 - val_loss: 7.6176e-04\n",
      "Epoch 72/100\n",
      "57/57 [==============================] - 0s 2ms/step - loss: 1.4137e-04 - val_loss: 7.5914e-04\n",
      "Epoch 73/100\n",
      "57/57 [==============================] - 0s 2ms/step - loss: 1.6606e-04 - val_loss: 7.5454e-04\n",
      "Epoch 74/100\n",
      "57/57 [==============================] - 0s 2ms/step - loss: 1.6523e-04 - val_loss: 8.1798e-04\n",
      "Epoch 75/100\n",
      "57/57 [==============================] - 0s 2ms/step - loss: 1.2972e-04 - val_loss: 7.6909e-04\n",
      "Epoch 76/100\n",
      "57/57 [==============================] - 0s 2ms/step - loss: 1.1439e-04 - val_loss: 7.4723e-04\n",
      "Epoch 77/100\n",
      "57/57 [==============================] - 0s 2ms/step - loss: 1.5586e-04 - val_loss: 7.7923e-04\n",
      "Epoch 78/100\n",
      "57/57 [==============================] - 0s 2ms/step - loss: 3.6600e-04 - val_loss: 9.0223e-04\n"
     ]
    },
    {
     "name": "stdout",
     "output_type": "stream",
     "text": [
      "Epoch 79/100\n",
      "57/57 [==============================] - 0s 1ms/step - loss: 2.8247e-04 - val_loss: 8.5780e-04\n",
      "Epoch 80/100\n",
      "57/57 [==============================] - 0s 2ms/step - loss: 2.2253e-04 - val_loss: 8.1665e-04\n",
      "Epoch 81/100\n",
      "57/57 [==============================] - 0s 2ms/step - loss: 1.4033e-04 - val_loss: 7.2820e-04\n",
      "Epoch 82/100\n",
      "57/57 [==============================] - 0s 2ms/step - loss: 1.3116e-04 - val_loss: 7.2240e-04\n",
      "Epoch 83/100\n",
      "57/57 [==============================] - 0s 2ms/step - loss: 1.1254e-04 - val_loss: 8.1671e-04\n",
      "Epoch 84/100\n",
      "57/57 [==============================] - 0s 1ms/step - loss: 1.1472e-04 - val_loss: 8.3226e-04\n",
      "Epoch 85/100\n",
      "57/57 [==============================] - 0s 2ms/step - loss: 1.4638e-04 - val_loss: 6.6223e-04\n",
      "Epoch 86/100\n",
      "57/57 [==============================] - 0s 2ms/step - loss: 1.0956e-04 - val_loss: 6.6263e-04\n",
      "Epoch 87/100\n",
      "57/57 [==============================] - 0s 2ms/step - loss: 1.0015e-04 - val_loss: 7.1124e-04\n",
      "Epoch 88/100\n",
      "57/57 [==============================] - 0s 1ms/step - loss: 1.0931e-04 - val_loss: 7.1582e-04\n",
      "Epoch 89/100\n",
      "57/57 [==============================] - 0s 2ms/step - loss: 9.1209e-05 - val_loss: 7.5596e-04\n",
      "Epoch 90/100\n",
      "57/57 [==============================] - 0s 2ms/step - loss: 9.5351e-05 - val_loss: 6.7180e-04\n",
      "Epoch 91/100\n",
      "57/57 [==============================] - 0s 2ms/step - loss: 1.4841e-04 - val_loss: 7.7068e-04\n",
      "Epoch 92/100\n",
      "57/57 [==============================] - 0s 2ms/step - loss: 1.0598e-04 - val_loss: 6.9577e-04\n",
      "Epoch 93/100\n",
      "57/57 [==============================] - 0s 2ms/step - loss: 1.0612e-04 - val_loss: 8.5924e-04\n",
      "Epoch 94/100\n",
      "57/57 [==============================] - 0s 2ms/step - loss: 1.4693e-04 - val_loss: 7.1803e-04\n",
      "Epoch 95/100\n",
      "57/57 [==============================] - 0s 1ms/step - loss: 1.9422e-04 - val_loss: 6.7136e-04\n",
      "Epoch 96/100\n",
      "57/57 [==============================] - 0s 2ms/step - loss: 1.3212e-04 - val_loss: 6.7125e-04\n",
      "Epoch 97/100\n",
      "57/57 [==============================] - 0s 2ms/step - loss: 1.2832e-04 - val_loss: 6.2431e-04\n",
      "Epoch 98/100\n",
      "57/57 [==============================] - 0s 2ms/step - loss: 1.2397e-04 - val_loss: 7.7860e-04\n",
      "Epoch 99/100\n",
      "57/57 [==============================] - 0s 2ms/step - loss: 2.1355e-04 - val_loss: 8.9190e-04\n",
      "Epoch 100/100\n",
      "57/57 [==============================] - 0s 2ms/step - loss: 2.0967e-04 - val_loss: 6.2918e-04\n"
     ]
    }
   ],
   "source": [
    "history=model.fit(X_train,y_train,epochs=100,validation_split=0.15)"
   ]
  },
  {
   "cell_type": "code",
   "execution_count": 77,
   "id": "c013aa45",
   "metadata": {},
   "outputs": [],
   "source": [
    "from sklearn.metrics import r2_score"
   ]
  },
  {
   "cell_type": "code",
   "execution_count": 78,
   "id": "35e4f40f",
   "metadata": {},
   "outputs": [
    {
     "name": "stdout",
     "output_type": "stream",
     "text": [
      "67/67 [==============================] - 0s 1ms/step\n"
     ]
    }
   ],
   "source": [
    "y_train_pre=model.predict(X_train)"
   ]
  },
  {
   "cell_type": "code",
   "execution_count": 79,
   "id": "72686499",
   "metadata": {},
   "outputs": [
    {
     "data": {
      "text/plain": [
       "0.9820407326557841"
      ]
     },
     "execution_count": 79,
     "metadata": {},
     "output_type": "execute_result"
    }
   ],
   "source": [
    "#r2 value for train data\n",
    "r2_train=r2_score(y_train,y_train_pre)\n",
    "r2_train"
   ]
  },
  {
   "cell_type": "code",
   "execution_count": 80,
   "id": "25f6641a",
   "metadata": {},
   "outputs": [
    {
     "name": "stdout",
     "output_type": "stream",
     "text": [
      "12/12 [==============================] - 0s 2ms/step\n"
     ]
    },
    {
     "data": {
      "text/plain": [
       "0.9492731988170308"
      ]
     },
     "execution_count": 80,
     "metadata": {},
     "output_type": "execute_result"
    }
   ],
   "source": [
    "#r2 value for test data\n",
    "y_test_pre=model.predict(X_test)\n",
    "r2_test=r2_score(y_test,y_test_pre)\n",
    "r2_test"
   ]
  },
  {
   "cell_type": "code",
   "execution_count": 81,
   "id": "75c43a96",
   "metadata": {},
   "outputs": [
    {
     "name": "stdout",
     "output_type": "stream",
     "text": [
      "67/67 [==============================] - 0s 1ms/step\n"
     ]
    },
    {
     "data": {
      "text/plain": [
       "0.00022438099899629852"
      ]
     },
     "execution_count": 81,
     "metadata": {},
     "output_type": "execute_result"
    }
   ],
   "source": [
    "#Mean squared error for training data\n",
    "from sklearn.metrics import mean_squared_error\n",
    "y_pred = model.predict(X_train)\n",
    "mse = mean_squared_error(y_train, y_pred)\n",
    "mse"
   ]
  },
  {
   "cell_type": "code",
   "execution_count": 82,
   "id": "6f2a30d8",
   "metadata": {},
   "outputs": [
    {
     "data": {
      "text/plain": [
       "<matplotlib.collections.PathCollection at 0x2be3fb05160>"
      ]
     },
     "execution_count": 82,
     "metadata": {},
     "output_type": "execute_result"
    },
    {
     "data": {
      "image/png": "[encoded data removed]",
      "text/plain": [
       "<Figure size 432x288 with 1 Axes>"
      ]
     },
     "metadata": {
      "needs_background": "light"
     },
     "output_type": "display_data"
    }
   ],
   "source": [
    "from matplotlib import pyplot as p\n",
    "p.scatter(y_train, y_pred)"
   ]
  },
  {
   "cell_type": "code",
   "execution_count": 83,
   "id": "5a36af14",
   "metadata": {},
   "outputs": [
    {
     "data": {
      "text/plain": [
       "<matplotlib.collections.PathCollection at 0x2be3eac6370>"
      ]
     },
     "execution_count": 83,
     "metadata": {},
     "output_type": "execute_result"
    },
    {
     "data": {
      "image/png": "[encoded data removed]",
      "text/plain": [
       "<Figure size 432x288 with 1 Axes>"
      ]
     },
     "metadata": {
      "needs_background": "light"
     },
     "output_type": "display_data"
    }
   ],
   "source": [
    "p.scatter(y_test,y_test_pre)"
   ]
  },
  {
   "cell_type": "code",
   "execution_count": null,
   "id": "5e9c0335",
   "metadata": {},
   "outputs": [],
   "source": []
  }
 ],
 "metadata": {
  "kernelspec": {
   "display_name": "Python 3 (ipykernel)",
   "language": "python",
   "name": "python3"
  },
  "language_info": {
   "codemirror_mode": {
    "name": "ipython",
    "version": 3
   },
   "file_extension": ".py",
   "mimetype": "text/x-python",
   "name": "python",
   "nbconvert_exporter": "python",
   "pygments_lexer": "ipython3",
   "version": "3.9.12"
  }
 },
 "nbformat": 4,
 "nbformat_minor": 5
}
